{
 "cells": [
  {
   "cell_type": "code",
   "execution_count": 1,
   "id": "f894eaf2-f871-4c9e-a9f0-cf2f3113e4e8",
   "metadata": {},
   "outputs": [
    {
     "name": "stdout",
     "output_type": "stream",
     "text": [
      "Requirement already satisfied: pandas in /usr/local/lib/python3.10/dist-packages (2.2.3)\n",
      "Requirement already satisfied: numpy in /usr/local/lib/python3.10/dist-packages (2.2.1)\n",
      "Requirement already satisfied: matplotlib in /usr/local/lib/python3.10/dist-packages (3.10.0)\n",
      "Requirement already satisfied: pyarrow in /usr/local/lib/python3.10/dist-packages (18.1.0)\n",
      "Requirement already satisfied: scikit-learn in /usr/local/lib/python3.10/dist-packages (1.6.0)\n",
      "Requirement already satisfied: tkan in /usr/local/lib/python3.10/dist-packages (0.4.3)\n",
      "Requirement already satisfied: temporal_linear_network in /usr/local/lib/python3.10/dist-packages (0.1.2)\n",
      "Requirement already satisfied: scipy in /usr/local/lib/python3.10/dist-packages (1.14.1)\n",
      "Requirement already satisfied: jax[cuda12] in /usr/local/lib/python3.10/dist-packages (0.4.38)\n",
      "Requirement already satisfied: seaborn in /usr/local/lib/python3.10/dist-packages (0.13.2)\n",
      "Requirement already satisfied: keras_sig in /usr/local/lib/python3.10/dist-packages (1.0.1)\n",
      "Requirement already satisfied: pytz>=2020.1 in /usr/local/lib/python3.10/dist-packages (from pandas) (2024.2)\n",
      "Requirement already satisfied: python-dateutil>=2.8.2 in /usr/local/lib/python3.10/dist-packages (from pandas) (2.9.0.post0)\n",
      "Requirement already satisfied: tzdata>=2022.7 in /usr/local/lib/python3.10/dist-packages (from pandas) (2024.2)\n",
      "Requirement already satisfied: cycler>=0.10 in /usr/local/lib/python3.10/dist-packages (from matplotlib) (0.12.1)\n",
      "Requirement already satisfied: fonttools>=4.22.0 in /usr/local/lib/python3.10/dist-packages (from matplotlib) (4.55.3)\n",
      "Requirement already satisfied: packaging>=20.0 in /usr/local/lib/python3.10/dist-packages (from matplotlib) (24.2)\n",
      "Requirement already satisfied: kiwisolver>=1.3.1 in /usr/local/lib/python3.10/dist-packages (from matplotlib) (1.4.8)\n",
      "Requirement already satisfied: pillow>=8 in /usr/local/lib/python3.10/dist-packages (from matplotlib) (11.0.0)\n",
      "Requirement already satisfied: pyparsing>=2.3.1 in /usr/lib/python3/dist-packages (from matplotlib) (2.4.7)\n",
      "Requirement already satisfied: contourpy>=1.0.1 in /usr/local/lib/python3.10/dist-packages (from matplotlib) (1.3.1)\n",
      "Requirement already satisfied: joblib>=1.2.0 in /usr/local/lib/python3.10/dist-packages (from scikit-learn) (1.4.2)\n",
      "Requirement already satisfied: threadpoolctl>=3.1.0 in /usr/local/lib/python3.10/dist-packages (from scikit-learn) (3.5.0)\n",
      "Requirement already satisfied: keras<4.0.0,>=3.0.0 in /usr/local/lib/python3.10/dist-packages (from tkan) (3.7.0)\n",
      "Requirement already satisfied: keras_efficient_kan<0.2.0,>=0.1.9 in /usr/local/lib/python3.10/dist-packages (from tkan) (0.1.10)\n",
      "Requirement already satisfied: jaxlib<=0.4.38,>=0.4.38 in /usr/local/lib/python3.10/dist-packages (from jax[cuda12]) (0.4.38)\n",
      "Requirement already satisfied: opt_einsum in /usr/local/lib/python3.10/dist-packages (from jax[cuda12]) (3.4.0)\n",
      "Requirement already satisfied: ml_dtypes>=0.4.0 in /usr/local/lib/python3.10/dist-packages (from jax[cuda12]) (0.5.0)\n",
      "Requirement already satisfied: jax-cuda12-plugin[with_cuda]<=0.4.38,>=0.4.38 in /usr/local/lib/python3.10/dist-packages (from jax[cuda12]) (0.4.38)\n",
      "Requirement already satisfied: jaxtyping<0.3.0,>=0.2.36 in /usr/local/lib/python3.10/dist-packages (from keras_sig) (0.2.36)\n",
      "Requirement already satisfied: jax-cuda12-pjrt==0.4.38 in /usr/local/lib/python3.10/dist-packages (from jax-cuda12-plugin[with_cuda]<=0.4.38,>=0.4.38->jax[cuda12]) (0.4.38)\n",
      "Requirement already satisfied: nvidia-nccl-cu12>=2.18.1 in /usr/local/lib/python3.10/dist-packages (from jax-cuda12-plugin[with_cuda]<=0.4.38,>=0.4.38->jax[cuda12]) (2.23.4)\n",
      "Requirement already satisfied: nvidia-cuda-nvcc-cu12>=12.6.85 in /usr/local/lib/python3.10/dist-packages (from jax-cuda12-plugin[with_cuda]<=0.4.38,>=0.4.38->jax[cuda12]) (12.6.85)\n",
      "Requirement already satisfied: nvidia-cuda-runtime-cu12>=12.1.105 in /usr/local/lib/python3.10/dist-packages (from jax-cuda12-plugin[with_cuda]<=0.4.38,>=0.4.38->jax[cuda12]) (12.6.77)\n",
      "Requirement already satisfied: nvidia-nvjitlink-cu12>=12.1.105 in /usr/local/lib/python3.10/dist-packages (from jax-cuda12-plugin[with_cuda]<=0.4.38,>=0.4.38->jax[cuda12]) (12.6.85)\n",
      "Requirement already satisfied: nvidia-cudnn-cu12<10.0,>=9.1 in /usr/local/lib/python3.10/dist-packages (from jax-cuda12-plugin[with_cuda]<=0.4.38,>=0.4.38->jax[cuda12]) (9.6.0.74)\n",
      "Requirement already satisfied: nvidia-cusolver-cu12>=11.4.5.107 in /usr/local/lib/python3.10/dist-packages (from jax-cuda12-plugin[with_cuda]<=0.4.38,>=0.4.38->jax[cuda12]) (11.7.1.2)\n",
      "Requirement already satisfied: nvidia-cusparse-cu12>=12.1.0.106 in /usr/local/lib/python3.10/dist-packages (from jax-cuda12-plugin[with_cuda]<=0.4.38,>=0.4.38->jax[cuda12]) (12.5.4.2)\n",
      "Requirement already satisfied: nvidia-cufft-cu12>=11.0.2.54 in /usr/local/lib/python3.10/dist-packages (from jax-cuda12-plugin[with_cuda]<=0.4.38,>=0.4.38->jax[cuda12]) (11.3.0.4)\n",
      "Requirement already satisfied: nvidia-cuda-cupti-cu12>=12.1.105 in /usr/local/lib/python3.10/dist-packages (from jax-cuda12-plugin[with_cuda]<=0.4.38,>=0.4.38->jax[cuda12]) (12.6.80)\n",
      "Requirement already satisfied: nvidia-cublas-cu12>=12.1.3.1 in /usr/local/lib/python3.10/dist-packages (from jax-cuda12-plugin[with_cuda]<=0.4.38,>=0.4.38->jax[cuda12]) (12.6.4.1)\n",
      "Requirement already satisfied: absl-py in /usr/local/lib/python3.10/dist-packages (from keras<4.0.0,>=3.0.0->tkan) (2.1.0)\n",
      "Requirement already satisfied: namex in /usr/local/lib/python3.10/dist-packages (from keras<4.0.0,>=3.0.0->tkan) (0.0.8)\n",
      "Requirement already satisfied: optree in /usr/local/lib/python3.10/dist-packages (from keras<4.0.0,>=3.0.0->tkan) (0.13.1)\n",
      "Requirement already satisfied: rich in /usr/local/lib/python3.10/dist-packages (from keras<4.0.0,>=3.0.0->tkan) (13.9.4)\n",
      "Requirement already satisfied: h5py in /usr/local/lib/python3.10/dist-packages (from keras<4.0.0,>=3.0.0->tkan) (3.12.1)\n",
      "Requirement already satisfied: six>=1.5 in /usr/lib/python3/dist-packages (from python-dateutil>=2.8.2->pandas) (1.16.0)\n",
      "Requirement already satisfied: typing-extensions>=4.5.0 in /usr/local/lib/python3.10/dist-packages (from optree->keras<4.0.0,>=3.0.0->tkan) (4.12.2)\n",
      "Requirement already satisfied: pygments<3.0.0,>=2.13.0 in /usr/local/lib/python3.10/dist-packages (from rich->keras<4.0.0,>=3.0.0->tkan) (2.18.0)\n",
      "Requirement already satisfied: markdown-it-py>=2.2.0 in /usr/local/lib/python3.10/dist-packages (from rich->keras<4.0.0,>=3.0.0->tkan) (3.0.0)\n",
      "Requirement already satisfied: mdurl~=0.1 in /usr/local/lib/python3.10/dist-packages (from markdown-it-py>=2.2.0->rich->keras<4.0.0,>=3.0.0->tkan) (0.1.2)\n",
      "\u001b[33mWARNING: Running pip as the 'root' user can result in broken permissions and conflicting behaviour with the system package manager. It is recommended to use a virtual environment instead: https://pip.pypa.io/warnings/venv\u001b[0m\u001b[33m\n",
      "\u001b[0m"
     ]
    }
   ],
   "source": [
    "!pip install pandas numpy matplotlib pyarrow scikit-learn tkan temporal_linear_network scipy \"jax[cuda12]\" seaborn keras_sig"
   ]
  },
  {
   "cell_type": "markdown",
   "id": "b4ee96e2-c485-456b-9888-203425c3cfea",
   "metadata": {},
   "source": [
    "## Dynamic VWAP paper all results\n",
    "\n",
    "Runned using an 3 RTX 4090 + AMD EPYC 9654\n",
    "\n",
    "This notebook was used to run all the results displayed in the paper, but as the session disconnected the notebook itself didn't registered, so only the graphs and table where saved and are not present in the notebook. \n",
    "You can obtain same results are the one in the paper rerunning this notebook still."
   ]
  },
  {
   "cell_type": "code",
   "execution_count": 2,
   "id": "4c489534-bd5f-491e-ae7d-ea4bacd1f627",
   "metadata": {},
   "outputs": [
    {
     "name": "stdout",
     "output_type": "stream",
     "text": [
      "training on ['BTC', 'BCH', 'EOS', 'TRX', 'LINK', 'ADA', 'DASH', 'XTZ', 'BNB', 'IOTA', 'VET', 'QTUM', 'THETA', 'ZIL', 'ZRX', 'OMG', 'SXP', 'BAND', 'MKR', 'DOT', 'YFI', 'CRV', 'TRB', 'RUNE', 'EGLD', 'STORJ', 'UNI', 'FTM', 'ENJ', 'KSM', 'FIL', 'LRC', 'MATIC', 'BEL', 'ALPHA', 'SKL', '1INCH', 'SAND', 'LIT', 'UNFI']\n",
      "\n",
      "testing on ['BTC', 'ETH', 'BCH', 'XRP', 'EOS', 'LTC', 'TRX', 'ETC', 'LINK', 'XLM', 'ADA', 'XMR', 'DASH', 'ZEC', 'XTZ', 'ATOM', 'BNB', 'ONT', 'IOTA', 'BAT', 'VET', 'NEO', 'QTUM', 'IOST', 'THETA', 'ALGO', 'ZIL', 'KNC', 'ZRX', 'COMP', 'OMG', 'DOGE', 'SXP', 'KAVA', 'BAND', 'RLC', 'MKR', 'SNX', 'DOT', 'DEFI', 'YFI', 'BAL', 'CRV', 'WAVES', 'TRB', 'SUSHI', 'RUNE', 'SOL', 'EGLD', 'ICX', 'STORJ', 'BLZ', 'UNI', 'AVAX', 'FTM', 'FLM', 'ENJ', 'REN', 'KSM', 'NEAR', 'FIL', 'AAVE', 'LRC', 'RSR', 'MATIC', 'OCEAN', 'BEL', 'AXS', 'ALPHA', 'ZEN', 'SKL', 'GRT', '1INCH', 'CHZ', 'SAND', 'ANKR', 'LIT', 'CTK', 'UNFI', 'REEF']\n"
     ]
    },
    {
     "data": {
      "text/plain": [
       "[CudaDevice(id=0)]"
      ]
     },
     "execution_count": 2,
     "metadata": {},
     "output_type": "execute_result"
    }
   ],
   "source": [
    "import os\n",
    "import time\n",
    "\n",
    "BACKEND = 'jax'  # You can use any backend here\n",
    "os.environ['KERAS_BACKEND'] = BACKEND\n",
    "\n",
    "import numpy as np\n",
    "import pandas as pd\n",
    "\n",
    "from sklearn.metrics import r2_score\n",
    "\n",
    "import seaborn as sns\n",
    "import matplotlib.pyplot as plt\n",
    "\n",
    "import keras\n",
    "from keras import ops\n",
    "from keras.initializers import Initializer\n",
    "from keras import Model, Sequential\n",
    "from keras.layers import Dense, LSTM, Input, Reshape\n",
    "\n",
    "from tkan import TKAN\n",
    "from tln import TLN\n",
    "\n",
    "from keras_sig import SigLayer\n",
    "\n",
    "import keras \n",
    "from keras import ops\n",
    "from keras import Model, Input\n",
    "from keras.layers import Layer, LSTM, Dense, Input, Add, LayerNormalization, Multiply, Reshape, Activation, TimeDistributed, Flatten, Lambda, MultiHeadAttention, Concatenate, Dropout\n",
    "from keras_efficient_kan import KANLinear\n",
    "\n",
    "\n",
    "keras.utils.set_random_seed(1) \n",
    "\n",
    "early_stopping_callback = lambda : keras.callbacks.EarlyStopping(\n",
    "    monitor=\"val_loss\",\n",
    "    min_delta=0.00001,\n",
    "    patience=13,\n",
    "    mode=\"min\",\n",
    "    restore_best_weights=True,\n",
    "    start_from_epoch=0,\n",
    ")\n",
    "lr_callback = lambda : keras.callbacks.ReduceLROnPlateau(\n",
    "    monitor=\"val_loss\",\n",
    "    factor=0.25,\n",
    "    patience=6,\n",
    "    mode=\"min\",\n",
    "    min_delta=0.00001,\n",
    "    min_lr=0.000025,\n",
    "    verbose=0,\n",
    ")\n",
    "callbacks = lambda : [early_stopping_callback(), lr_callback(), keras.callbacks.TerminateOnNaN()]\n",
    "\n",
    "\n",
    "# Initialize data parallel distribution\n",
    "# It will automatically detect all available GPU devices\n",
    "data_parallel = keras.distribution.DataParallel()\n",
    "\n",
    "# Set the global distribution\n",
    "keras.distribution.set_distribution(data_parallel)\n",
    "\n",
    "import jax\n",
    "N_DEVICES = len(jax.devices())\n",
    "\n",
    "N_MAX_EPOCHS = 1000\n",
    "N_RUNS = 3\n",
    "\n",
    "NOTIONAL_PARQUET_PATH = \"hourly_notionals.parquet\"\n",
    "VOLUME_PARQUET_PATH = \"hourly_volumes.parquet\"\n",
    "CLOSES_PARQUET_PATH = \"hourly_closes.parquet\"\n",
    "\n",
    "sorted_assets = list((pd.read_parquet(VOLUME_PARQUET_PATH)==0).sum(axis=0).sort_values().index)\n",
    "N_ASSETS = 80\n",
    "all_assets = sorted_assets[:N_ASSETS]\n",
    "train_assets = sorted_assets[:N_ASSETS][::2] # 1 over 2\n",
    "print('training on', train_assets)\n",
    "print()\n",
    "print('testing on', all_assets)\n",
    "jax.devices()"
   ]
  },
  {
   "cell_type": "code",
   "execution_count": 3,
   "id": "712d90c4-6356-44fb-8818-2d2708b8e33e",
   "metadata": {},
   "outputs": [],
   "source": [
    "def prepare_data_without_ahead_inputs(vwaps: np.ndarray, volumes: np.ndarray, features: np.ndarray, lookback: int, n_ahead: int, autoscale_target: bool = True):\n",
    "    n_row = vwaps.shape[0]\n",
    "    X = {'prices': np.zeros((n_row - lookback - n_ahead, lookback, 1)), 'volumes': np.zeros((n_row - lookback - n_ahead, lookback, 1)), 'features': np.zeros((n_row - lookback - n_ahead, lookback, features.shape[1]))}\n",
    "    y = {'prices': np.zeros((n_row - lookback - n_ahead, n_ahead, 1)), 'volumes': np.zeros((n_row - lookback - n_ahead, n_ahead, 1))}\n",
    "    offset=0\n",
    "    print('hir?')\n",
    "    for row in range(lookback, n_row - n_ahead):\n",
    "        X[row - lookback-offset] = features[row - lookback:row]\n",
    "        if autoscale_target:\n",
    "            s=np.sum(volumes[row - lookback:row])\n",
    "            if s>0 and np.sum(volumes[row:row + n_ahead])>0:\n",
    "                y['prices'][row - lookback-offset] = np.expand_dims(vwaps[row:row + n_ahead] / vwaps[row - lookback], axis=-1)\n",
    "                y['volumes'][row - lookback-offset] = np.expand_dims(volumes[row:row + n_ahead] / s, axis=-1)\n",
    "            else:\n",
    "                \n",
    "                offset+=1\n",
    "        else:\n",
    "            y['prices'][row - lookback] = np.expand_dims(vwaps[row:row + n_ahead], axis=-1)\n",
    "            y['volumes'][row - lookback] = np.expand_dims(volumes[row:row + n_ahead], axis=-1)\n",
    "    y = np.concatenate([y['volumes'], y['prices']], axis=-1)\n",
    "    \n",
    "    return X[:-offset], y[:-offset]\n",
    "\n",
    "def prepare_data_with_ahead_inputs(vwaps: np.ndarray, volumes: np.ndarray, features: np.ndarray, lookback: int, n_ahead: int, autoscale_target: bool = True):\n",
    "    n_row = vwaps.shape[0]\n",
    "    X = np.zeros((n_row - lookback - n_ahead, lookback + n_ahead - 1, features.shape[1]))\n",
    "    y = {'prices': np.zeros((n_row - lookback - n_ahead, n_ahead, 1)), 'volumes': np.zeros((n_row - lookback - n_ahead, n_ahead, 1))}\n",
    "    offset=0\n",
    "    for row in range(lookback, n_row - n_ahead):\n",
    "        X[row - lookback-offset] = features[row - lookback:row + n_ahead - 1]\n",
    "        if autoscale_target:\n",
    "            s=np.sum(volumes[row - lookback:row])\n",
    "            if s>0 and np.sum(volumes[row:row + n_ahead])>0:\n",
    "                y['prices'][row - lookback-offset] = np.expand_dims(vwaps[row:row + n_ahead] / vwaps[row - lookback], axis=-1)\n",
    "                y['volumes'][row - lookback-offset] = np.expand_dims(volumes[row:row + n_ahead] / s, axis=-1)\n",
    "            else:\n",
    "                offset+=1\n",
    "        else:\n",
    "            y['prices'][row - lookback] = np.expand_dims(vwaps[row:row + n_ahead], axis=-1)\n",
    "            y['volumes'][row - lookback] = np.expand_dims(volumes[row:row + n_ahead], axis=-1)\n",
    "    y = np.concatenate([y['volumes'], y['prices']], axis=-1)\n",
    "    return X[:-offset-1], y[:-offset-1]\n",
    "\n",
    "\n",
    "def full_generate(target_asset, lookback = 120, n_ahead = 12, test_split = 0.2, include_ahead_inputs = False, autoscale_target=True):\n",
    "    volumes = pd.read_parquet(VOLUME_PARQUET_PATH).astype(np.float32)\n",
    "    notionals = pd.read_parquet(NOTIONAL_PARQUET_PATH).astype(np.float32)\n",
    "    assets = [target_asset]\n",
    "    \n",
    "    assert target_asset in assets\n",
    "    volumes = volumes[assets].dropna()\n",
    "    notionals = notionals[assets].dropna()\n",
    "    notionals = notionals.loc[volumes.index]\n",
    "    volumes = volumes.loc[notionals.index]\n",
    "    vwaps = pd.DataFrame(notionals.values / volumes.values, index=volumes.index, columns = volumes.columns)\n",
    "    vwaps = vwaps.ffill().dropna()\n",
    "    notionals = notionals.loc[vwaps.index]\n",
    "    volumes = volumes.loc[vwaps.index]\n",
    "    #Create feature\n",
    "    features = volumes / volumes.shift(lookback + n_ahead).rolling(24 * 7 * 2).mean()\n",
    "    features['hour'] = volumes.index.hour\n",
    "    features['dow'] = volumes.index.dayofweek\n",
    "    for asset in assets:\n",
    "        features[f'returns {asset}'] = vwaps[asset] / vwaps[asset].shift() - 1.\n",
    "    \n",
    "    #Create volume and prices\n",
    "    volumes = volumes[target_asset]\n",
    "    vwaps = vwaps[target_asset]\n",
    "    \n",
    "    #Remove NaN and align\n",
    "    features = features.loc[volumes.index].dropna()\n",
    "    volumes = volumes.loc[features.index]\n",
    "    vwaps = vwaps.ffill().loc[volumes.index]\n",
    "\n",
    "    if include_ahead_inputs:\n",
    "        X, y = prepare_data_with_ahead_inputs(vwaps.values, volumes.values, features.values, lookback, n_ahead, autoscale_target =  autoscale_target)\n",
    "    else:\n",
    "        X, y = prepare_data_without_ahead_inputs(vwaps.values, volumes.values, features.values, lookback, n_ahead, autoscale_target = autoscale_target)\n",
    "    \n",
    "    test_row = int(len(y) * (1 - test_split))\n",
    "    \n",
    "    X_train = X[:test_row]\n",
    "    X_test = X[test_row:]\n",
    "    \n",
    "    y_train, y_test = y[:test_row], y[test_row:]\n",
    "    \n",
    "    return X_train, X_test, y_train, y_test"
   ]
  },
  {
   "cell_type": "markdown",
   "id": "c09cd793-14e7-45b7-afa3-928d8a77350d",
   "metadata": {},
   "source": [
    "# Losses"
   ]
  },
  {
   "cell_type": "code",
   "execution_count": 4,
   "id": "974de24e-30b5-4a1d-a6db-21e5c270b9b6",
   "metadata": {},
   "outputs": [],
   "source": [
    "def quadratic_vwap_loss(y_true, y_pred):\n",
    "    # Ensure all operations are done with float32\n",
    "    vwap_achieved = keras.ops.sum(y_pred[..., 0] * y_true[..., 1], axis = 1) / keras.ops.sum(y_pred[..., 0], axis = 1)\n",
    "    vwap_mkt = keras.ops.sum(y_true[..., 0] * y_true[..., 1], axis = 1) / keras.ops.sum(y_true[..., 0], axis = 1)\n",
    "    vwap_diff = vwap_achieved / vwap_mkt - 1.\n",
    "    loss = keras.ops.mean(keras.ops.square(vwap_diff))\n",
    "    return loss\n",
    "\n",
    "def absolute_vwap_loss(y_true, y_pred):\n",
    "    # Ensure all operations are done with float32\n",
    "    vwap_achieved = keras.ops.sum(y_pred[..., 0] * y_true[..., 1], axis = 1) / keras.ops.sum(y_pred[..., 0], axis = 1)\n",
    "    vwap_mkt = keras.ops.sum(y_true[..., 0] * y_true[..., 1], axis = 1) / keras.ops.sum(y_true[..., 0], axis = 1)\n",
    "    vwap_diff = vwap_achieved / vwap_mkt - 1.\n",
    "    loss = keras.ops.mean(keras.ops.abs(vwap_diff))\n",
    "    return loss\n",
    "\n",
    "def volume_curve_loss(y_true, y_pred):\n",
    "    # Ensure all operations are done with float32\n",
    "    volume_curve_achieved = y_pred[..., 0] / keras.ops.sum(y_pred[..., 0], axis = 1, keepdims=True)\n",
    "    volume_curve_mkt = y_true[..., 0] / keras.ops.sum(y_true[..., 0], axis = 1, keepdims=True)\n",
    "    volume_curve_diff = volume_curve_achieved - volume_curve_mkt\n",
    "    loss = keras.ops.mean(keras.ops.square(volume_curve_diff))\n",
    "    return loss"
   ]
  },
  {
   "cell_type": "markdown",
   "id": "b363eea7-be92-436a-a654-ab3618843792",
   "metadata": {},
   "source": [
    "# Static VWAP model"
   ]
  },
  {
   "cell_type": "code",
   "execution_count": 5,
   "id": "7d4e2793-b0eb-4b1b-b48c-c37a90291d1a",
   "metadata": {},
   "outputs": [],
   "source": [
    "@keras.utils.register_keras_serializable(name=\"StaticVWAP\")\n",
    "class StaticVWAP(Model):\n",
    "    def __init__(self, lookback, n_ahead, input_include_aheads = False, internal_model = None):\n",
    "        super(StaticVWAP, self).__init__()\n",
    "        self.lookback = lookback\n",
    "        self.n_ahead = n_ahead\n",
    "        self.input_include_aheads = input_include_aheads \n",
    "        self.internal_model = internal_model if internal_model is not None else TLN(output_len = n_ahead,\n",
    "                            output_features = 1,\n",
    "                            flatten_output = False,\n",
    "                            hidden_layers = 2,\n",
    "                            use_convolution = True,\n",
    "                            name = 'TLN')\n",
    "\n",
    "    def build(self, input_shape):\n",
    "        if isinstance(input_shape, dict):\n",
    "            feature_shape = input_shape\n",
    "            self.dictionnary_input = True\n",
    "        else:\n",
    "            feature_shape = input_shape\n",
    "            self.dictionnary_input = False\n",
    "        internal_model_input_shape = (feature_shape[0], self.lookback, feature_shape[2])\n",
    "        internal_model_target_output_shape = (feature_shape[0], self.n_ahead, 1)\n",
    "        self.internal_model.build(internal_model_input_shape)\n",
    "        internal_model_output_shape = self.internal_model.compute_output_shape(internal_model_input_shape)\n",
    "        if internal_model_output_shape != internal_model_target_output_shape:\n",
    "            if (*internal_model_output_shape, 1) ==  internal_model_target_output_shape:\n",
    "                self.add_dims_to_internal_model = True\n",
    "            else:\n",
    "                raise ValueError(f\"\"\"internal model do not respect required output shape:\n",
    "                Received inputs shape {internal_model_input_shape} \n",
    "                Return outputs shape {internal_model_output_shape}\n",
    "                Required outputs shape {internal_model_target_output_shape}\n",
    "                \"\"\")\n",
    "        else:\n",
    "            self.add_dims_to_internal_model = False\n",
    "\n",
    "    def call(self, inputs):\n",
    "        if self.dictionnary_input:\n",
    "            features = inputs\n",
    "        else:\n",
    "            features = inputs\n",
    "        if self.input_include_aheads:\n",
    "            features = keras.ops.slice(features, (0,0,0),(features.shape[0], self.lookback, features.shape[2]))\n",
    "        preds = self.internal_model(features)\n",
    "        if self.add_dims_to_internal_model:\n",
    "            preds = keras.ops.expand_dims(preds, axis=-1)\n",
    "        volume_curve = keras.ops.softmax(preds, axis=1)\n",
    "        results = keras.ops.concatenate([volume_curve, keras.ops.zeros_like(preds)], axis=-1)\n",
    "        return results\n",
    "    \n",
    "    def get_config(self):\n",
    "        config = super().get_config()\n",
    "        config.update({\n",
    "            'lookback': self.lookback,\n",
    "            'n_ahead': self.n_ahead,\n",
    "            'input_include_aheads': self.input_include_aheads,\n",
    "            'internal_model': {\n",
    "                'class_name': self.internal_model.__class__.__name__,\n",
    "                'config': self.internal_model.get_config()\n",
    "            }\n",
    "        })\n",
    "        return config\n",
    "    \n",
    "    @classmethod\n",
    "    def from_config(cls, config):\n",
    "        # Extract internal model config\n",
    "        internal_model_config = config.pop('internal_model')\n",
    "        internal_model_class = globals()[internal_model_config['class_name']]\n",
    "        internal_model = internal_model_class.from_config(internal_model_config['config'])\n",
    "        \n",
    "        # Create new instance with remaining config\n",
    "        return cls(\n",
    "            lookback=config['lookback'],\n",
    "            n_ahead=config['n_ahead'],\n",
    "            input_include_aheads=config['input_include_aheads'],\n",
    "            internal_model=internal_model\n",
    "        )"
   ]
  },
  {
   "cell_type": "markdown",
   "id": "b0f1f27a-4e5c-47db-b23d-ead4d2a39946",
   "metadata": {},
   "source": [
    "# Dynamic VWAP model"
   ]
  },
  {
   "cell_type": "code",
   "execution_count": 6,
   "id": "f0787a48-a330-4fdc-bda6-e30dded72c8a",
   "metadata": {},
   "outputs": [],
   "source": [
    "@keras.utils.register_keras_serializable(name=\"EqualInitializer\")\n",
    "class EqualInitializer(Initializer):\n",
    "    \"\"\"Initializes weights to 1/n_ahead.\"\"\"\n",
    "    \n",
    "    def __init__(self, n_ahead):\n",
    "        self.n_ahead = n_ahead\n",
    "        \n",
    "    def __call__(self, shape, dtype=None):\n",
    "        return ops.ones(shape, dtype=dtype) / self.n_ahead\n",
    "\n",
    "        \n",
    "    def get_config(self):\n",
    "        return {'n_ahead': self.n_ahead}\n",
    "\n",
    "\n",
    "@keras.utils.register_keras_serializable(name=\"PositiveSumToOneConstraint\")\n",
    "class PositiveSumToOneConstraint(keras.constraints.Constraint):\n",
    "    \"\"\"Constrains the weights to be positive and sum to 1.\"\"\"\n",
    "    \n",
    "    def __call__(self, w):\n",
    "        # First ensure values are positive\n",
    "        w = keras.ops.maximum(w, 0)\n",
    "        # Then normalize to sum to 1\n",
    "        return w / (keras.ops.sum(w) + keras.backend.epsilon())\n",
    "\n",
    "    def get_config(self):\n",
    "        return {}\n",
    "\n",
    "\n",
    "@keras.utils.register_keras_serializable(name=\"DynamicVWAP\")\n",
    "class DynamicVWAP(Model):\n",
    "    def __init__(self, lookback, n_ahead, hidden_size=100, hidden_rnn_layer=2, *args, **kwargs):\n",
    "        super(DynamicVWAP, self).__init__(*args, **kwargs)\n",
    "        self.lookback = lookback\n",
    "        self.n_ahead = n_ahead\n",
    "        self.hidden_size = hidden_size\n",
    "        self.hidden_rnn_layer = hidden_rnn_layer\n",
    "        \n",
    "    def build(self, input_shape):\n",
    "        feature_shape = input_shape\n",
    "        assert feature_shape[1] == self.lookback + self.n_ahead - 1\n",
    "        self.internal_rnn = Sequential([\n",
    "            TKAN(self.hidden_size, return_sequences=True)\n",
    "            for _ in range(self.hidden_rnn_layer)\n",
    "        ])\n",
    "        self.internal_rnn.build(feature_shape)    \n",
    "        internal_model_output_shape = self.internal_rnn.compute_output_shape(feature_shape)\n",
    "        self.internal_hidden_to_volume = [\n",
    "            Sequential([\n",
    "                Dense(self.hidden_size, activation='relu'),\n",
    "                Dense(self.hidden_size, activation='relu'),\n",
    "                Dense(1, activation='tanh') \n",
    "            ])\n",
    "            for _ in range(self.n_ahead - 1)\n",
    "        ]\n",
    "        for i in range(self.n_ahead - 1):\n",
    "            self.internal_hidden_to_volume[i].build((feature_shape[0], self.hidden_size + i))\n",
    "        self.base_volume_curve = self.add_weight(\n",
    "            shape=(self.n_ahead,),\n",
    "            name=\"base_curve\",\n",
    "            initializer=EqualInitializer(self.n_ahead),\n",
    "            constraint=PositiveSumToOneConstraint(),  # Using the new constraint\n",
    "            trainable=True\n",
    "        )\n",
    "        \n",
    "    def call(self, inputs):\n",
    "        features = inputs\n",
    "        rnn_hidden = self.internal_rnn(features)\n",
    "        total_volume = ops.zeros((features.shape[0],1))\n",
    "        \n",
    "        for t in range(0, self.n_ahead - 1):\n",
    "            if t>0:\n",
    "                current_hidden = ops.concatenate([rnn_hidden[:, self.lookback + t, :], volume_curve], axis=1)\n",
    "            else:\n",
    "                current_hidden = rnn_hidden[:, self.lookback + t, :]\n",
    "            estimated_factor = 1. + self.internal_hidden_to_volume[t](current_hidden)\n",
    "            estimated_volume = self.base_volume_curve[t] * estimated_factor \n",
    "            estimated_volume = keras.ops.clip(estimated_volume, 0., 1. - total_volume)\n",
    "            total_volume += estimated_volume\n",
    "            if t==0:\n",
    "                volume_curve=estimated_volume\n",
    "            else:\n",
    "                volume_curve=ops.concatenate([volume_curve, estimated_volume], axis=1)\n",
    "            \n",
    "        estimated_volume=1. - total_volume\n",
    "        volume_curve=ops.concatenate([volume_curve, estimated_volume], axis=1)\n",
    "        volume_curve=ops.expand_dims(volume_curve, axis=2)\n",
    "        results = keras.ops.concatenate([volume_curve, keras.ops.zeros_like(volume_curve)], axis=-1)\n",
    "        return results\n",
    "\n",
    "    def get_config(self):\n",
    "        config = super().get_config()\n",
    "        config.update({\n",
    "            'lookback': self.lookback,\n",
    "            'n_ahead': self.n_ahead,\n",
    "            'hidden_size': self.hidden_size,\n",
    "            'hidden_rnn_layer': self.hidden_rnn_layer,\n",
    "        })\n",
    "        return config\n",
    "\n",
    "    def compute_output_shape(self, input_shape):\n",
    "        return (input_shape[0], 2, self.n_ahead)"
   ]
  },
  {
   "cell_type": "code",
   "execution_count": 7,
   "id": "2dc9c255-3e11-4a1a-8146-6826af820c13",
   "metadata": {},
   "outputs": [],
   "source": [
    "@keras.utils.register_keras_serializable(name=\"AddAndNorm\")\n",
    "class AddAndNorm(Layer):\n",
    "    def __init__(self, **kwargs):\n",
    "        super(AddAndNorm, self).__init__(**kwargs)\n",
    "\n",
    "    def build(self, input_shape):\n",
    "        self.add_layer = Add()\n",
    "        self.add_layer.build(input_shape)\n",
    "        self.norm_layer = LayerNormalization()\n",
    "        self.norm_layer.build(self.add_layer.compute_output_shape(input_shape))\n",
    "    \n",
    "    def call(self, inputs):\n",
    "        tmp = self.add_layer(inputs)\n",
    "        tmp = self.norm_layer(tmp)\n",
    "        return tmp\n",
    "\n",
    "    def compute_output_shape(self, input_shape):\n",
    "        return input_shape[0]  # Assuming all input shapes are the same\n",
    "\n",
    "    def get_config(self):\n",
    "        config = super().get_config()\n",
    "        return config\n",
    "\n",
    "\n",
    "@keras.utils.register_keras_serializable(name=\"GRN\")\n",
    "class Gate(Layer):\n",
    "    def __init__(self, hidden_layer_size = None, **kwargs):\n",
    "        super(Gate, self).__init__(**kwargs)\n",
    "        self.hidden_layer_size = hidden_layer_size\n",
    "        \n",
    "\n",
    "    def build(self, input_shape):\n",
    "        if self.hidden_layer_size is None:\n",
    "            self.hidden_layer_size = input_shape[-1]\n",
    "        self.dense_layer = Dense(self.hidden_layer_size)\n",
    "        self.gated_layer = Dense(self.hidden_layer_size, activation='sigmoid')\n",
    "        self.dense_layer.build(input_shape)\n",
    "        self.gated_layer.build(input_shape)\n",
    "        self.multiply = Multiply()\n",
    "\n",
    "    def call(self, inputs):\n",
    "        dense_output = self.dense_layer(inputs)\n",
    "        gated_output = self.gated_layer(inputs)\n",
    "        return ops.multiply(dense_output, gated_output)\n",
    "\n",
    "    def compute_output_shape(self, input_shape):\n",
    "        return input_shape[:-1] + (self.hidden_layer_size,)\n",
    "\n",
    "    def get_config(self):\n",
    "        config = super().get_config()\n",
    "        config.update({\n",
    "            'hidden_layer_size': self.hidden_layer_size,\n",
    "        })\n",
    "        return config\n",
    "\n",
    "\n",
    "@keras.utils.register_keras_serializable(name=\"GRN\")\n",
    "class GRN(Layer):\n",
    "    def __init__(self, hidden_layer_size, output_size=None, **kwargs):\n",
    "        super(GRN, self).__init__(**kwargs)\n",
    "        self.hidden_layer_size = hidden_layer_size\n",
    "        self.output_size = output_size\n",
    "\n",
    "    def build(self, input_shape):\n",
    "        if self.output_size is None:\n",
    "            self.output_size = self.hidden_layer_size\n",
    "        self.skip_layer = Dense(self.output_size)\n",
    "        self.skip_layer.build(input_shape)\n",
    "        \n",
    "        self.hidden_layer_1 = Dense(self.hidden_layer_size, activation='elu')\n",
    "        self.hidden_layer_1.build(input_shape)\n",
    "        self.hidden_layer_2 = Dense(self.hidden_layer_size)\n",
    "        self.hidden_layer_2.build((*input_shape[:2], self.hidden_layer_size))\n",
    "        self.gate_layer = Gate(self.output_size)\n",
    "        self.gate_layer.build((*input_shape[:2], self.hidden_layer_size))\n",
    "        self.add_and_norm_layer = AddAndNorm()\n",
    "        self.add_and_norm_layer.build([(*input_shape[:2], self.output_size),(*input_shape[:2], self.output_size)])\n",
    "\n",
    "    def call(self, inputs):\n",
    "        skip = self.skip_layer(inputs)\n",
    "        hidden = self.hidden_layer_1(inputs)\n",
    "        hidden = self.hidden_layer_2(hidden)\n",
    "        gating_output = self.gate_layer(hidden)\n",
    "        return self.add_and_norm_layer([skip, gating_output])\n",
    "\n",
    "    def compute_output_shape(self, input_shape):\n",
    "        return input_shape[:-1] + (self.output_size,)\n",
    "\n",
    "    def get_config(self):\n",
    "        config = super().get_config()\n",
    "        config.update({\n",
    "            'hidden_layer_size': self.hidden_layer_size,\n",
    "            'output_size': self.output_size,\n",
    "        })\n",
    "        return config\n",
    "\n",
    "\n",
    "@keras.utils.register_keras_serializable(name=\"VariableSelectionNetwork\")\n",
    "class VariableSelectionNetwork(Layer):\n",
    "    def __init__(self, num_hidden, **kwargs):\n",
    "        super(VariableSelectionNetwork, self).__init__(**kwargs)\n",
    "        self.num_hidden = num_hidden\n",
    "\n",
    "    def build(self, input_shape):\n",
    "        batch_size, time_steps, embedding_dim, num_inputs = input_shape\n",
    "        self.softmax = Activation('softmax')\n",
    "        self.num_inputs = num_inputs\n",
    "        self.flatten_dim = time_steps * embedding_dim * num_inputs\n",
    "        self.reshape_layer = Reshape(target_shape=[time_steps, embedding_dim * num_inputs])\n",
    "        self.reshape_layer.build(input_shape)\n",
    "        self.mlp_dense = GRN(hidden_layer_size = self.num_hidden, output_size=num_inputs)\n",
    "        self.mlp_dense.build((batch_size, time_steps, embedding_dim * num_inputs))\n",
    "        self.grn_layers = [GRN(self.num_hidden) for _ in range(num_inputs)]\n",
    "        for i in range(num_inputs):\n",
    "            self.grn_layers[i].build(input_shape[:3])\n",
    "        super(VariableSelectionNetwork, self).build(input_shape)\n",
    "\n",
    "    def call(self, inputs):\n",
    "        _, time_steps, embedding_dim, num_inputs = inputs.shape\n",
    "        flatten = self.reshape_layer(inputs)\n",
    "        # Variable selection weights\n",
    "        mlp_outputs = self.mlp_dense(flatten)\n",
    "        sparse_weights = keras.activations.softmax(mlp_outputs)\n",
    "        sparse_weights = ops.expand_dims(sparse_weights, axis=2)\n",
    "        \n",
    "        # Non-linear Processing & weight application\n",
    "        trans_emb_list = []\n",
    "        for i in range(num_inputs):\n",
    "            grn_output = self.grn_layers[i](inputs[:, :, :, i])\n",
    "            trans_emb_list.append(grn_output)\n",
    "        \n",
    "        transformed_embedding = ops.stack(trans_emb_list, axis=-1)\n",
    "        combined = ops.multiply(sparse_weights, transformed_embedding)\n",
    "        temporal_ctx = ops.sum(combined, axis=-1)\n",
    "        \n",
    "        return temporal_ctx\n",
    "\n",
    "    def get_config(self):\n",
    "        config = super().get_config()\n",
    "        config.update({\n",
    "            'num_hidden': self.num_hidden,\n",
    "        })\n",
    "        return config\n",
    "\n",
    "\n",
    "@keras.utils.register_keras_serializable(name=\"EmbeddingLayer\")\n",
    "class EmbeddingLayer(Layer):\n",
    "    def __init__(self, num_hidden, **kwargs):\n",
    "        super(EmbeddingLayer, self).__init__(**kwargs)\n",
    "        self.num_hidden = num_hidden\n",
    "\n",
    "    def build(self, input_shape):\n",
    "        self.dense_layers = [\n",
    "            Dense(self.num_hidden) for _ in range(input_shape[-1])\n",
    "        ]\n",
    "        for i in range(input_shape[-1]):\n",
    "            self.dense_layers[i].build((*input_shape[:2], 1))\n",
    "        super(EmbeddingLayer, self).build(input_shape)\n",
    "\n",
    "    def call(self, inputs):\n",
    "        embeddings = [dense_layer(inputs[:, :, i:i+1]) for i, dense_layer in enumerate(self.dense_layers)]\n",
    "        return ops.stack(embeddings, axis=-1)\n",
    "\n",
    "    def compute_output_shape(self, input_shape):\n",
    "        return list(input_shape[:-1]) + [self.num_hidden, input_shape[-1]]\n",
    "\n",
    "    def get_config(self):\n",
    "        config = super().get_config()\n",
    "        config.update({\n",
    "            'num_hidden': self.num_hidden,\n",
    "        })\n",
    "        return config\n",
    "\n",
    "@keras.utils.register_keras_serializable(name=\"DynamicVWAPTransformer\")\n",
    "class DynamicVWAPTransformer(Model):\n",
    "    def __init__(self, lookback, n_ahead, hidden_size=100, hidden_rnn_layer=2, num_heads=3, num_embedding=3, *args, **kwargs):\n",
    "        super().__init__(*args, **kwargs)\n",
    "        self.lookback = lookback\n",
    "        self.n_ahead = n_ahead\n",
    "        self.hidden_size = hidden_size\n",
    "        self.hidden_rnn_layer = hidden_rnn_layer\n",
    "        self.num_embedding = num_embedding\n",
    "        self.num_heads = num_heads\n",
    "        \n",
    "    def build(self, input_shape):\n",
    "        feature_shape = input_shape\n",
    "        assert feature_shape[1] == self.lookback + self.n_ahead - 1\n",
    "\n",
    "        self.embedding = EmbeddingLayer(self.num_embedding)\n",
    "        self.embedding.build(input_shape)\n",
    "        embedding_output_shape = self.embedding.compute_output_shape(input_shape)\n",
    "        self.vsn = VariableSelectionNetwork(self.hidden_size)\n",
    "        self.vsn.build(embedding_output_shape)\n",
    "        vsn_output_shape = (input_shape[0], input_shape[1], self.hidden_size)\n",
    "        \n",
    "        # RNN layers\n",
    "        self.internal_rnn = Sequential([\n",
    "            TKAN(self.hidden_size, return_sequences=True)\n",
    "            for _ in range(self.hidden_rnn_layer)\n",
    "        ])\n",
    "        self.internal_rnn.build(vsn_output_shape)\n",
    "        self.gate = Gate()\n",
    "        self.gate.build(vsn_output_shape)\n",
    "        self.addnorm = AddAndNorm()\n",
    "        self.addnorm.build([vsn_output_shape,vsn_output_shape])\n",
    "        self.grn = GRN(self.hidden_size)\n",
    "        self.grn.build(vsn_output_shape)\n",
    "        # Multi-head attention layer\n",
    "        self.attention = MultiHeadAttention(\n",
    "            num_heads=self.num_heads,\n",
    "            key_dim=self.hidden_size // self.num_heads,\n",
    "            value_dim=self.hidden_size // self.num_heads,\n",
    "            use_bias=True\n",
    "        )\n",
    "        self.attention.build(vsn_output_shape, vsn_output_shape, vsn_output_shape)#as the tkan do not changes shapes\n",
    "        \n",
    "        # Dense layers for volume prediction\n",
    "        self.internal_hidden_to_volume = [\n",
    "            Sequential([\n",
    "                Dense(self.hidden_size, activation='relu'),\n",
    "                Dense(self.hidden_size, activation='relu'),\n",
    "                Dense(1, activation='tanh')\n",
    "            ])\n",
    "            for _ in range(self.n_ahead - 1)\n",
    "        ]\n",
    "        \n",
    "        for i in range(self.n_ahead - 1):\n",
    "            self.internal_hidden_to_volume[i].build((feature_shape[0], self.hidden_size + i))\n",
    "            \n",
    "        # Base volume curve\n",
    "        self.base_volume_curve = self.add_weight(\n",
    "            shape=(self.n_ahead,),\n",
    "            name=\"base_curve\",\n",
    "            initializer=EqualInitializer(self.n_ahead),\n",
    "            constraint=PositiveSumToOneConstraint(),\n",
    "            trainable=True\n",
    "        )\n",
    "        super(DynamicVWAPTransformer, self).build(input_shape)\n",
    "        \n",
    "    def call(self, inputs):\n",
    "        embedded_features = self.embedding(inputs)\n",
    "        selected = self.vsn(embedded_features)\n",
    "        # Get RNN hidden states\n",
    "        rnn_hidden = self.internal_rnn(selected)\n",
    "        all_context = self.addnorm([self.gate(rnn_hidden), selected])\n",
    "        enriched = self.grn(all_context)\n",
    "        \n",
    "        # Apply causal self-attention\n",
    "        attended_hidden = self.attention(\n",
    "            query=enriched,\n",
    "            value=enriched,\n",
    "            key=enriched,\n",
    "            use_causal_mask=True\n",
    "        )\n",
    "        \n",
    "        total_volume = ops.zeros((inputs.shape[0], 1))\n",
    "        \n",
    "        for t in range(0, self.n_ahead - 1):\n",
    "            if t > 0:\n",
    "                current_hidden = ops.concatenate([attended_hidden[:, self.lookback + t, :], volume_curve], axis=1)\n",
    "            else:\n",
    "                current_hidden = attended_hidden[:, self.lookback + t, :]\n",
    "                \n",
    "            estimated_factor = 1. + self.internal_hidden_to_volume[t](current_hidden)\n",
    "            estimated_volume = self.base_volume_curve[t] * estimated_factor\n",
    "            estimated_volume = keras.ops.clip(estimated_volume, 0., 1. - total_volume)\n",
    "            total_volume += estimated_volume\n",
    "            \n",
    "            if t == 0:\n",
    "                volume_curve = estimated_volume\n",
    "            else:\n",
    "                volume_curve = ops.concatenate([volume_curve, estimated_volume], axis=1)\n",
    "        \n",
    "        estimated_volume = 1. - total_volume\n",
    "        volume_curve = ops.concatenate([volume_curve, estimated_volume], axis=1)\n",
    "        volume_curve = ops.expand_dims(volume_curve, axis=2)\n",
    "        results = keras.ops.concatenate([volume_curve, keras.ops.zeros_like(volume_curve)], axis=-1)\n",
    "        \n",
    "        return results\n",
    "    \n",
    "    def get_config(self):\n",
    "        config = super().get_config()\n",
    "        config.update({\n",
    "            'lookback': self.lookback,\n",
    "            'n_ahead': self.n_ahead,\n",
    "            'hidden_size': self.hidden_size,\n",
    "            'hidden_rnn_layer': self.hidden_rnn_layer,\n",
    "            'num_embedding': self.num_embedding,\n",
    "            'num_heads': self.num_heads\n",
    "        })\n",
    "        return config\n",
    "        \n",
    "    def compute_output_shape(self, input_shape):\n",
    "        return (input_shape[0], 2, self.n_ahead)\n",
    "    \n"
   ]
  },
  {
   "cell_type": "markdown",
   "id": "e23e0c02-1506-43dc-86a3-e628f7d5f981",
   "metadata": {},
   "source": [
    "# Graph Functions"
   ]
  },
  {
   "cell_type": "code",
   "execution_count": 8,
   "id": "06842ac6-fa6d-485d-aa54-758aa916cb8a",
   "metadata": {},
   "outputs": [],
   "source": [
    "def create_aggregated_pred_graph(name, n_ahead, preds, absolute_model_score, quadratic_model_score, r2_volume_curve):\n",
    "    # Set the style for a more academic look\n",
    "    sns.set_style(\"whitegrid\")\n",
    "    sns.set_context(\"paper\", font_scale=1.2)\n",
    "    \n",
    "    # Create a DataFrame for easier plotting\n",
    "    df = pd.DataFrame(preds[:,:,0].T, columns=[f'Execution_{i+1}' for i in range(preds.shape[0])])\n",
    "    df['Period'] = range(1, n_ahead + 1)\n",
    "    df_melted = df.melt('Period', var_name='Execution', value_name='Allocation')\n",
    "    \n",
    "    # Create the plot\n",
    "    plt.figure(figsize=(10, 6))\n",
    "    \n",
    "    # Use a more subtle color palette\n",
    "    palette = sns.color_palette(\"Blues\", n_colors=preds.shape[0])\n",
    "    sns.lineplot(data=df_melted, x='Period', y='Allocation', hue='Execution', \n",
    "                 palette=palette, alpha=0.3, legend=False)\n",
    "    \n",
    "    # Calculate and plot the mean allocation\n",
    "    mean_allocation = df_melted.groupby('Period')['Allocation'].mean()\n",
    "    sns.lineplot(x=mean_allocation.index, y=mean_allocation.values, \n",
    "                 color='red', linewidth=2, label='Mean Allocation')\n",
    "    \n",
    "    # Customize the plot\n",
    "    plt.title(f'VWAP Execution Allocation per Period using {name} over {n_ahead} step', fontsize=16)\n",
    "    plt.xlabel('Period', fontsize=14)\n",
    "    plt.ylabel('Allocation', fontsize=14)\n",
    "    plt.ylim(0, df_melted['Allocation'].max() * 1.1)  # Set y-axis limit with some headroom\n",
    "    \n",
    "    # Add a legend\n",
    "    plt.legend(title='', loc='upper right', frameon=True)\n",
    "    \n",
    "    # Add text annotations for performance metrics\n",
    "    text = (f\"Abs. VWAP Loss (x1e2): {1e2*absolute_model_score:.4f}\\n\"\n",
    "            f\"Quad. VWAP Loss (x1e4): {1e4*quadratic_model_score:.4f}\\n\"\n",
    "            f\"Volume Curve R²: {r2_volume_curve:.4f}\")\n",
    "    plt.text(0.02, 0.98, text, transform=plt.gca().transAxes, \n",
    "             verticalalignment='top', bbox=dict(boxstyle='round', facecolor='white', alpha=0.8))\n",
    "    \n",
    "    # Adjust layout and save\n",
    "    plt.tight_layout()\n",
    "    plt.savefig(f'vwap_execution_allocation_{name}_{n_ahead}_steps.png', dpi=300, bbox_inches='tight')\n",
    "    plt.show()"
   ]
  },
  {
   "cell_type": "markdown",
   "id": "d9e4087e-42b4-4da1-a47e-8e5f8cb57c40",
   "metadata": {},
   "source": [
    "# Full results generation function"
   ]
  },
  {
   "cell_type": "code",
   "execution_count": 9,
   "id": "d4aa4f74-fc16-4b86-9224-76428b3d6c39",
   "metadata": {},
   "outputs": [
    {
     "name": "stderr",
     "output_type": "stream",
     "text": [
      "/tmp/ipykernel_93748/3040326385.py:55: RuntimeWarning: invalid value encountered in divide\n",
      "  vwaps = pd.DataFrame(notionals.values / volumes.values, index=volumes.index, columns = volumes.columns)\n",
      "/tmp/ipykernel_93748/3040326385.py:55: RuntimeWarning: invalid value encountered in divide\n",
      "  vwaps = pd.DataFrame(notionals.values / volumes.values, index=volumes.index, columns = volumes.columns)\n",
      "/tmp/ipykernel_93748/3040326385.py:55: RuntimeWarning: invalid value encountered in divide\n",
      "  vwaps = pd.DataFrame(notionals.values / volumes.values, index=volumes.index, columns = volumes.columns)\n",
      "/tmp/ipykernel_93748/3040326385.py:55: RuntimeWarning: invalid value encountered in divide\n",
      "  vwaps = pd.DataFrame(notionals.values / volumes.values, index=volumes.index, columns = volumes.columns)\n",
      "/tmp/ipykernel_93748/3040326385.py:55: RuntimeWarning: invalid value encountered in divide\n",
      "  vwaps = pd.DataFrame(notionals.values / volumes.values, index=volumes.index, columns = volumes.columns)\n",
      "/tmp/ipykernel_93748/3040326385.py:55: RuntimeWarning: invalid value encountered in divide\n",
      "  vwaps = pd.DataFrame(notionals.values / volumes.values, index=volumes.index, columns = volumes.columns)\n",
      "/tmp/ipykernel_93748/3040326385.py:55: RuntimeWarning: invalid value encountered in divide\n",
      "  vwaps = pd.DataFrame(notionals.values / volumes.values, index=volumes.index, columns = volumes.columns)\n",
      "/tmp/ipykernel_93748/3040326385.py:55: RuntimeWarning: invalid value encountered in divide\n",
      "  vwaps = pd.DataFrame(notionals.values / volumes.values, index=volumes.index, columns = volumes.columns)\n",
      "/tmp/ipykernel_93748/3040326385.py:55: RuntimeWarning: invalid value encountered in divide\n",
      "  vwaps = pd.DataFrame(notionals.values / volumes.values, index=volumes.index, columns = volumes.columns)\n",
      "/tmp/ipykernel_93748/3040326385.py:55: RuntimeWarning: invalid value encountered in divide\n",
      "  vwaps = pd.DataFrame(notionals.values / volumes.values, index=volumes.index, columns = volumes.columns)\n",
      "/tmp/ipykernel_93748/3040326385.py:55: RuntimeWarning: invalid value encountered in divide\n",
      "  vwaps = pd.DataFrame(notionals.values / volumes.values, index=volumes.index, columns = volumes.columns)\n",
      "/tmp/ipykernel_93748/3040326385.py:55: RuntimeWarning: invalid value encountered in divide\n",
      "  vwaps = pd.DataFrame(notionals.values / volumes.values, index=volumes.index, columns = volumes.columns)\n",
      "/tmp/ipykernel_93748/3040326385.py:55: RuntimeWarning: invalid value encountered in divide\n",
      "  vwaps = pd.DataFrame(notionals.values / volumes.values, index=volumes.index, columns = volumes.columns)\n",
      "/tmp/ipykernel_93748/3040326385.py:55: RuntimeWarning: invalid value encountered in divide\n",
      "  vwaps = pd.DataFrame(notionals.values / volumes.values, index=volumes.index, columns = volumes.columns)\n",
      "/tmp/ipykernel_93748/3040326385.py:55: RuntimeWarning: invalid value encountered in divide\n",
      "  vwaps = pd.DataFrame(notionals.values / volumes.values, index=volumes.index, columns = volumes.columns)\n",
      "/tmp/ipykernel_93748/3040326385.py:55: RuntimeWarning: invalid value encountered in divide\n",
      "  vwaps = pd.DataFrame(notionals.values / volumes.values, index=volumes.index, columns = volumes.columns)\n",
      "/tmp/ipykernel_93748/3040326385.py:55: RuntimeWarning: invalid value encountered in divide\n",
      "  vwaps = pd.DataFrame(notionals.values / volumes.values, index=volumes.index, columns = volumes.columns)\n",
      "/tmp/ipykernel_93748/3040326385.py:55: RuntimeWarning: invalid value encountered in divide\n",
      "  vwaps = pd.DataFrame(notionals.values / volumes.values, index=volumes.index, columns = volumes.columns)\n",
      "/tmp/ipykernel_93748/3040326385.py:55: RuntimeWarning: invalid value encountered in divide\n",
      "  vwaps = pd.DataFrame(notionals.values / volumes.values, index=volumes.index, columns = volumes.columns)\n",
      "/tmp/ipykernel_93748/3040326385.py:55: RuntimeWarning: invalid value encountered in divide\n",
      "  vwaps = pd.DataFrame(notionals.values / volumes.values, index=volumes.index, columns = volumes.columns)\n",
      "/tmp/ipykernel_93748/3040326385.py:55: RuntimeWarning: invalid value encountered in divide\n",
      "  vwaps = pd.DataFrame(notionals.values / volumes.values, index=volumes.index, columns = volumes.columns)\n",
      "/tmp/ipykernel_93748/3040326385.py:55: RuntimeWarning: invalid value encountered in divide\n",
      "  vwaps = pd.DataFrame(notionals.values / volumes.values, index=volumes.index, columns = volumes.columns)\n",
      "/tmp/ipykernel_93748/3040326385.py:55: RuntimeWarning: invalid value encountered in divide\n",
      "  vwaps = pd.DataFrame(notionals.values / volumes.values, index=volumes.index, columns = volumes.columns)\n",
      "/tmp/ipykernel_93748/3040326385.py:55: RuntimeWarning: invalid value encountered in divide\n",
      "  vwaps = pd.DataFrame(notionals.values / volumes.values, index=volumes.index, columns = volumes.columns)\n",
      "/tmp/ipykernel_93748/3040326385.py:55: RuntimeWarning: invalid value encountered in divide\n",
      "  vwaps = pd.DataFrame(notionals.values / volumes.values, index=volumes.index, columns = volumes.columns)\n",
      "/tmp/ipykernel_93748/3040326385.py:55: RuntimeWarning: invalid value encountered in divide\n",
      "  vwaps = pd.DataFrame(notionals.values / volumes.values, index=volumes.index, columns = volumes.columns)\n",
      "/tmp/ipykernel_93748/3040326385.py:55: RuntimeWarning: invalid value encountered in divide\n",
      "  vwaps = pd.DataFrame(notionals.values / volumes.values, index=volumes.index, columns = volumes.columns)\n",
      "/tmp/ipykernel_93748/3040326385.py:55: RuntimeWarning: invalid value encountered in divide\n",
      "  vwaps = pd.DataFrame(notionals.values / volumes.values, index=volumes.index, columns = volumes.columns)\n",
      "/tmp/ipykernel_93748/3040326385.py:55: RuntimeWarning: invalid value encountered in divide\n",
      "  vwaps = pd.DataFrame(notionals.values / volumes.values, index=volumes.index, columns = volumes.columns)\n",
      "/tmp/ipykernel_93748/3040326385.py:55: RuntimeWarning: invalid value encountered in divide\n",
      "  vwaps = pd.DataFrame(notionals.values / volumes.values, index=volumes.index, columns = volumes.columns)\n",
      "/tmp/ipykernel_93748/3040326385.py:55: RuntimeWarning: invalid value encountered in divide\n",
      "  vwaps = pd.DataFrame(notionals.values / volumes.values, index=volumes.index, columns = volumes.columns)\n",
      "/tmp/ipykernel_93748/3040326385.py:55: RuntimeWarning: invalid value encountered in divide\n",
      "  vwaps = pd.DataFrame(notionals.values / volumes.values, index=volumes.index, columns = volumes.columns)\n",
      "/tmp/ipykernel_93748/3040326385.py:55: RuntimeWarning: invalid value encountered in divide\n",
      "  vwaps = pd.DataFrame(notionals.values / volumes.values, index=volumes.index, columns = volumes.columns)\n",
      "/tmp/ipykernel_93748/3040326385.py:55: RuntimeWarning: invalid value encountered in divide\n",
      "  vwaps = pd.DataFrame(notionals.values / volumes.values, index=volumes.index, columns = volumes.columns)\n",
      "/tmp/ipykernel_93748/3040326385.py:55: RuntimeWarning: invalid value encountered in divide\n",
      "  vwaps = pd.DataFrame(notionals.values / volumes.values, index=volumes.index, columns = volumes.columns)\n",
      "/tmp/ipykernel_93748/3040326385.py:55: RuntimeWarning: invalid value encountered in divide\n",
      "  vwaps = pd.DataFrame(notionals.values / volumes.values, index=volumes.index, columns = volumes.columns)\n",
      "/tmp/ipykernel_93748/3040326385.py:55: RuntimeWarning: invalid value encountered in divide\n",
      "  vwaps = pd.DataFrame(notionals.values / volumes.values, index=volumes.index, columns = volumes.columns)\n",
      "/tmp/ipykernel_93748/3040326385.py:55: RuntimeWarning: invalid value encountered in divide\n",
      "  vwaps = pd.DataFrame(notionals.values / volumes.values, index=volumes.index, columns = volumes.columns)\n",
      "/tmp/ipykernel_93748/3040326385.py:55: RuntimeWarning: invalid value encountered in divide\n",
      "  vwaps = pd.DataFrame(notionals.values / volumes.values, index=volumes.index, columns = volumes.columns)\n"
     ]
    }
   ],
   "source": [
    "\n",
    "data_parallel = keras.distribution.DataParallel()\n",
    "keras.distribution.set_distribution(data_parallel)\n",
    "BATCH_SIZE = 1024 * N_DEVICES\n",
    "lookback = 60\n",
    "sig_lookback = 400\n",
    "n_ahead = 12\n",
    "validation_split = 0.2\n",
    "\n",
    "optimization_function = absolute_vwap_loss\n",
    "full_X_train = None\n",
    "for asset in train_assets:\n",
    "    X_train, X_test, y_train, y_test = full_generate(asset, lookback=lookback, n_ahead=n_ahead, include_ahead_inputs = True)\n",
    "    val_size = int(len(X_train) * validation_split)\n",
    "    X_val = X_train[-val_size:]\n",
    "    y_val = y_train[-val_size:]\n",
    "    X_train = X_train[:-val_size]\n",
    "    y_train = y_train[:-val_size]\n",
    "    if full_X_train is None:\n",
    "        full_X_train = X_train\n",
    "        full_X_val = X_val\n",
    "        full_X_test = X_test\n",
    "        full_y_train = y_train\n",
    "        full_y_val = y_val\n",
    "        full_y_test = y_test\n",
    "    else:\n",
    "        full_X_train = np.concatenate([full_X_train, X_train], axis=0)\n",
    "        full_y_train = np.concatenate([full_y_train, y_train], axis=0)\n",
    "        full_y_val = np.concatenate([full_y_val, y_val], axis=0)\n",
    "        full_y_test = np.concatenate([full_y_test, y_test], axis=0)\n",
    "\n",
    "val_samples = full_X_val.shape[0]\n",
    "val_batches = val_samples // BATCH_SIZE\n",
    "val_samples_adjusted = val_batches * BATCH_SIZE\n",
    "full_X_val = full_X_val[:val_samples_adjusted]\n",
    "full_y_val = full_y_val[:val_samples_adjusted]\n",
    "\n",
    "\n",
    "train_samples = full_X_train.shape[0]\n",
    "train_batches = train_samples // BATCH_SIZE\n",
    "train_samples_adjusted = train_batches * BATCH_SIZE\n",
    "full_X_train = full_X_train[:train_samples_adjusted]\n",
    "full_y_train = full_y_train[:train_samples_adjusted]\n"
   ]
  },
  {
   "cell_type": "code",
   "execution_count": 10,
   "id": "5d95de81-44a0-497b-9bf2-0f1f07731f94",
   "metadata": {
    "scrolled": true
   },
   "outputs": [
    {
     "name": "stdout",
     "output_type": "stream",
     "text": [
      "do run 0\n",
      "do run 1\n",
      "do run 2\n",
      "mean train_times_dynamic nan std nan\n",
      "mean train_times_dynamic nan std nan\n"
     ]
    },
    {
     "name": "stderr",
     "output_type": "stream",
     "text": [
      "/usr/local/lib/python3.10/dist-packages/numpy/_core/fromnumeric.py:3860: RuntimeWarning: Mean of empty slice.\n",
      "  return _methods._mean(a, axis=axis, dtype=dtype,\n",
      "/usr/local/lib/python3.10/dist-packages/numpy/_core/_methods.py:145: RuntimeWarning: invalid value encountered in scalar divide\n",
      "  ret = ret.dtype.type(ret / rcount)\n",
      "/usr/local/lib/python3.10/dist-packages/numpy/_core/_methods.py:223: RuntimeWarning: Degrees of freedom <= 0 for slice\n",
      "  ret = _var(a, axis=axis, dtype=dtype, out=out, ddof=ddof,\n",
      "/usr/local/lib/python3.10/dist-packages/numpy/_core/_methods.py:181: RuntimeWarning: invalid value encountered in divide\n",
      "  arrmean = um.true_divide(arrmean, div, out=arrmean,\n",
      "/usr/local/lib/python3.10/dist-packages/numpy/_core/_methods.py:215: RuntimeWarning: invalid value encountered in scalar divide\n",
      "  ret = ret.dtype.type(ret / rcount)\n"
     ]
    }
   ],
   "source": [
    "keras.backend.clear_session()\n",
    "data_parallel = keras.distribution.DataParallel()\n",
    "keras.distribution.set_distribution(data_parallel)\n",
    "\n",
    "\n",
    "train_times_dynamic=[]\n",
    "train_times_dynamic_sig=[]\n",
    "\n",
    "for run in range(N_RUNS):\n",
    "    print('do run', run)\n",
    "\n",
    "    if not os.path.exists(f'base_dynamic_transformer_model_200_{run}.keras'):\n",
    "        base_dynamic_sig_model = DynamicVWAPTransformer(lookback=lookback, n_ahead=n_ahead, hidden_size=200)\n",
    "        base_dynamic_sig_model.compile(optimizer='adam', loss=optimization_function)\n",
    "        t1=time.time()\n",
    "        history = base_dynamic_sig_model.fit(full_X_train, full_y_train, batch_size=BATCH_SIZE, epochs=N_MAX_EPOCHS, \n",
    "                            validation_data=(full_X_val, full_y_val), callbacks=callbacks(), shuffle=True, verbose=True)\n",
    "        train_times_dynamic_sig.append(time.time()-t1)\n",
    "        base_dynamic_sig_model.save(f'base_dynamic_transformer_model_200_{run}.keras')\n",
    "        del base_dynamic_sig_model\n",
    "\n",
    "\n",
    "print('mean train_times_dynamic', np.mean(train_times_dynamic), 'std', np.std(train_times_dynamic))\n",
    "print('mean train_times_dynamic', np.mean(train_times_dynamic_sig), 'std', np.std(train_times_dynamic_sig))"
   ]
  },
  {
   "cell_type": "code",
   "execution_count": 11,
   "id": "0263985f-8784-450f-9277-c5048a8a458b",
   "metadata": {
    "scrolled": true
   },
   "outputs": [
    {
     "name": "stdout",
     "output_type": "stream",
     "text": [
      "Is Train asset:  True\n",
      "Naive_BTC_absolute_vwap_loss: Mean Training time: 0.0000 (±0.0000)\n",
      "Naive_BTC_absolute_vwap_loss: Mean absolute VWAP loss (1e-2): 0.1600 (±0.0000)\n",
      "Naive_BTC_absolute_vwap_loss: Mean quadratic VWAP loss (1e-4): 0.0889 (±0.0000)\n",
      "Naive_BTC_absolute_vwap_loss: Mean R2 on volume curve: 0.0000 (±0.0000)\n",
      "Is Train asset:  True\n",
      "Globally Fitted DynamicVWAP Transformer_BTC_absolute_vwap_loss: Mean Training time: 0.0000 (±0.0000)\n",
      "Globally Fitted DynamicVWAP Transformer_BTC_absolute_vwap_loss: Mean absolute VWAP loss (1e-2): 0.1035 (±0.0006)\n",
      "Globally Fitted DynamicVWAP Transformer_BTC_absolute_vwap_loss: Mean quadratic VWAP loss (1e-4): 0.0415 (±0.0005)\n",
      "Globally Fitted DynamicVWAP Transformer_BTC_absolute_vwap_loss: Mean R2 on volume curve: -0.3438 (±0.0638)\n"
     ]
    },
    {
     "name": "stderr",
     "output_type": "stream",
     "text": [
      "/tmp/ipykernel_93748/3040326385.py:55: RuntimeWarning: invalid value encountered in divide\n",
      "  vwaps = pd.DataFrame(notionals.values / volumes.values, index=volumes.index, columns = volumes.columns)\n"
     ]
    },
    {
     "name": "stdout",
     "output_type": "stream",
     "text": [
      "Is Train asset:  False\n",
      "Naive_ETH_absolute_vwap_loss: Mean Training time: 0.0000 (±0.0000)\n",
      "Naive_ETH_absolute_vwap_loss: Mean absolute VWAP loss (1e-2): 0.1791 (±0.0000)\n",
      "Naive_ETH_absolute_vwap_loss: Mean quadratic VWAP loss (1e-4): 0.1176 (±0.0000)\n",
      "Naive_ETH_absolute_vwap_loss: Mean R2 on volume curve: 0.0000 (±0.0000)\n"
     ]
    },
    {
     "name": "stderr",
     "output_type": "stream",
     "text": [
      "/tmp/ipykernel_93748/3040326385.py:55: RuntimeWarning: invalid value encountered in divide\n",
      "  vwaps = pd.DataFrame(notionals.values / volumes.values, index=volumes.index, columns = volumes.columns)\n"
     ]
    },
    {
     "name": "stdout",
     "output_type": "stream",
     "text": [
      "Is Train asset:  False\n",
      "Globally Fitted DynamicVWAP Transformer_ETH_absolute_vwap_loss: Mean Training time: 0.0000 (±0.0000)\n",
      "Globally Fitted DynamicVWAP Transformer_ETH_absolute_vwap_loss: Mean absolute VWAP loss (1e-2): 0.1150 (±0.0025)\n",
      "Globally Fitted DynamicVWAP Transformer_ETH_absolute_vwap_loss: Mean quadratic VWAP loss (1e-4): 0.0548 (±0.0070)\n",
      "Globally Fitted DynamicVWAP Transformer_ETH_absolute_vwap_loss: Mean R2 on volume curve: -0.3820 (±0.0474)\n"
     ]
    },
    {
     "name": "stderr",
     "output_type": "stream",
     "text": [
      "/tmp/ipykernel_93748/3040326385.py:55: RuntimeWarning: invalid value encountered in divide\n",
      "  vwaps = pd.DataFrame(notionals.values / volumes.values, index=volumes.index, columns = volumes.columns)\n"
     ]
    },
    {
     "name": "stdout",
     "output_type": "stream",
     "text": [
      "Is Train asset:  True\n",
      "Naive_BCH_absolute_vwap_loss: Mean Training time: 0.0000 (±0.0000)\n",
      "Naive_BCH_absolute_vwap_loss: Mean absolute VWAP loss (1e-2): 0.2959 (±0.0000)\n",
      "Naive_BCH_absolute_vwap_loss: Mean quadratic VWAP loss (1e-4): 0.3829 (±0.0000)\n",
      "Naive_BCH_absolute_vwap_loss: Mean R2 on volume curve: 0.0000 (±0.0000)\n"
     ]
    },
    {
     "name": "stderr",
     "output_type": "stream",
     "text": [
      "/tmp/ipykernel_93748/3040326385.py:55: RuntimeWarning: invalid value encountered in divide\n",
      "  vwaps = pd.DataFrame(notionals.values / volumes.values, index=volumes.index, columns = volumes.columns)\n"
     ]
    },
    {
     "name": "stdout",
     "output_type": "stream",
     "text": [
      "Is Train asset:  True\n",
      "Globally Fitted DynamicVWAP Transformer_BCH_absolute_vwap_loss: Mean Training time: 0.0000 (±0.0000)\n",
      "Globally Fitted DynamicVWAP Transformer_BCH_absolute_vwap_loss: Mean absolute VWAP loss (1e-2): 0.2183 (±0.0017)\n",
      "Globally Fitted DynamicVWAP Transformer_BCH_absolute_vwap_loss: Mean quadratic VWAP loss (1e-4): 0.2316 (±0.0150)\n",
      "Globally Fitted DynamicVWAP Transformer_BCH_absolute_vwap_loss: Mean R2 on volume curve: -0.4168 (±0.0052)\n"
     ]
    },
    {
     "name": "stderr",
     "output_type": "stream",
     "text": [
      "/tmp/ipykernel_93748/3040326385.py:55: RuntimeWarning: invalid value encountered in divide\n",
      "  vwaps = pd.DataFrame(notionals.values / volumes.values, index=volumes.index, columns = volumes.columns)\n"
     ]
    },
    {
     "name": "stdout",
     "output_type": "stream",
     "text": [
      "Is Train asset:  False\n",
      "Naive_XRP_absolute_vwap_loss: Mean Training time: 0.0000 (±0.0000)\n",
      "Naive_XRP_absolute_vwap_loss: Mean absolute VWAP loss (1e-2): 0.2179 (±0.0000)\n",
      "Naive_XRP_absolute_vwap_loss: Mean quadratic VWAP loss (1e-4): 0.2507 (±0.0000)\n",
      "Naive_XRP_absolute_vwap_loss: Mean R2 on volume curve: 0.0000 (±0.0000)\n"
     ]
    },
    {
     "name": "stderr",
     "output_type": "stream",
     "text": [
      "/tmp/ipykernel_93748/3040326385.py:55: RuntimeWarning: invalid value encountered in divide\n",
      "  vwaps = pd.DataFrame(notionals.values / volumes.values, index=volumes.index, columns = volumes.columns)\n"
     ]
    },
    {
     "name": "stdout",
     "output_type": "stream",
     "text": [
      "Is Train asset:  False\n",
      "Globally Fitted DynamicVWAP Transformer_XRP_absolute_vwap_loss: Mean Training time: 0.0000 (±0.0000)\n",
      "Globally Fitted DynamicVWAP Transformer_XRP_absolute_vwap_loss: Mean absolute VWAP loss (1e-2): 0.1635 (±0.0019)\n",
      "Globally Fitted DynamicVWAP Transformer_XRP_absolute_vwap_loss: Mean quadratic VWAP loss (1e-4): 0.1681 (±0.0034)\n",
      "Globally Fitted DynamicVWAP Transformer_XRP_absolute_vwap_loss: Mean R2 on volume curve: -0.4703 (±0.0681)\n"
     ]
    },
    {
     "name": "stderr",
     "output_type": "stream",
     "text": [
      "/tmp/ipykernel_93748/3040326385.py:55: RuntimeWarning: invalid value encountered in divide\n",
      "  vwaps = pd.DataFrame(notionals.values / volumes.values, index=volumes.index, columns = volumes.columns)\n"
     ]
    },
    {
     "name": "stdout",
     "output_type": "stream",
     "text": [
      "Is Train asset:  True\n",
      "Naive_EOS_absolute_vwap_loss: Mean Training time: 0.0000 (±0.0000)\n",
      "Naive_EOS_absolute_vwap_loss: Mean absolute VWAP loss (1e-2): 0.2293 (±0.0000)\n",
      "Naive_EOS_absolute_vwap_loss: Mean quadratic VWAP loss (1e-4): 0.2576 (±0.0000)\n",
      "Naive_EOS_absolute_vwap_loss: Mean R2 on volume curve: 0.0000 (±0.0000)\n"
     ]
    },
    {
     "name": "stderr",
     "output_type": "stream",
     "text": [
      "/tmp/ipykernel_93748/3040326385.py:55: RuntimeWarning: invalid value encountered in divide\n",
      "  vwaps = pd.DataFrame(notionals.values / volumes.values, index=volumes.index, columns = volumes.columns)\n"
     ]
    },
    {
     "name": "stdout",
     "output_type": "stream",
     "text": [
      "Is Train asset:  True\n",
      "Globally Fitted DynamicVWAP Transformer_EOS_absolute_vwap_loss: Mean Training time: 0.0000 (±0.0000)\n",
      "Globally Fitted DynamicVWAP Transformer_EOS_absolute_vwap_loss: Mean absolute VWAP loss (1e-2): 0.1808 (±0.0004)\n",
      "Globally Fitted DynamicVWAP Transformer_EOS_absolute_vwap_loss: Mean quadratic VWAP loss (1e-4): 0.2162 (±0.0125)\n",
      "Globally Fitted DynamicVWAP Transformer_EOS_absolute_vwap_loss: Mean R2 on volume curve: -0.4850 (±0.0233)\n"
     ]
    },
    {
     "name": "stderr",
     "output_type": "stream",
     "text": [
      "/tmp/ipykernel_93748/3040326385.py:55: RuntimeWarning: invalid value encountered in divide\n",
      "  vwaps = pd.DataFrame(notionals.values / volumes.values, index=volumes.index, columns = volumes.columns)\n"
     ]
    },
    {
     "name": "stdout",
     "output_type": "stream",
     "text": [
      "Is Train asset:  False\n",
      "Naive_LTC_absolute_vwap_loss: Mean Training time: 0.0000 (±0.0000)\n",
      "Naive_LTC_absolute_vwap_loss: Mean absolute VWAP loss (1e-2): 0.1948 (±0.0000)\n",
      "Naive_LTC_absolute_vwap_loss: Mean quadratic VWAP loss (1e-4): 0.1722 (±0.0000)\n",
      "Naive_LTC_absolute_vwap_loss: Mean R2 on volume curve: 0.0000 (±0.0000)\n"
     ]
    },
    {
     "name": "stderr",
     "output_type": "stream",
     "text": [
      "/tmp/ipykernel_93748/3040326385.py:55: RuntimeWarning: invalid value encountered in divide\n",
      "  vwaps = pd.DataFrame(notionals.values / volumes.values, index=volumes.index, columns = volumes.columns)\n"
     ]
    },
    {
     "name": "stdout",
     "output_type": "stream",
     "text": [
      "Is Train asset:  False\n",
      "Globally Fitted DynamicVWAP Transformer_LTC_absolute_vwap_loss: Mean Training time: 0.0000 (±0.0000)\n",
      "Globally Fitted DynamicVWAP Transformer_LTC_absolute_vwap_loss: Mean absolute VWAP loss (1e-2): 0.1465 (±0.0010)\n",
      "Globally Fitted DynamicVWAP Transformer_LTC_absolute_vwap_loss: Mean quadratic VWAP loss (1e-4): 0.0975 (±0.0024)\n",
      "Globally Fitted DynamicVWAP Transformer_LTC_absolute_vwap_loss: Mean R2 on volume curve: -0.4710 (±0.0428)\n"
     ]
    },
    {
     "name": "stderr",
     "output_type": "stream",
     "text": [
      "/tmp/ipykernel_93748/3040326385.py:55: RuntimeWarning: invalid value encountered in divide\n",
      "  vwaps = pd.DataFrame(notionals.values / volumes.values, index=volumes.index, columns = volumes.columns)\n"
     ]
    },
    {
     "name": "stdout",
     "output_type": "stream",
     "text": [
      "Is Train asset:  True\n",
      "Naive_TRX_absolute_vwap_loss: Mean Training time: 0.0000 (±0.0000)\n",
      "Naive_TRX_absolute_vwap_loss: Mean absolute VWAP loss (1e-2): 0.1033 (±0.0000)\n",
      "Naive_TRX_absolute_vwap_loss: Mean quadratic VWAP loss (1e-4): 0.0598 (±0.0000)\n",
      "Naive_TRX_absolute_vwap_loss: Mean R2 on volume curve: 0.0000 (±0.0000)\n"
     ]
    },
    {
     "name": "stderr",
     "output_type": "stream",
     "text": [
      "/tmp/ipykernel_93748/3040326385.py:55: RuntimeWarning: invalid value encountered in divide\n",
      "  vwaps = pd.DataFrame(notionals.values / volumes.values, index=volumes.index, columns = volumes.columns)\n"
     ]
    },
    {
     "name": "stdout",
     "output_type": "stream",
     "text": [
      "Is Train asset:  True\n",
      "Globally Fitted DynamicVWAP Transformer_TRX_absolute_vwap_loss: Mean Training time: 0.0000 (±0.0000)\n",
      "Globally Fitted DynamicVWAP Transformer_TRX_absolute_vwap_loss: Mean absolute VWAP loss (1e-2): 0.0822 (±0.0004)\n",
      "Globally Fitted DynamicVWAP Transformer_TRX_absolute_vwap_loss: Mean quadratic VWAP loss (1e-4): 0.0329 (±0.0016)\n",
      "Globally Fitted DynamicVWAP Transformer_TRX_absolute_vwap_loss: Mean R2 on volume curve: -0.3548 (±0.0213)\n"
     ]
    },
    {
     "name": "stderr",
     "output_type": "stream",
     "text": [
      "/tmp/ipykernel_93748/3040326385.py:55: RuntimeWarning: invalid value encountered in divide\n",
      "  vwaps = pd.DataFrame(notionals.values / volumes.values, index=volumes.index, columns = volumes.columns)\n"
     ]
    },
    {
     "name": "stdout",
     "output_type": "stream",
     "text": [
      "Is Train asset:  False\n",
      "Naive_ETC_absolute_vwap_loss: Mean Training time: 0.0000 (±0.0000)\n",
      "Naive_ETC_absolute_vwap_loss: Mean absolute VWAP loss (1e-2): 0.2609 (±0.0000)\n",
      "Naive_ETC_absolute_vwap_loss: Mean quadratic VWAP loss (1e-4): 0.2965 (±0.0000)\n",
      "Naive_ETC_absolute_vwap_loss: Mean R2 on volume curve: 0.0000 (±0.0000)\n"
     ]
    },
    {
     "name": "stderr",
     "output_type": "stream",
     "text": [
      "/tmp/ipykernel_93748/3040326385.py:55: RuntimeWarning: invalid value encountered in divide\n",
      "  vwaps = pd.DataFrame(notionals.values / volumes.values, index=volumes.index, columns = volumes.columns)\n"
     ]
    },
    {
     "name": "stdout",
     "output_type": "stream",
     "text": [
      "Is Train asset:  False\n",
      "Globally Fitted DynamicVWAP Transformer_ETC_absolute_vwap_loss: Mean Training time: 0.0000 (±0.0000)\n",
      "Globally Fitted DynamicVWAP Transformer_ETC_absolute_vwap_loss: Mean absolute VWAP loss (1e-2): 0.1884 (±0.0033)\n",
      "Globally Fitted DynamicVWAP Transformer_ETC_absolute_vwap_loss: Mean quadratic VWAP loss (1e-4): 0.1693 (±0.0182)\n",
      "Globally Fitted DynamicVWAP Transformer_ETC_absolute_vwap_loss: Mean R2 on volume curve: -0.4334 (±0.0201)\n"
     ]
    },
    {
     "name": "stderr",
     "output_type": "stream",
     "text": [
      "/tmp/ipykernel_93748/3040326385.py:55: RuntimeWarning: invalid value encountered in divide\n",
      "  vwaps = pd.DataFrame(notionals.values / volumes.values, index=volumes.index, columns = volumes.columns)\n"
     ]
    },
    {
     "name": "stdout",
     "output_type": "stream",
     "text": [
      "Is Train asset:  True\n",
      "Naive_LINK_absolute_vwap_loss: Mean Training time: 0.0000 (±0.0000)\n",
      "Naive_LINK_absolute_vwap_loss: Mean absolute VWAP loss (1e-2): 0.2445 (±0.0000)\n",
      "Naive_LINK_absolute_vwap_loss: Mean quadratic VWAP loss (1e-4): 0.2838 (±0.0000)\n",
      "Naive_LINK_absolute_vwap_loss: Mean R2 on volume curve: 0.0000 (±0.0000)\n"
     ]
    },
    {
     "name": "stderr",
     "output_type": "stream",
     "text": [
      "/tmp/ipykernel_93748/3040326385.py:55: RuntimeWarning: invalid value encountered in divide\n",
      "  vwaps = pd.DataFrame(notionals.values / volumes.values, index=volumes.index, columns = volumes.columns)\n"
     ]
    },
    {
     "name": "stdout",
     "output_type": "stream",
     "text": [
      "Is Train asset:  True\n",
      "Globally Fitted DynamicVWAP Transformer_LINK_absolute_vwap_loss: Mean Training time: 0.0000 (±0.0000)\n",
      "Globally Fitted DynamicVWAP Transformer_LINK_absolute_vwap_loss: Mean absolute VWAP loss (1e-2): 0.1837 (±0.0007)\n",
      "Globally Fitted DynamicVWAP Transformer_LINK_absolute_vwap_loss: Mean quadratic VWAP loss (1e-4): 0.1786 (±0.0070)\n",
      "Globally Fitted DynamicVWAP Transformer_LINK_absolute_vwap_loss: Mean R2 on volume curve: -0.6415 (±0.0229)\n"
     ]
    },
    {
     "name": "stderr",
     "output_type": "stream",
     "text": [
      "/tmp/ipykernel_93748/3040326385.py:55: RuntimeWarning: invalid value encountered in divide\n",
      "  vwaps = pd.DataFrame(notionals.values / volumes.values, index=volumes.index, columns = volumes.columns)\n"
     ]
    },
    {
     "name": "stdout",
     "output_type": "stream",
     "text": [
      "Is Train asset:  False\n",
      "Naive_XLM_absolute_vwap_loss: Mean Training time: 0.0000 (±0.0000)\n",
      "Naive_XLM_absolute_vwap_loss: Mean absolute VWAP loss (1e-2): 0.1915 (±0.0000)\n",
      "Naive_XLM_absolute_vwap_loss: Mean quadratic VWAP loss (1e-4): 0.1857 (±0.0000)\n",
      "Naive_XLM_absolute_vwap_loss: Mean R2 on volume curve: 0.0000 (±0.0000)\n"
     ]
    },
    {
     "name": "stderr",
     "output_type": "stream",
     "text": [
      "/tmp/ipykernel_93748/3040326385.py:55: RuntimeWarning: invalid value encountered in divide\n",
      "  vwaps = pd.DataFrame(notionals.values / volumes.values, index=volumes.index, columns = volumes.columns)\n"
     ]
    },
    {
     "name": "stdout",
     "output_type": "stream",
     "text": [
      "Is Train asset:  False\n",
      "Globally Fitted DynamicVWAP Transformer_XLM_absolute_vwap_loss: Mean Training time: 0.0000 (±0.0000)\n",
      "Globally Fitted DynamicVWAP Transformer_XLM_absolute_vwap_loss: Mean absolute VWAP loss (1e-2): 0.1495 (±0.0008)\n",
      "Globally Fitted DynamicVWAP Transformer_XLM_absolute_vwap_loss: Mean quadratic VWAP loss (1e-4): 0.1091 (±0.0049)\n",
      "Globally Fitted DynamicVWAP Transformer_XLM_absolute_vwap_loss: Mean R2 on volume curve: -0.5022 (±0.0353)\n"
     ]
    },
    {
     "name": "stderr",
     "output_type": "stream",
     "text": [
      "/tmp/ipykernel_93748/3040326385.py:55: RuntimeWarning: invalid value encountered in divide\n",
      "  vwaps = pd.DataFrame(notionals.values / volumes.values, index=volumes.index, columns = volumes.columns)\n"
     ]
    },
    {
     "name": "stdout",
     "output_type": "stream",
     "text": [
      "Is Train asset:  True\n",
      "Naive_ADA_absolute_vwap_loss: Mean Training time: 0.0000 (±0.0000)\n",
      "Naive_ADA_absolute_vwap_loss: Mean absolute VWAP loss (1e-2): 0.2272 (±0.0000)\n",
      "Naive_ADA_absolute_vwap_loss: Mean quadratic VWAP loss (1e-4): 0.2315 (±0.0000)\n",
      "Naive_ADA_absolute_vwap_loss: Mean R2 on volume curve: 0.0000 (±0.0000)\n"
     ]
    },
    {
     "name": "stderr",
     "output_type": "stream",
     "text": [
      "/tmp/ipykernel_93748/3040326385.py:55: RuntimeWarning: invalid value encountered in divide\n",
      "  vwaps = pd.DataFrame(notionals.values / volumes.values, index=volumes.index, columns = volumes.columns)\n"
     ]
    },
    {
     "name": "stdout",
     "output_type": "stream",
     "text": [
      "Is Train asset:  True\n",
      "Globally Fitted DynamicVWAP Transformer_ADA_absolute_vwap_loss: Mean Training time: 0.0000 (±0.0000)\n",
      "Globally Fitted DynamicVWAP Transformer_ADA_absolute_vwap_loss: Mean absolute VWAP loss (1e-2): 0.1735 (±0.0024)\n",
      "Globally Fitted DynamicVWAP Transformer_ADA_absolute_vwap_loss: Mean quadratic VWAP loss (1e-4): 0.1693 (±0.0052)\n",
      "Globally Fitted DynamicVWAP Transformer_ADA_absolute_vwap_loss: Mean R2 on volume curve: -0.5464 (±0.0199)\n"
     ]
    },
    {
     "name": "stderr",
     "output_type": "stream",
     "text": [
      "/tmp/ipykernel_93748/3040326385.py:55: RuntimeWarning: invalid value encountered in divide\n",
      "  vwaps = pd.DataFrame(notionals.values / volumes.values, index=volumes.index, columns = volumes.columns)\n"
     ]
    },
    {
     "name": "stdout",
     "output_type": "stream",
     "text": [
      "Is Train asset:  False\n",
      "Naive_XMR_absolute_vwap_loss: Mean Training time: 0.0000 (±0.0000)\n",
      "Naive_XMR_absolute_vwap_loss: Mean absolute VWAP loss (1e-2): 0.1477 (±0.0000)\n",
      "Naive_XMR_absolute_vwap_loss: Mean quadratic VWAP loss (1e-4): 0.2252 (±0.0000)\n",
      "Naive_XMR_absolute_vwap_loss: Mean R2 on volume curve: 0.0000 (±0.0000)\n"
     ]
    },
    {
     "name": "stderr",
     "output_type": "stream",
     "text": [
      "/tmp/ipykernel_93748/3040326385.py:55: RuntimeWarning: invalid value encountered in divide\n",
      "  vwaps = pd.DataFrame(notionals.values / volumes.values, index=volumes.index, columns = volumes.columns)\n"
     ]
    },
    {
     "name": "stdout",
     "output_type": "stream",
     "text": [
      "Is Train asset:  False\n",
      "Globally Fitted DynamicVWAP Transformer_XMR_absolute_vwap_loss: Mean Training time: 0.0000 (±0.0000)\n",
      "Globally Fitted DynamicVWAP Transformer_XMR_absolute_vwap_loss: Mean absolute VWAP loss (1e-2): 0.1457 (±0.0009)\n",
      "Globally Fitted DynamicVWAP Transformer_XMR_absolute_vwap_loss: Mean quadratic VWAP loss (1e-4): 0.4218 (±0.0029)\n",
      "Globally Fitted DynamicVWAP Transformer_XMR_absolute_vwap_loss: Mean R2 on volume curve: -0.7292 (±0.0778)\n"
     ]
    },
    {
     "name": "stderr",
     "output_type": "stream",
     "text": [
      "/tmp/ipykernel_93748/3040326385.py:55: RuntimeWarning: invalid value encountered in divide\n",
      "  vwaps = pd.DataFrame(notionals.values / volumes.values, index=volumes.index, columns = volumes.columns)\n"
     ]
    },
    {
     "name": "stdout",
     "output_type": "stream",
     "text": [
      "Is Train asset:  True\n",
      "Naive_DASH_absolute_vwap_loss: Mean Training time: 0.0000 (±0.0000)\n",
      "Naive_DASH_absolute_vwap_loss: Mean absolute VWAP loss (1e-2): 0.2041 (±0.0000)\n",
      "Naive_DASH_absolute_vwap_loss: Mean quadratic VWAP loss (1e-4): 0.2261 (±0.0000)\n",
      "Naive_DASH_absolute_vwap_loss: Mean R2 on volume curve: 0.0000 (±0.0000)\n"
     ]
    },
    {
     "name": "stderr",
     "output_type": "stream",
     "text": [
      "/tmp/ipykernel_93748/3040326385.py:55: RuntimeWarning: invalid value encountered in divide\n",
      "  vwaps = pd.DataFrame(notionals.values / volumes.values, index=volumes.index, columns = volumes.columns)\n"
     ]
    },
    {
     "name": "stdout",
     "output_type": "stream",
     "text": [
      "Is Train asset:  True\n",
      "Globally Fitted DynamicVWAP Transformer_DASH_absolute_vwap_loss: Mean Training time: 0.0000 (±0.0000)\n",
      "Globally Fitted DynamicVWAP Transformer_DASH_absolute_vwap_loss: Mean absolute VWAP loss (1e-2): 0.1589 (±0.0003)\n",
      "Globally Fitted DynamicVWAP Transformer_DASH_absolute_vwap_loss: Mean quadratic VWAP loss (1e-4): 0.1424 (±0.0040)\n",
      "Globally Fitted DynamicVWAP Transformer_DASH_absolute_vwap_loss: Mean R2 on volume curve: -0.5398 (±0.0402)\n"
     ]
    },
    {
     "name": "stderr",
     "output_type": "stream",
     "text": [
      "/tmp/ipykernel_93748/3040326385.py:55: RuntimeWarning: invalid value encountered in divide\n",
      "  vwaps = pd.DataFrame(notionals.values / volumes.values, index=volumes.index, columns = volumes.columns)\n"
     ]
    },
    {
     "name": "stdout",
     "output_type": "stream",
     "text": [
      "Is Train asset:  False\n",
      "Naive_ZEC_absolute_vwap_loss: Mean Training time: 0.0000 (±0.0000)\n",
      "Naive_ZEC_absolute_vwap_loss: Mean absolute VWAP loss (1e-2): 0.2274 (±0.0000)\n",
      "Naive_ZEC_absolute_vwap_loss: Mean quadratic VWAP loss (1e-4): 0.2947 (±0.0000)\n",
      "Naive_ZEC_absolute_vwap_loss: Mean R2 on volume curve: 0.0000 (±0.0000)\n"
     ]
    },
    {
     "name": "stderr",
     "output_type": "stream",
     "text": [
      "/tmp/ipykernel_93748/3040326385.py:55: RuntimeWarning: invalid value encountered in divide\n",
      "  vwaps = pd.DataFrame(notionals.values / volumes.values, index=volumes.index, columns = volumes.columns)\n"
     ]
    },
    {
     "name": "stdout",
     "output_type": "stream",
     "text": [
      "Is Train asset:  False\n",
      "Globally Fitted DynamicVWAP Transformer_ZEC_absolute_vwap_loss: Mean Training time: 0.0000 (±0.0000)\n",
      "Globally Fitted DynamicVWAP Transformer_ZEC_absolute_vwap_loss: Mean absolute VWAP loss (1e-2): 0.1844 (±0.0005)\n",
      "Globally Fitted DynamicVWAP Transformer_ZEC_absolute_vwap_loss: Mean quadratic VWAP loss (1e-4): 0.1920 (±0.0003)\n",
      "Globally Fitted DynamicVWAP Transformer_ZEC_absolute_vwap_loss: Mean R2 on volume curve: -0.5537 (±0.0388)\n"
     ]
    },
    {
     "name": "stderr",
     "output_type": "stream",
     "text": [
      "/tmp/ipykernel_93748/3040326385.py:55: RuntimeWarning: invalid value encountered in divide\n",
      "  vwaps = pd.DataFrame(notionals.values / volumes.values, index=volumes.index, columns = volumes.columns)\n"
     ]
    },
    {
     "name": "stdout",
     "output_type": "stream",
     "text": [
      "Is Train asset:  True\n",
      "Naive_XTZ_absolute_vwap_loss: Mean Training time: 0.0000 (±0.0000)\n",
      "Naive_XTZ_absolute_vwap_loss: Mean absolute VWAP loss (1e-2): 0.2414 (±0.0000)\n",
      "Naive_XTZ_absolute_vwap_loss: Mean quadratic VWAP loss (1e-4): 0.3010 (±0.0000)\n",
      "Naive_XTZ_absolute_vwap_loss: Mean R2 on volume curve: 0.0000 (±0.0000)\n"
     ]
    },
    {
     "name": "stderr",
     "output_type": "stream",
     "text": [
      "/tmp/ipykernel_93748/3040326385.py:55: RuntimeWarning: invalid value encountered in divide\n",
      "  vwaps = pd.DataFrame(notionals.values / volumes.values, index=volumes.index, columns = volumes.columns)\n"
     ]
    },
    {
     "name": "stdout",
     "output_type": "stream",
     "text": [
      "Is Train asset:  True\n",
      "Globally Fitted DynamicVWAP Transformer_XTZ_absolute_vwap_loss: Mean Training time: 0.0000 (±0.0000)\n",
      "Globally Fitted DynamicVWAP Transformer_XTZ_absolute_vwap_loss: Mean absolute VWAP loss (1e-2): 0.1966 (±0.0002)\n",
      "Globally Fitted DynamicVWAP Transformer_XTZ_absolute_vwap_loss: Mean quadratic VWAP loss (1e-4): 0.1816 (±0.0044)\n",
      "Globally Fitted DynamicVWAP Transformer_XTZ_absolute_vwap_loss: Mean R2 on volume curve: -0.3789 (±0.0324)\n"
     ]
    },
    {
     "name": "stderr",
     "output_type": "stream",
     "text": [
      "/tmp/ipykernel_93748/3040326385.py:55: RuntimeWarning: invalid value encountered in divide\n",
      "  vwaps = pd.DataFrame(notionals.values / volumes.values, index=volumes.index, columns = volumes.columns)\n"
     ]
    },
    {
     "name": "stdout",
     "output_type": "stream",
     "text": [
      "Is Train asset:  False\n",
      "Naive_ATOM_absolute_vwap_loss: Mean Training time: 0.0000 (±0.0000)\n",
      "Naive_ATOM_absolute_vwap_loss: Mean absolute VWAP loss (1e-2): 0.2113 (±0.0000)\n",
      "Naive_ATOM_absolute_vwap_loss: Mean quadratic VWAP loss (1e-4): 0.1804 (±0.0000)\n",
      "Naive_ATOM_absolute_vwap_loss: Mean R2 on volume curve: 0.0000 (±0.0000)\n"
     ]
    },
    {
     "name": "stderr",
     "output_type": "stream",
     "text": [
      "/tmp/ipykernel_93748/3040326385.py:55: RuntimeWarning: invalid value encountered in divide\n",
      "  vwaps = pd.DataFrame(notionals.values / volumes.values, index=volumes.index, columns = volumes.columns)\n"
     ]
    },
    {
     "name": "stdout",
     "output_type": "stream",
     "text": [
      "Is Train asset:  False\n",
      "Globally Fitted DynamicVWAP Transformer_ATOM_absolute_vwap_loss: Mean Training time: 0.0000 (±0.0000)\n",
      "Globally Fitted DynamicVWAP Transformer_ATOM_absolute_vwap_loss: Mean absolute VWAP loss (1e-2): 0.1640 (±0.0012)\n",
      "Globally Fitted DynamicVWAP Transformer_ATOM_absolute_vwap_loss: Mean quadratic VWAP loss (1e-4): 0.1106 (±0.0070)\n",
      "Globally Fitted DynamicVWAP Transformer_ATOM_absolute_vwap_loss: Mean R2 on volume curve: -0.5383 (±0.0429)\n"
     ]
    },
    {
     "name": "stderr",
     "output_type": "stream",
     "text": [
      "/tmp/ipykernel_93748/3040326385.py:55: RuntimeWarning: invalid value encountered in divide\n",
      "  vwaps = pd.DataFrame(notionals.values / volumes.values, index=volumes.index, columns = volumes.columns)\n"
     ]
    },
    {
     "name": "stdout",
     "output_type": "stream",
     "text": [
      "Is Train asset:  True\n",
      "Naive_BNB_absolute_vwap_loss: Mean Training time: 0.0000 (±0.0000)\n",
      "Naive_BNB_absolute_vwap_loss: Mean absolute VWAP loss (1e-2): 0.1739 (±0.0000)\n",
      "Naive_BNB_absolute_vwap_loss: Mean quadratic VWAP loss (1e-4): 0.1192 (±0.0000)\n",
      "Naive_BNB_absolute_vwap_loss: Mean R2 on volume curve: 0.0000 (±0.0000)\n"
     ]
    },
    {
     "name": "stderr",
     "output_type": "stream",
     "text": [
      "/tmp/ipykernel_93748/3040326385.py:55: RuntimeWarning: invalid value encountered in divide\n",
      "  vwaps = pd.DataFrame(notionals.values / volumes.values, index=volumes.index, columns = volumes.columns)\n"
     ]
    },
    {
     "name": "stdout",
     "output_type": "stream",
     "text": [
      "Is Train asset:  True\n",
      "Globally Fitted DynamicVWAP Transformer_BNB_absolute_vwap_loss: Mean Training time: 0.0000 (±0.0000)\n",
      "Globally Fitted DynamicVWAP Transformer_BNB_absolute_vwap_loss: Mean absolute VWAP loss (1e-2): 0.1257 (±0.0006)\n",
      "Globally Fitted DynamicVWAP Transformer_BNB_absolute_vwap_loss: Mean quadratic VWAP loss (1e-4): 0.0689 (±0.0054)\n",
      "Globally Fitted DynamicVWAP Transformer_BNB_absolute_vwap_loss: Mean R2 on volume curve: -0.4274 (±0.0122)\n"
     ]
    },
    {
     "name": "stderr",
     "output_type": "stream",
     "text": [
      "/tmp/ipykernel_93748/3040326385.py:55: RuntimeWarning: invalid value encountered in divide\n",
      "  vwaps = pd.DataFrame(notionals.values / volumes.values, index=volumes.index, columns = volumes.columns)\n"
     ]
    },
    {
     "name": "stdout",
     "output_type": "stream",
     "text": [
      "Is Train asset:  False\n",
      "Naive_ONT_absolute_vwap_loss: Mean Training time: 0.0000 (±0.0000)\n",
      "Naive_ONT_absolute_vwap_loss: Mean absolute VWAP loss (1e-2): 0.3347 (±0.0000)\n",
      "Naive_ONT_absolute_vwap_loss: Mean quadratic VWAP loss (1e-4): 0.5109 (±0.0000)\n",
      "Naive_ONT_absolute_vwap_loss: Mean R2 on volume curve: 0.0000 (±0.0000)\n"
     ]
    },
    {
     "name": "stderr",
     "output_type": "stream",
     "text": [
      "/tmp/ipykernel_93748/3040326385.py:55: RuntimeWarning: invalid value encountered in divide\n",
      "  vwaps = pd.DataFrame(notionals.values / volumes.values, index=volumes.index, columns = volumes.columns)\n"
     ]
    },
    {
     "name": "stdout",
     "output_type": "stream",
     "text": [
      "Is Train asset:  False\n",
      "Globally Fitted DynamicVWAP Transformer_ONT_absolute_vwap_loss: Mean Training time: 0.0000 (±0.0000)\n",
      "Globally Fitted DynamicVWAP Transformer_ONT_absolute_vwap_loss: Mean absolute VWAP loss (1e-2): 0.2678 (±0.0022)\n",
      "Globally Fitted DynamicVWAP Transformer_ONT_absolute_vwap_loss: Mean quadratic VWAP loss (1e-4): 0.3427 (±0.0045)\n",
      "Globally Fitted DynamicVWAP Transformer_ONT_absolute_vwap_loss: Mean R2 on volume curve: -0.3695 (±0.0001)\n"
     ]
    },
    {
     "name": "stderr",
     "output_type": "stream",
     "text": [
      "/tmp/ipykernel_93748/3040326385.py:55: RuntimeWarning: invalid value encountered in divide\n",
      "  vwaps = pd.DataFrame(notionals.values / volumes.values, index=volumes.index, columns = volumes.columns)\n"
     ]
    },
    {
     "name": "stdout",
     "output_type": "stream",
     "text": [
      "Is Train asset:  True\n",
      "Naive_IOTA_absolute_vwap_loss: Mean Training time: 0.0000 (±0.0000)\n",
      "Naive_IOTA_absolute_vwap_loss: Mean absolute VWAP loss (1e-2): 0.3229 (±0.0000)\n",
      "Naive_IOTA_absolute_vwap_loss: Mean quadratic VWAP loss (1e-4): 0.6238 (±0.0000)\n",
      "Naive_IOTA_absolute_vwap_loss: Mean R2 on volume curve: 0.0000 (±0.0000)\n"
     ]
    },
    {
     "name": "stderr",
     "output_type": "stream",
     "text": [
      "/tmp/ipykernel_93748/3040326385.py:55: RuntimeWarning: invalid value encountered in divide\n",
      "  vwaps = pd.DataFrame(notionals.values / volumes.values, index=volumes.index, columns = volumes.columns)\n"
     ]
    },
    {
     "name": "stdout",
     "output_type": "stream",
     "text": [
      "Is Train asset:  True\n",
      "Globally Fitted DynamicVWAP Transformer_IOTA_absolute_vwap_loss: Mean Training time: 0.0000 (±0.0000)\n",
      "Globally Fitted DynamicVWAP Transformer_IOTA_absolute_vwap_loss: Mean absolute VWAP loss (1e-2): 0.2714 (±0.0030)\n",
      "Globally Fitted DynamicVWAP Transformer_IOTA_absolute_vwap_loss: Mean quadratic VWAP loss (1e-4): 0.4685 (±0.0221)\n",
      "Globally Fitted DynamicVWAP Transformer_IOTA_absolute_vwap_loss: Mean R2 on volume curve: -0.4620 (±0.0149)\n"
     ]
    },
    {
     "name": "stderr",
     "output_type": "stream",
     "text": [
      "/tmp/ipykernel_93748/3040326385.py:55: RuntimeWarning: invalid value encountered in divide\n",
      "  vwaps = pd.DataFrame(notionals.values / volumes.values, index=volumes.index, columns = volumes.columns)\n"
     ]
    },
    {
     "name": "stdout",
     "output_type": "stream",
     "text": [
      "Is Train asset:  False\n",
      "Naive_BAT_absolute_vwap_loss: Mean Training time: 0.0000 (±0.0000)\n",
      "Naive_BAT_absolute_vwap_loss: Mean absolute VWAP loss (1e-2): 0.2533 (±0.0000)\n",
      "Naive_BAT_absolute_vwap_loss: Mean quadratic VWAP loss (1e-4): 0.2880 (±0.0000)\n",
      "Naive_BAT_absolute_vwap_loss: Mean R2 on volume curve: 0.0000 (±0.0000)\n"
     ]
    },
    {
     "name": "stderr",
     "output_type": "stream",
     "text": [
      "/tmp/ipykernel_93748/3040326385.py:55: RuntimeWarning: invalid value encountered in divide\n",
      "  vwaps = pd.DataFrame(notionals.values / volumes.values, index=volumes.index, columns = volumes.columns)\n"
     ]
    },
    {
     "name": "stdout",
     "output_type": "stream",
     "text": [
      "Is Train asset:  False\n",
      "Globally Fitted DynamicVWAP Transformer_BAT_absolute_vwap_loss: Mean Training time: 0.0000 (±0.0000)\n",
      "Globally Fitted DynamicVWAP Transformer_BAT_absolute_vwap_loss: Mean absolute VWAP loss (1e-2): 0.2202 (±0.0003)\n",
      "Globally Fitted DynamicVWAP Transformer_BAT_absolute_vwap_loss: Mean quadratic VWAP loss (1e-4): 0.2450 (±0.0010)\n",
      "Globally Fitted DynamicVWAP Transformer_BAT_absolute_vwap_loss: Mean R2 on volume curve: -0.3662 (±0.0164)\n"
     ]
    },
    {
     "name": "stderr",
     "output_type": "stream",
     "text": [
      "/tmp/ipykernel_93748/3040326385.py:55: RuntimeWarning: invalid value encountered in divide\n",
      "  vwaps = pd.DataFrame(notionals.values / volumes.values, index=volumes.index, columns = volumes.columns)\n"
     ]
    },
    {
     "name": "stdout",
     "output_type": "stream",
     "text": [
      "Is Train asset:  True\n",
      "Naive_VET_absolute_vwap_loss: Mean Training time: 0.0000 (±0.0000)\n",
      "Naive_VET_absolute_vwap_loss: Mean absolute VWAP loss (1e-2): 0.2663 (±0.0000)\n",
      "Naive_VET_absolute_vwap_loss: Mean quadratic VWAP loss (1e-4): 0.3139 (±0.0000)\n",
      "Naive_VET_absolute_vwap_loss: Mean R2 on volume curve: 0.0000 (±0.0000)\n"
     ]
    },
    {
     "name": "stderr",
     "output_type": "stream",
     "text": [
      "/tmp/ipykernel_93748/3040326385.py:55: RuntimeWarning: invalid value encountered in divide\n",
      "  vwaps = pd.DataFrame(notionals.values / volumes.values, index=volumes.index, columns = volumes.columns)\n"
     ]
    },
    {
     "name": "stdout",
     "output_type": "stream",
     "text": [
      "Is Train asset:  True\n",
      "Globally Fitted DynamicVWAP Transformer_VET_absolute_vwap_loss: Mean Training time: 0.0000 (±0.0000)\n",
      "Globally Fitted DynamicVWAP Transformer_VET_absolute_vwap_loss: Mean absolute VWAP loss (1e-2): 0.2061 (±0.0032)\n",
      "Globally Fitted DynamicVWAP Transformer_VET_absolute_vwap_loss: Mean quadratic VWAP loss (1e-4): 0.2195 (±0.0059)\n",
      "Globally Fitted DynamicVWAP Transformer_VET_absolute_vwap_loss: Mean R2 on volume curve: -0.4512 (±0.0323)\n"
     ]
    },
    {
     "name": "stderr",
     "output_type": "stream",
     "text": [
      "/tmp/ipykernel_93748/3040326385.py:55: RuntimeWarning: invalid value encountered in divide\n",
      "  vwaps = pd.DataFrame(notionals.values / volumes.values, index=volumes.index, columns = volumes.columns)\n"
     ]
    },
    {
     "name": "stdout",
     "output_type": "stream",
     "text": [
      "Is Train asset:  False\n",
      "Naive_NEO_absolute_vwap_loss: Mean Training time: 0.0000 (±0.0000)\n",
      "Naive_NEO_absolute_vwap_loss: Mean absolute VWAP loss (1e-2): 0.3084 (±0.0000)\n",
      "Naive_NEO_absolute_vwap_loss: Mean quadratic VWAP loss (1e-4): 0.5270 (±0.0000)\n",
      "Naive_NEO_absolute_vwap_loss: Mean R2 on volume curve: 0.0000 (±0.0000)\n"
     ]
    },
    {
     "name": "stderr",
     "output_type": "stream",
     "text": [
      "/tmp/ipykernel_93748/3040326385.py:55: RuntimeWarning: invalid value encountered in divide\n",
      "  vwaps = pd.DataFrame(notionals.values / volumes.values, index=volumes.index, columns = volumes.columns)\n"
     ]
    },
    {
     "name": "stdout",
     "output_type": "stream",
     "text": [
      "Is Train asset:  False\n",
      "Globally Fitted DynamicVWAP Transformer_NEO_absolute_vwap_loss: Mean Training time: 0.0000 (±0.0000)\n",
      "Globally Fitted DynamicVWAP Transformer_NEO_absolute_vwap_loss: Mean absolute VWAP loss (1e-2): 0.2439 (±0.0000)\n",
      "Globally Fitted DynamicVWAP Transformer_NEO_absolute_vwap_loss: Mean quadratic VWAP loss (1e-4): 0.3356 (±0.0093)\n",
      "Globally Fitted DynamicVWAP Transformer_NEO_absolute_vwap_loss: Mean R2 on volume curve: -0.4542 (±0.0091)\n"
     ]
    },
    {
     "name": "stderr",
     "output_type": "stream",
     "text": [
      "/tmp/ipykernel_93748/3040326385.py:55: RuntimeWarning: invalid value encountered in divide\n",
      "  vwaps = pd.DataFrame(notionals.values / volumes.values, index=volumes.index, columns = volumes.columns)\n"
     ]
    },
    {
     "name": "stdout",
     "output_type": "stream",
     "text": [
      "Is Train asset:  True\n",
      "Naive_QTUM_absolute_vwap_loss: Mean Training time: 0.0000 (±0.0000)\n",
      "Naive_QTUM_absolute_vwap_loss: Mean absolute VWAP loss (1e-2): 0.3065 (±0.0000)\n",
      "Naive_QTUM_absolute_vwap_loss: Mean quadratic VWAP loss (1e-4): 0.5235 (±0.0000)\n",
      "Naive_QTUM_absolute_vwap_loss: Mean R2 on volume curve: 0.0000 (±0.0000)\n"
     ]
    },
    {
     "name": "stderr",
     "output_type": "stream",
     "text": [
      "/tmp/ipykernel_93748/3040326385.py:55: RuntimeWarning: invalid value encountered in divide\n",
      "  vwaps = pd.DataFrame(notionals.values / volumes.values, index=volumes.index, columns = volumes.columns)\n"
     ]
    },
    {
     "name": "stdout",
     "output_type": "stream",
     "text": [
      "Is Train asset:  True\n",
      "Globally Fitted DynamicVWAP Transformer_QTUM_absolute_vwap_loss: Mean Training time: 0.0000 (±0.0000)\n",
      "Globally Fitted DynamicVWAP Transformer_QTUM_absolute_vwap_loss: Mean absolute VWAP loss (1e-2): 0.2523 (±0.0006)\n",
      "Globally Fitted DynamicVWAP Transformer_QTUM_absolute_vwap_loss: Mean quadratic VWAP loss (1e-4): 0.3423 (±0.0209)\n",
      "Globally Fitted DynamicVWAP Transformer_QTUM_absolute_vwap_loss: Mean R2 on volume curve: -0.3674 (±0.0052)\n"
     ]
    },
    {
     "name": "stderr",
     "output_type": "stream",
     "text": [
      "/tmp/ipykernel_93748/3040326385.py:55: RuntimeWarning: invalid value encountered in divide\n",
      "  vwaps = pd.DataFrame(notionals.values / volumes.values, index=volumes.index, columns = volumes.columns)\n"
     ]
    },
    {
     "name": "stdout",
     "output_type": "stream",
     "text": [
      "Is Train asset:  False\n",
      "Naive_IOST_absolute_vwap_loss: Mean Training time: 0.0000 (±0.0000)\n",
      "Naive_IOST_absolute_vwap_loss: Mean absolute VWAP loss (1e-2): 0.2681 (±0.0000)\n",
      "Naive_IOST_absolute_vwap_loss: Mean quadratic VWAP loss (1e-4): 0.3690 (±0.0000)\n",
      "Naive_IOST_absolute_vwap_loss: Mean R2 on volume curve: 0.0000 (±0.0000)\n"
     ]
    },
    {
     "name": "stderr",
     "output_type": "stream",
     "text": [
      "/tmp/ipykernel_93748/3040326385.py:55: RuntimeWarning: invalid value encountered in divide\n",
      "  vwaps = pd.DataFrame(notionals.values / volumes.values, index=volumes.index, columns = volumes.columns)\n"
     ]
    },
    {
     "name": "stdout",
     "output_type": "stream",
     "text": [
      "Is Train asset:  False\n",
      "Globally Fitted DynamicVWAP Transformer_IOST_absolute_vwap_loss: Mean Training time: 0.0000 (±0.0000)\n",
      "Globally Fitted DynamicVWAP Transformer_IOST_absolute_vwap_loss: Mean absolute VWAP loss (1e-2): 0.2252 (±0.0036)\n",
      "Globally Fitted DynamicVWAP Transformer_IOST_absolute_vwap_loss: Mean quadratic VWAP loss (1e-4): 0.2650 (±0.0061)\n",
      "Globally Fitted DynamicVWAP Transformer_IOST_absolute_vwap_loss: Mean R2 on volume curve: -0.3346 (±0.0155)\n"
     ]
    },
    {
     "name": "stderr",
     "output_type": "stream",
     "text": [
      "/tmp/ipykernel_93748/3040326385.py:55: RuntimeWarning: invalid value encountered in divide\n",
      "  vwaps = pd.DataFrame(notionals.values / volumes.values, index=volumes.index, columns = volumes.columns)\n"
     ]
    },
    {
     "name": "stdout",
     "output_type": "stream",
     "text": [
      "Is Train asset:  True\n",
      "Naive_THETA_absolute_vwap_loss: Mean Training time: 0.0000 (±0.0000)\n",
      "Naive_THETA_absolute_vwap_loss: Mean absolute VWAP loss (1e-2): 0.3352 (±0.0000)\n",
      "Naive_THETA_absolute_vwap_loss: Mean quadratic VWAP loss (1e-4): 0.5155 (±0.0000)\n",
      "Naive_THETA_absolute_vwap_loss: Mean R2 on volume curve: 0.0000 (±0.0000)\n"
     ]
    },
    {
     "name": "stderr",
     "output_type": "stream",
     "text": [
      "/tmp/ipykernel_93748/3040326385.py:55: RuntimeWarning: invalid value encountered in divide\n",
      "  vwaps = pd.DataFrame(notionals.values / volumes.values, index=volumes.index, columns = volumes.columns)\n"
     ]
    },
    {
     "name": "stdout",
     "output_type": "stream",
     "text": [
      "Is Train asset:  True\n",
      "Globally Fitted DynamicVWAP Transformer_THETA_absolute_vwap_loss: Mean Training time: 0.0000 (±0.0000)\n",
      "Globally Fitted DynamicVWAP Transformer_THETA_absolute_vwap_loss: Mean absolute VWAP loss (1e-2): 0.2637 (±0.0058)\n",
      "Globally Fitted DynamicVWAP Transformer_THETA_absolute_vwap_loss: Mean quadratic VWAP loss (1e-4): 0.3649 (±0.0482)\n",
      "Globally Fitted DynamicVWAP Transformer_THETA_absolute_vwap_loss: Mean R2 on volume curve: -0.4782 (±0.0017)\n"
     ]
    },
    {
     "name": "stderr",
     "output_type": "stream",
     "text": [
      "/tmp/ipykernel_93748/3040326385.py:55: RuntimeWarning: invalid value encountered in divide\n",
      "  vwaps = pd.DataFrame(notionals.values / volumes.values, index=volumes.index, columns = volumes.columns)\n"
     ]
    },
    {
     "name": "stdout",
     "output_type": "stream",
     "text": [
      "Is Train asset:  False\n",
      "Naive_ALGO_absolute_vwap_loss: Mean Training time: 0.0000 (±0.0000)\n",
      "Naive_ALGO_absolute_vwap_loss: Mean absolute VWAP loss (1e-2): 0.2762 (±0.0000)\n",
      "Naive_ALGO_absolute_vwap_loss: Mean quadratic VWAP loss (1e-4): 0.3729 (±0.0000)\n",
      "Naive_ALGO_absolute_vwap_loss: Mean R2 on volume curve: 0.0000 (±0.0000)\n"
     ]
    },
    {
     "name": "stderr",
     "output_type": "stream",
     "text": [
      "/tmp/ipykernel_93748/3040326385.py:55: RuntimeWarning: invalid value encountered in divide\n",
      "  vwaps = pd.DataFrame(notionals.values / volumes.values, index=volumes.index, columns = volumes.columns)\n"
     ]
    },
    {
     "name": "stdout",
     "output_type": "stream",
     "text": [
      "Is Train asset:  False\n",
      "Globally Fitted DynamicVWAP Transformer_ALGO_absolute_vwap_loss: Mean Training time: 0.0000 (±0.0000)\n",
      "Globally Fitted DynamicVWAP Transformer_ALGO_absolute_vwap_loss: Mean absolute VWAP loss (1e-2): 0.2125 (±0.0009)\n",
      "Globally Fitted DynamicVWAP Transformer_ALGO_absolute_vwap_loss: Mean quadratic VWAP loss (1e-4): 0.2332 (±0.0037)\n",
      "Globally Fitted DynamicVWAP Transformer_ALGO_absolute_vwap_loss: Mean R2 on volume curve: -0.5858 (±0.0233)\n"
     ]
    },
    {
     "name": "stderr",
     "output_type": "stream",
     "text": [
      "/tmp/ipykernel_93748/3040326385.py:55: RuntimeWarning: invalid value encountered in divide\n",
      "  vwaps = pd.DataFrame(notionals.values / volumes.values, index=volumes.index, columns = volumes.columns)\n"
     ]
    },
    {
     "name": "stdout",
     "output_type": "stream",
     "text": [
      "Is Train asset:  True\n",
      "Naive_ZIL_absolute_vwap_loss: Mean Training time: 0.0000 (±0.0000)\n",
      "Naive_ZIL_absolute_vwap_loss: Mean absolute VWAP loss (1e-2): 0.2802 (±0.0000)\n",
      "Naive_ZIL_absolute_vwap_loss: Mean quadratic VWAP loss (1e-4): 0.3757 (±0.0000)\n",
      "Naive_ZIL_absolute_vwap_loss: Mean R2 on volume curve: 0.0000 (±0.0000)\n"
     ]
    },
    {
     "name": "stderr",
     "output_type": "stream",
     "text": [
      "/tmp/ipykernel_93748/3040326385.py:55: RuntimeWarning: invalid value encountered in divide\n",
      "  vwaps = pd.DataFrame(notionals.values / volumes.values, index=volumes.index, columns = volumes.columns)\n"
     ]
    },
    {
     "name": "stdout",
     "output_type": "stream",
     "text": [
      "Is Train asset:  True\n",
      "Globally Fitted DynamicVWAP Transformer_ZIL_absolute_vwap_loss: Mean Training time: 0.0000 (±0.0000)\n",
      "Globally Fitted DynamicVWAP Transformer_ZIL_absolute_vwap_loss: Mean absolute VWAP loss (1e-2): 0.2237 (±0.0012)\n",
      "Globally Fitted DynamicVWAP Transformer_ZIL_absolute_vwap_loss: Mean quadratic VWAP loss (1e-4): 0.2760 (±0.0059)\n",
      "Globally Fitted DynamicVWAP Transformer_ZIL_absolute_vwap_loss: Mean R2 on volume curve: -0.4214 (±0.0267)\n"
     ]
    },
    {
     "name": "stderr",
     "output_type": "stream",
     "text": [
      "/tmp/ipykernel_93748/3040326385.py:55: RuntimeWarning: invalid value encountered in divide\n",
      "  vwaps = pd.DataFrame(notionals.values / volumes.values, index=volumes.index, columns = volumes.columns)\n"
     ]
    },
    {
     "name": "stdout",
     "output_type": "stream",
     "text": [
      "Is Train asset:  False\n",
      "Naive_KNC_absolute_vwap_loss: Mean Training time: 0.0000 (±0.0000)\n",
      "Naive_KNC_absolute_vwap_loss: Mean absolute VWAP loss (1e-2): 0.2700 (±0.0000)\n",
      "Naive_KNC_absolute_vwap_loss: Mean quadratic VWAP loss (1e-4): 0.3287 (±0.0000)\n",
      "Naive_KNC_absolute_vwap_loss: Mean R2 on volume curve: 0.0000 (±0.0000)\n"
     ]
    },
    {
     "name": "stderr",
     "output_type": "stream",
     "text": [
      "/tmp/ipykernel_93748/3040326385.py:55: RuntimeWarning: invalid value encountered in divide\n",
      "  vwaps = pd.DataFrame(notionals.values / volumes.values, index=volumes.index, columns = volumes.columns)\n"
     ]
    },
    {
     "name": "stdout",
     "output_type": "stream",
     "text": [
      "Is Train asset:  False\n",
      "Globally Fitted DynamicVWAP Transformer_KNC_absolute_vwap_loss: Mean Training time: 0.0000 (±0.0000)\n",
      "Globally Fitted DynamicVWAP Transformer_KNC_absolute_vwap_loss: Mean absolute VWAP loss (1e-2): 0.2259 (±0.0031)\n",
      "Globally Fitted DynamicVWAP Transformer_KNC_absolute_vwap_loss: Mean quadratic VWAP loss (1e-4): 0.2464 (±0.0161)\n",
      "Globally Fitted DynamicVWAP Transformer_KNC_absolute_vwap_loss: Mean R2 on volume curve: -0.4325 (±0.0218)\n"
     ]
    },
    {
     "name": "stderr",
     "output_type": "stream",
     "text": [
      "/tmp/ipykernel_93748/3040326385.py:55: RuntimeWarning: invalid value encountered in divide\n",
      "  vwaps = pd.DataFrame(notionals.values / volumes.values, index=volumes.index, columns = volumes.columns)\n"
     ]
    },
    {
     "name": "stdout",
     "output_type": "stream",
     "text": [
      "Is Train asset:  True\n",
      "Naive_ZRX_absolute_vwap_loss: Mean Training time: 0.0000 (±0.0000)\n",
      "Naive_ZRX_absolute_vwap_loss: Mean absolute VWAP loss (1e-2): 0.4219 (±0.0000)\n",
      "Naive_ZRX_absolute_vwap_loss: Mean quadratic VWAP loss (1e-4): 0.9514 (±0.0000)\n",
      "Naive_ZRX_absolute_vwap_loss: Mean R2 on volume curve: 0.0000 (±0.0000)\n"
     ]
    },
    {
     "name": "stderr",
     "output_type": "stream",
     "text": [
      "/tmp/ipykernel_93748/3040326385.py:55: RuntimeWarning: invalid value encountered in divide\n",
      "  vwaps = pd.DataFrame(notionals.values / volumes.values, index=volumes.index, columns = volumes.columns)\n"
     ]
    },
    {
     "name": "stdout",
     "output_type": "stream",
     "text": [
      "Is Train asset:  True\n",
      "Globally Fitted DynamicVWAP Transformer_ZRX_absolute_vwap_loss: Mean Training time: 0.0000 (±0.0000)\n",
      "Globally Fitted DynamicVWAP Transformer_ZRX_absolute_vwap_loss: Mean absolute VWAP loss (1e-2): 0.3739 (±0.0042)\n",
      "Globally Fitted DynamicVWAP Transformer_ZRX_absolute_vwap_loss: Mean quadratic VWAP loss (1e-4): 0.8949 (±0.0727)\n",
      "Globally Fitted DynamicVWAP Transformer_ZRX_absolute_vwap_loss: Mean R2 on volume curve: -0.4406 (±0.0061)\n"
     ]
    },
    {
     "name": "stderr",
     "output_type": "stream",
     "text": [
      "/tmp/ipykernel_93748/3040326385.py:55: RuntimeWarning: invalid value encountered in divide\n",
      "  vwaps = pd.DataFrame(notionals.values / volumes.values, index=volumes.index, columns = volumes.columns)\n"
     ]
    },
    {
     "name": "stdout",
     "output_type": "stream",
     "text": [
      "Is Train asset:  False\n",
      "Naive_COMP_absolute_vwap_loss: Mean Training time: 0.0000 (±0.0000)\n",
      "Naive_COMP_absolute_vwap_loss: Mean absolute VWAP loss (1e-2): 0.2907 (±0.0000)\n",
      "Naive_COMP_absolute_vwap_loss: Mean quadratic VWAP loss (1e-4): 0.4285 (±0.0000)\n",
      "Naive_COMP_absolute_vwap_loss: Mean R2 on volume curve: 0.0000 (±0.0000)\n"
     ]
    },
    {
     "name": "stderr",
     "output_type": "stream",
     "text": [
      "/tmp/ipykernel_93748/3040326385.py:55: RuntimeWarning: invalid value encountered in divide\n",
      "  vwaps = pd.DataFrame(notionals.values / volumes.values, index=volumes.index, columns = volumes.columns)\n"
     ]
    },
    {
     "name": "stdout",
     "output_type": "stream",
     "text": [
      "Is Train asset:  False\n",
      "Globally Fitted DynamicVWAP Transformer_COMP_absolute_vwap_loss: Mean Training time: 0.0000 (±0.0000)\n",
      "Globally Fitted DynamicVWAP Transformer_COMP_absolute_vwap_loss: Mean absolute VWAP loss (1e-2): 0.2321 (±0.0022)\n",
      "Globally Fitted DynamicVWAP Transformer_COMP_absolute_vwap_loss: Mean quadratic VWAP loss (1e-4): 0.3190 (±0.0079)\n",
      "Globally Fitted DynamicVWAP Transformer_COMP_absolute_vwap_loss: Mean R2 on volume curve: -0.5124 (±0.0057)\n"
     ]
    },
    {
     "name": "stderr",
     "output_type": "stream",
     "text": [
      "/tmp/ipykernel_93748/3040326385.py:55: RuntimeWarning: invalid value encountered in divide\n",
      "  vwaps = pd.DataFrame(notionals.values / volumes.values, index=volumes.index, columns = volumes.columns)\n"
     ]
    },
    {
     "name": "stdout",
     "output_type": "stream",
     "text": [
      "Is Train asset:  True\n",
      "Naive_OMG_absolute_vwap_loss: Mean Training time: 0.0000 (±0.0000)\n",
      "Naive_OMG_absolute_vwap_loss: Mean absolute VWAP loss (1e-2): 0.3762 (±0.0000)\n",
      "Naive_OMG_absolute_vwap_loss: Mean quadratic VWAP loss (1e-4): 0.9917 (±0.0000)\n",
      "Naive_OMG_absolute_vwap_loss: Mean R2 on volume curve: 0.0000 (±0.0000)\n"
     ]
    },
    {
     "name": "stderr",
     "output_type": "stream",
     "text": [
      "/tmp/ipykernel_93748/3040326385.py:55: RuntimeWarning: invalid value encountered in divide\n",
      "  vwaps = pd.DataFrame(notionals.values / volumes.values, index=volumes.index, columns = volumes.columns)\n"
     ]
    },
    {
     "name": "stdout",
     "output_type": "stream",
     "text": [
      "Is Train asset:  True\n",
      "Globally Fitted DynamicVWAP Transformer_OMG_absolute_vwap_loss: Mean Training time: 0.0000 (±0.0000)\n",
      "Globally Fitted DynamicVWAP Transformer_OMG_absolute_vwap_loss: Mean absolute VWAP loss (1e-2): 0.3219 (±0.0014)\n",
      "Globally Fitted DynamicVWAP Transformer_OMG_absolute_vwap_loss: Mean quadratic VWAP loss (1e-4): 0.9390 (±0.0491)\n",
      "Globally Fitted DynamicVWAP Transformer_OMG_absolute_vwap_loss: Mean R2 on volume curve: -0.5315 (±0.0001)\n"
     ]
    },
    {
     "name": "stderr",
     "output_type": "stream",
     "text": [
      "/tmp/ipykernel_93748/3040326385.py:55: RuntimeWarning: invalid value encountered in divide\n",
      "  vwaps = pd.DataFrame(notionals.values / volumes.values, index=volumes.index, columns = volumes.columns)\n"
     ]
    },
    {
     "name": "stdout",
     "output_type": "stream",
     "text": [
      "Is Train asset:  False\n",
      "Naive_DOGE_absolute_vwap_loss: Mean Training time: 0.0000 (±0.0000)\n",
      "Naive_DOGE_absolute_vwap_loss: Mean absolute VWAP loss (1e-2): 0.2849 (±0.0000)\n",
      "Naive_DOGE_absolute_vwap_loss: Mean quadratic VWAP loss (1e-4): 0.3377 (±0.0000)\n",
      "Naive_DOGE_absolute_vwap_loss: Mean R2 on volume curve: 0.0000 (±0.0000)\n"
     ]
    },
    {
     "name": "stderr",
     "output_type": "stream",
     "text": [
      "/tmp/ipykernel_93748/3040326385.py:55: RuntimeWarning: invalid value encountered in divide\n",
      "  vwaps = pd.DataFrame(notionals.values / volumes.values, index=volumes.index, columns = volumes.columns)\n"
     ]
    },
    {
     "name": "stdout",
     "output_type": "stream",
     "text": [
      "Is Train asset:  False\n",
      "Globally Fitted DynamicVWAP Transformer_DOGE_absolute_vwap_loss: Mean Training time: 0.0000 (±0.0000)\n",
      "Globally Fitted DynamicVWAP Transformer_DOGE_absolute_vwap_loss: Mean absolute VWAP loss (1e-2): 0.2121 (±0.0017)\n",
      "Globally Fitted DynamicVWAP Transformer_DOGE_absolute_vwap_loss: Mean quadratic VWAP loss (1e-4): 0.2202 (±0.0129)\n",
      "Globally Fitted DynamicVWAP Transformer_DOGE_absolute_vwap_loss: Mean R2 on volume curve: -0.5490 (±0.0427)\n"
     ]
    },
    {
     "name": "stderr",
     "output_type": "stream",
     "text": [
      "/tmp/ipykernel_93748/3040326385.py:55: RuntimeWarning: invalid value encountered in divide\n",
      "  vwaps = pd.DataFrame(notionals.values / volumes.values, index=volumes.index, columns = volumes.columns)\n"
     ]
    },
    {
     "name": "stdout",
     "output_type": "stream",
     "text": [
      "Is Train asset:  True\n",
      "Naive_SXP_absolute_vwap_loss: Mean Training time: 0.0000 (±0.0000)\n",
      "Naive_SXP_absolute_vwap_loss: Mean absolute VWAP loss (1e-2): 0.2916 (±0.0000)\n",
      "Naive_SXP_absolute_vwap_loss: Mean quadratic VWAP loss (1e-4): 0.3894 (±0.0000)\n",
      "Naive_SXP_absolute_vwap_loss: Mean R2 on volume curve: 0.0000 (±0.0000)\n"
     ]
    },
    {
     "name": "stderr",
     "output_type": "stream",
     "text": [
      "/tmp/ipykernel_93748/3040326385.py:55: RuntimeWarning: invalid value encountered in divide\n",
      "  vwaps = pd.DataFrame(notionals.values / volumes.values, index=volumes.index, columns = volumes.columns)\n"
     ]
    },
    {
     "name": "stdout",
     "output_type": "stream",
     "text": [
      "Is Train asset:  True\n",
      "Globally Fitted DynamicVWAP Transformer_SXP_absolute_vwap_loss: Mean Training time: 0.0000 (±0.0000)\n",
      "Globally Fitted DynamicVWAP Transformer_SXP_absolute_vwap_loss: Mean absolute VWAP loss (1e-2): 0.2401 (±0.0015)\n",
      "Globally Fitted DynamicVWAP Transformer_SXP_absolute_vwap_loss: Mean quadratic VWAP loss (1e-4): 0.3175 (±0.0175)\n",
      "Globally Fitted DynamicVWAP Transformer_SXP_absolute_vwap_loss: Mean R2 on volume curve: -0.4034 (±0.0032)\n"
     ]
    },
    {
     "name": "stderr",
     "output_type": "stream",
     "text": [
      "/tmp/ipykernel_93748/3040326385.py:55: RuntimeWarning: invalid value encountered in divide\n",
      "  vwaps = pd.DataFrame(notionals.values / volumes.values, index=volumes.index, columns = volumes.columns)\n"
     ]
    },
    {
     "name": "stdout",
     "output_type": "stream",
     "text": [
      "Is Train asset:  False\n",
      "Naive_KAVA_absolute_vwap_loss: Mean Training time: 0.0000 (±0.0000)\n",
      "Naive_KAVA_absolute_vwap_loss: Mean absolute VWAP loss (1e-2): 0.2341 (±0.0000)\n",
      "Naive_KAVA_absolute_vwap_loss: Mean quadratic VWAP loss (1e-4): 0.2461 (±0.0000)\n",
      "Naive_KAVA_absolute_vwap_loss: Mean R2 on volume curve: 0.0000 (±0.0000)\n"
     ]
    },
    {
     "name": "stderr",
     "output_type": "stream",
     "text": [
      "/tmp/ipykernel_93748/3040326385.py:55: RuntimeWarning: invalid value encountered in divide\n",
      "  vwaps = pd.DataFrame(notionals.values / volumes.values, index=volumes.index, columns = volumes.columns)\n"
     ]
    },
    {
     "name": "stdout",
     "output_type": "stream",
     "text": [
      "Is Train asset:  False\n",
      "Globally Fitted DynamicVWAP Transformer_KAVA_absolute_vwap_loss: Mean Training time: 0.0000 (±0.0000)\n",
      "Globally Fitted DynamicVWAP Transformer_KAVA_absolute_vwap_loss: Mean absolute VWAP loss (1e-2): 0.1875 (±0.0042)\n",
      "Globally Fitted DynamicVWAP Transformer_KAVA_absolute_vwap_loss: Mean quadratic VWAP loss (1e-4): 0.1912 (±0.0021)\n",
      "Globally Fitted DynamicVWAP Transformer_KAVA_absolute_vwap_loss: Mean R2 on volume curve: -0.3773 (±0.0401)\n"
     ]
    },
    {
     "name": "stderr",
     "output_type": "stream",
     "text": [
      "/tmp/ipykernel_93748/3040326385.py:55: RuntimeWarning: invalid value encountered in divide\n",
      "  vwaps = pd.DataFrame(notionals.values / volumes.values, index=volumes.index, columns = volumes.columns)\n"
     ]
    },
    {
     "name": "stdout",
     "output_type": "stream",
     "text": [
      "Is Train asset:  True\n",
      "Naive_BAND_absolute_vwap_loss: Mean Training time: 0.0000 (±0.0000)\n",
      "Naive_BAND_absolute_vwap_loss: Mean absolute VWAP loss (1e-2): 0.3498 (±0.0000)\n",
      "Naive_BAND_absolute_vwap_loss: Mean quadratic VWAP loss (1e-4): 0.7071 (±0.0000)\n",
      "Naive_BAND_absolute_vwap_loss: Mean R2 on volume curve: 0.0000 (±0.0000)\n"
     ]
    },
    {
     "name": "stderr",
     "output_type": "stream",
     "text": [
      "/tmp/ipykernel_93748/3040326385.py:55: RuntimeWarning: invalid value encountered in divide\n",
      "  vwaps = pd.DataFrame(notionals.values / volumes.values, index=volumes.index, columns = volumes.columns)\n"
     ]
    },
    {
     "name": "stdout",
     "output_type": "stream",
     "text": [
      "Is Train asset:  True\n",
      "Globally Fitted DynamicVWAP Transformer_BAND_absolute_vwap_loss: Mean Training time: 0.0000 (±0.0000)\n",
      "Globally Fitted DynamicVWAP Transformer_BAND_absolute_vwap_loss: Mean absolute VWAP loss (1e-2): 0.2944 (±0.0026)\n",
      "Globally Fitted DynamicVWAP Transformer_BAND_absolute_vwap_loss: Mean quadratic VWAP loss (1e-4): 0.5788 (±0.0199)\n",
      "Globally Fitted DynamicVWAP Transformer_BAND_absolute_vwap_loss: Mean R2 on volume curve: -0.5136 (±0.0194)\n"
     ]
    },
    {
     "name": "stderr",
     "output_type": "stream",
     "text": [
      "/tmp/ipykernel_93748/3040326385.py:55: RuntimeWarning: invalid value encountered in divide\n",
      "  vwaps = pd.DataFrame(notionals.values / volumes.values, index=volumes.index, columns = volumes.columns)\n"
     ]
    },
    {
     "name": "stdout",
     "output_type": "stream",
     "text": [
      "Is Train asset:  False\n",
      "Naive_RLC_absolute_vwap_loss: Mean Training time: 0.0000 (±0.0000)\n",
      "Naive_RLC_absolute_vwap_loss: Mean absolute VWAP loss (1e-2): 0.3773 (±0.0000)\n",
      "Naive_RLC_absolute_vwap_loss: Mean quadratic VWAP loss (1e-4): 0.7005 (±0.0000)\n",
      "Naive_RLC_absolute_vwap_loss: Mean R2 on volume curve: 0.0000 (±0.0000)\n"
     ]
    },
    {
     "name": "stderr",
     "output_type": "stream",
     "text": [
      "/tmp/ipykernel_93748/3040326385.py:55: RuntimeWarning: invalid value encountered in divide\n",
      "  vwaps = pd.DataFrame(notionals.values / volumes.values, index=volumes.index, columns = volumes.columns)\n"
     ]
    },
    {
     "name": "stdout",
     "output_type": "stream",
     "text": [
      "Is Train asset:  False\n",
      "Globally Fitted DynamicVWAP Transformer_RLC_absolute_vwap_loss: Mean Training time: 0.0000 (±0.0000)\n",
      "Globally Fitted DynamicVWAP Transformer_RLC_absolute_vwap_loss: Mean absolute VWAP loss (1e-2): 0.3125 (±0.0028)\n",
      "Globally Fitted DynamicVWAP Transformer_RLC_absolute_vwap_loss: Mean quadratic VWAP loss (1e-4): 0.5773 (±0.0066)\n",
      "Globally Fitted DynamicVWAP Transformer_RLC_absolute_vwap_loss: Mean R2 on volume curve: -0.5268 (±0.0135)\n"
     ]
    },
    {
     "name": "stderr",
     "output_type": "stream",
     "text": [
      "/tmp/ipykernel_93748/3040326385.py:55: RuntimeWarning: invalid value encountered in divide\n",
      "  vwaps = pd.DataFrame(notionals.values / volumes.values, index=volumes.index, columns = volumes.columns)\n"
     ]
    },
    {
     "name": "stdout",
     "output_type": "stream",
     "text": [
      "Is Train asset:  True\n",
      "Naive_MKR_absolute_vwap_loss: Mean Training time: 0.0000 (±0.0000)\n",
      "Naive_MKR_absolute_vwap_loss: Mean absolute VWAP loss (1e-2): 0.2373 (±0.0000)\n",
      "Naive_MKR_absolute_vwap_loss: Mean quadratic VWAP loss (1e-4): 0.2858 (±0.0000)\n",
      "Naive_MKR_absolute_vwap_loss: Mean R2 on volume curve: 0.0000 (±0.0000)\n"
     ]
    },
    {
     "name": "stderr",
     "output_type": "stream",
     "text": [
      "/tmp/ipykernel_93748/3040326385.py:55: RuntimeWarning: invalid value encountered in divide\n",
      "  vwaps = pd.DataFrame(notionals.values / volumes.values, index=volumes.index, columns = volumes.columns)\n"
     ]
    },
    {
     "name": "stdout",
     "output_type": "stream",
     "text": [
      "Is Train asset:  True\n",
      "Globally Fitted DynamicVWAP Transformer_MKR_absolute_vwap_loss: Mean Training time: 0.0000 (±0.0000)\n",
      "Globally Fitted DynamicVWAP Transformer_MKR_absolute_vwap_loss: Mean absolute VWAP loss (1e-2): 0.1894 (±0.0001)\n",
      "Globally Fitted DynamicVWAP Transformer_MKR_absolute_vwap_loss: Mean quadratic VWAP loss (1e-4): 0.1990 (±0.0052)\n",
      "Globally Fitted DynamicVWAP Transformer_MKR_absolute_vwap_loss: Mean R2 on volume curve: -0.5097 (±0.0431)\n"
     ]
    },
    {
     "name": "stderr",
     "output_type": "stream",
     "text": [
      "/tmp/ipykernel_93748/3040326385.py:55: RuntimeWarning: invalid value encountered in divide\n",
      "  vwaps = pd.DataFrame(notionals.values / volumes.values, index=volumes.index, columns = volumes.columns)\n"
     ]
    },
    {
     "name": "stdout",
     "output_type": "stream",
     "text": [
      "Is Train asset:  False\n",
      "Naive_SNX_absolute_vwap_loss: Mean Training time: 0.0000 (±0.0000)\n",
      "Naive_SNX_absolute_vwap_loss: Mean absolute VWAP loss (1e-2): 0.3011 (±0.0000)\n",
      "Naive_SNX_absolute_vwap_loss: Mean quadratic VWAP loss (1e-4): 0.3573 (±0.0000)\n",
      "Naive_SNX_absolute_vwap_loss: Mean R2 on volume curve: 0.0000 (±0.0000)\n"
     ]
    },
    {
     "name": "stderr",
     "output_type": "stream",
     "text": [
      "/tmp/ipykernel_93748/3040326385.py:55: RuntimeWarning: invalid value encountered in divide\n",
      "  vwaps = pd.DataFrame(notionals.values / volumes.values, index=volumes.index, columns = volumes.columns)\n"
     ]
    },
    {
     "name": "stdout",
     "output_type": "stream",
     "text": [
      "Is Train asset:  False\n",
      "Globally Fitted DynamicVWAP Transformer_SNX_absolute_vwap_loss: Mean Training time: 0.0000 (±0.0000)\n",
      "Globally Fitted DynamicVWAP Transformer_SNX_absolute_vwap_loss: Mean absolute VWAP loss (1e-2): 0.2271 (±0.0024)\n",
      "Globally Fitted DynamicVWAP Transformer_SNX_absolute_vwap_loss: Mean quadratic VWAP loss (1e-4): 0.2275 (±0.0039)\n",
      "Globally Fitted DynamicVWAP Transformer_SNX_absolute_vwap_loss: Mean R2 on volume curve: -0.5319 (±0.0067)\n"
     ]
    },
    {
     "name": "stderr",
     "output_type": "stream",
     "text": [
      "/tmp/ipykernel_93748/3040326385.py:55: RuntimeWarning: invalid value encountered in divide\n",
      "  vwaps = pd.DataFrame(notionals.values / volumes.values, index=volumes.index, columns = volumes.columns)\n"
     ]
    },
    {
     "name": "stdout",
     "output_type": "stream",
     "text": [
      "Is Train asset:  True\n",
      "Naive_DOT_absolute_vwap_loss: Mean Training time: 0.0000 (±0.0000)\n",
      "Naive_DOT_absolute_vwap_loss: Mean absolute VWAP loss (1e-2): 0.2482 (±0.0000)\n",
      "Naive_DOT_absolute_vwap_loss: Mean quadratic VWAP loss (1e-4): 0.2854 (±0.0000)\n",
      "Naive_DOT_absolute_vwap_loss: Mean R2 on volume curve: 0.0000 (±0.0000)\n"
     ]
    },
    {
     "name": "stderr",
     "output_type": "stream",
     "text": [
      "/tmp/ipykernel_93748/3040326385.py:55: RuntimeWarning: invalid value encountered in divide\n",
      "  vwaps = pd.DataFrame(notionals.values / volumes.values, index=volumes.index, columns = volumes.columns)\n"
     ]
    },
    {
     "name": "stdout",
     "output_type": "stream",
     "text": [
      "Is Train asset:  True\n",
      "Globally Fitted DynamicVWAP Transformer_DOT_absolute_vwap_loss: Mean Training time: 0.0000 (±0.0000)\n",
      "Globally Fitted DynamicVWAP Transformer_DOT_absolute_vwap_loss: Mean absolute VWAP loss (1e-2): 0.1824 (±0.0025)\n",
      "Globally Fitted DynamicVWAP Transformer_DOT_absolute_vwap_loss: Mean quadratic VWAP loss (1e-4): 0.1579 (±0.0057)\n",
      "Globally Fitted DynamicVWAP Transformer_DOT_absolute_vwap_loss: Mean R2 on volume curve: -0.5639 (±0.0320)\n"
     ]
    },
    {
     "name": "stderr",
     "output_type": "stream",
     "text": [
      "/tmp/ipykernel_93748/3040326385.py:55: RuntimeWarning: invalid value encountered in divide\n",
      "  vwaps = pd.DataFrame(notionals.values / volumes.values, index=volumes.index, columns = volumes.columns)\n"
     ]
    },
    {
     "name": "stdout",
     "output_type": "stream",
     "text": [
      "Is Train asset:  False\n",
      "Naive_DEFI_absolute_vwap_loss: Mean Training time: 0.0000 (±0.0000)\n",
      "Naive_DEFI_absolute_vwap_loss: Mean absolute VWAP loss (1e-2): 0.2702 (±0.0000)\n",
      "Naive_DEFI_absolute_vwap_loss: Mean quadratic VWAP loss (1e-4): 0.4043 (±0.0000)\n",
      "Naive_DEFI_absolute_vwap_loss: Mean R2 on volume curve: 0.0000 (±0.0000)\n"
     ]
    },
    {
     "name": "stderr",
     "output_type": "stream",
     "text": [
      "/tmp/ipykernel_93748/3040326385.py:55: RuntimeWarning: invalid value encountered in divide\n",
      "  vwaps = pd.DataFrame(notionals.values / volumes.values, index=volumes.index, columns = volumes.columns)\n"
     ]
    },
    {
     "name": "stdout",
     "output_type": "stream",
     "text": [
      "Is Train asset:  False\n",
      "Globally Fitted DynamicVWAP Transformer_DEFI_absolute_vwap_loss: Mean Training time: 0.0000 (±0.0000)\n",
      "Globally Fitted DynamicVWAP Transformer_DEFI_absolute_vwap_loss: Mean absolute VWAP loss (1e-2): 0.2101 (±0.0039)\n",
      "Globally Fitted DynamicVWAP Transformer_DEFI_absolute_vwap_loss: Mean quadratic VWAP loss (1e-4): 0.2600 (±0.0214)\n",
      "Globally Fitted DynamicVWAP Transformer_DEFI_absolute_vwap_loss: Mean R2 on volume curve: -0.3171 (±0.0052)\n"
     ]
    },
    {
     "name": "stderr",
     "output_type": "stream",
     "text": [
      "/tmp/ipykernel_93748/3040326385.py:55: RuntimeWarning: invalid value encountered in divide\n",
      "  vwaps = pd.DataFrame(notionals.values / volumes.values, index=volumes.index, columns = volumes.columns)\n"
     ]
    },
    {
     "name": "stdout",
     "output_type": "stream",
     "text": [
      "Is Train asset:  True\n",
      "Naive_YFI_absolute_vwap_loss: Mean Training time: 0.0000 (±0.0000)\n",
      "Naive_YFI_absolute_vwap_loss: Mean absolute VWAP loss (1e-2): 0.2947 (±0.0000)\n",
      "Naive_YFI_absolute_vwap_loss: Mean quadratic VWAP loss (1e-4): 0.9019 (±0.0000)\n",
      "Naive_YFI_absolute_vwap_loss: Mean R2 on volume curve: 0.0000 (±0.0000)\n"
     ]
    },
    {
     "name": "stderr",
     "output_type": "stream",
     "text": [
      "/tmp/ipykernel_93748/3040326385.py:55: RuntimeWarning: invalid value encountered in divide\n",
      "  vwaps = pd.DataFrame(notionals.values / volumes.values, index=volumes.index, columns = volumes.columns)\n"
     ]
    },
    {
     "name": "stdout",
     "output_type": "stream",
     "text": [
      "Is Train asset:  True\n",
      "Globally Fitted DynamicVWAP Transformer_YFI_absolute_vwap_loss: Mean Training time: 0.0000 (±0.0000)\n",
      "Globally Fitted DynamicVWAP Transformer_YFI_absolute_vwap_loss: Mean absolute VWAP loss (1e-2): 0.2451 (±0.0012)\n",
      "Globally Fitted DynamicVWAP Transformer_YFI_absolute_vwap_loss: Mean quadratic VWAP loss (1e-4): 0.8244 (±0.1294)\n",
      "Globally Fitted DynamicVWAP Transformer_YFI_absolute_vwap_loss: Mean R2 on volume curve: -0.4741 (±0.0242)\n"
     ]
    },
    {
     "name": "stderr",
     "output_type": "stream",
     "text": [
      "/tmp/ipykernel_93748/3040326385.py:55: RuntimeWarning: invalid value encountered in divide\n",
      "  vwaps = pd.DataFrame(notionals.values / volumes.values, index=volumes.index, columns = volumes.columns)\n"
     ]
    },
    {
     "name": "stdout",
     "output_type": "stream",
     "text": [
      "Is Train asset:  False\n",
      "Naive_BAL_absolute_vwap_loss: Mean Training time: 0.0000 (±0.0000)\n",
      "Naive_BAL_absolute_vwap_loss: Mean absolute VWAP loss (1e-2): 0.2243 (±0.0000)\n",
      "Naive_BAL_absolute_vwap_loss: Mean quadratic VWAP loss (1e-4): 0.2475 (±0.0000)\n",
      "Naive_BAL_absolute_vwap_loss: Mean R2 on volume curve: 0.0000 (±0.0000)\n"
     ]
    },
    {
     "name": "stderr",
     "output_type": "stream",
     "text": [
      "/tmp/ipykernel_93748/3040326385.py:55: RuntimeWarning: invalid value encountered in divide\n",
      "  vwaps = pd.DataFrame(notionals.values / volumes.values, index=volumes.index, columns = volumes.columns)\n"
     ]
    },
    {
     "name": "stdout",
     "output_type": "stream",
     "text": [
      "Is Train asset:  False\n",
      "Globally Fitted DynamicVWAP Transformer_BAL_absolute_vwap_loss: Mean Training time: 0.0000 (±0.0000)\n",
      "Globally Fitted DynamicVWAP Transformer_BAL_absolute_vwap_loss: Mean absolute VWAP loss (1e-2): 0.1807 (±0.0001)\n",
      "Globally Fitted DynamicVWAP Transformer_BAL_absolute_vwap_loss: Mean quadratic VWAP loss (1e-4): 0.1667 (±0.0021)\n",
      "Globally Fitted DynamicVWAP Transformer_BAL_absolute_vwap_loss: Mean R2 on volume curve: -0.4917 (±0.0567)\n"
     ]
    },
    {
     "name": "stderr",
     "output_type": "stream",
     "text": [
      "/tmp/ipykernel_93748/3040326385.py:55: RuntimeWarning: invalid value encountered in divide\n",
      "  vwaps = pd.DataFrame(notionals.values / volumes.values, index=volumes.index, columns = volumes.columns)\n"
     ]
    },
    {
     "name": "stdout",
     "output_type": "stream",
     "text": [
      "Is Train asset:  True\n",
      "Naive_CRV_absolute_vwap_loss: Mean Training time: 0.0000 (±0.0000)\n",
      "Naive_CRV_absolute_vwap_loss: Mean absolute VWAP loss (1e-2): 0.2866 (±0.0000)\n",
      "Naive_CRV_absolute_vwap_loss: Mean quadratic VWAP loss (1e-4): 0.8299 (±0.0000)\n",
      "Naive_CRV_absolute_vwap_loss: Mean R2 on volume curve: 0.0000 (±0.0000)\n"
     ]
    },
    {
     "name": "stderr",
     "output_type": "stream",
     "text": [
      "/tmp/ipykernel_93748/3040326385.py:55: RuntimeWarning: invalid value encountered in divide\n",
      "  vwaps = pd.DataFrame(notionals.values / volumes.values, index=volumes.index, columns = volumes.columns)\n"
     ]
    },
    {
     "name": "stdout",
     "output_type": "stream",
     "text": [
      "Is Train asset:  True\n",
      "Globally Fitted DynamicVWAP Transformer_CRV_absolute_vwap_loss: Mean Training time: 0.0000 (±0.0000)\n",
      "Globally Fitted DynamicVWAP Transformer_CRV_absolute_vwap_loss: Mean absolute VWAP loss (1e-2): 0.2356 (±0.0006)\n",
      "Globally Fitted DynamicVWAP Transformer_CRV_absolute_vwap_loss: Mean quadratic VWAP loss (1e-4): 0.6775 (±0.0535)\n",
      "Globally Fitted DynamicVWAP Transformer_CRV_absolute_vwap_loss: Mean R2 on volume curve: -0.6377 (±0.0459)\n"
     ]
    },
    {
     "name": "stderr",
     "output_type": "stream",
     "text": [
      "/tmp/ipykernel_93748/3040326385.py:55: RuntimeWarning: invalid value encountered in divide\n",
      "  vwaps = pd.DataFrame(notionals.values / volumes.values, index=volumes.index, columns = volumes.columns)\n"
     ]
    },
    {
     "name": "stdout",
     "output_type": "stream",
     "text": [
      "Is Train asset:  False\n",
      "Naive_WAVES_absolute_vwap_loss: Mean Training time: 0.0000 (±0.0000)\n",
      "Naive_WAVES_absolute_vwap_loss: Mean absolute VWAP loss (1e-2): 0.3630 (±0.0000)\n",
      "Naive_WAVES_absolute_vwap_loss: Mean quadratic VWAP loss (1e-4): 0.8180 (±0.0000)\n",
      "Naive_WAVES_absolute_vwap_loss: Mean R2 on volume curve: 0.0000 (±0.0000)\n"
     ]
    },
    {
     "name": "stderr",
     "output_type": "stream",
     "text": [
      "/tmp/ipykernel_93748/3040326385.py:55: RuntimeWarning: invalid value encountered in divide\n",
      "  vwaps = pd.DataFrame(notionals.values / volumes.values, index=volumes.index, columns = volumes.columns)\n"
     ]
    },
    {
     "name": "stdout",
     "output_type": "stream",
     "text": [
      "Is Train asset:  False\n",
      "Globally Fitted DynamicVWAP Transformer_WAVES_absolute_vwap_loss: Mean Training time: 0.0000 (±0.0000)\n",
      "Globally Fitted DynamicVWAP Transformer_WAVES_absolute_vwap_loss: Mean absolute VWAP loss (1e-2): 0.2954 (±0.0002)\n",
      "Globally Fitted DynamicVWAP Transformer_WAVES_absolute_vwap_loss: Mean quadratic VWAP loss (1e-4): 0.7040 (±0.0035)\n",
      "Globally Fitted DynamicVWAP Transformer_WAVES_absolute_vwap_loss: Mean R2 on volume curve: -0.4507 (±0.0125)\n"
     ]
    },
    {
     "name": "stderr",
     "output_type": "stream",
     "text": [
      "/tmp/ipykernel_93748/3040326385.py:55: RuntimeWarning: invalid value encountered in divide\n",
      "  vwaps = pd.DataFrame(notionals.values / volumes.values, index=volumes.index, columns = volumes.columns)\n"
     ]
    },
    {
     "name": "stdout",
     "output_type": "stream",
     "text": [
      "Is Train asset:  True\n",
      "Naive_TRB_absolute_vwap_loss: Mean Training time: 0.0000 (±0.0000)\n",
      "Naive_TRB_absolute_vwap_loss: Mean absolute VWAP loss (1e-2): 0.5265 (±0.0000)\n",
      "Naive_TRB_absolute_vwap_loss: Mean quadratic VWAP loss (1e-4): 1.5267 (±0.0000)\n",
      "Naive_TRB_absolute_vwap_loss: Mean R2 on volume curve: 0.0000 (±0.0000)\n"
     ]
    },
    {
     "name": "stderr",
     "output_type": "stream",
     "text": [
      "/tmp/ipykernel_93748/3040326385.py:55: RuntimeWarning: invalid value encountered in divide\n",
      "  vwaps = pd.DataFrame(notionals.values / volumes.values, index=volumes.index, columns = volumes.columns)\n"
     ]
    },
    {
     "name": "stdout",
     "output_type": "stream",
     "text": [
      "Is Train asset:  True\n",
      "Globally Fitted DynamicVWAP Transformer_TRB_absolute_vwap_loss: Mean Training time: 0.0000 (±0.0000)\n",
      "Globally Fitted DynamicVWAP Transformer_TRB_absolute_vwap_loss: Mean absolute VWAP loss (1e-2): 0.4660 (±0.0006)\n",
      "Globally Fitted DynamicVWAP Transformer_TRB_absolute_vwap_loss: Mean quadratic VWAP loss (1e-4): 2.1660 (±0.3187)\n",
      "Globally Fitted DynamicVWAP Transformer_TRB_absolute_vwap_loss: Mean R2 on volume curve: -0.5280 (±0.0082)\n"
     ]
    },
    {
     "name": "stderr",
     "output_type": "stream",
     "text": [
      "/tmp/ipykernel_93748/3040326385.py:55: RuntimeWarning: invalid value encountered in divide\n",
      "  vwaps = pd.DataFrame(notionals.values / volumes.values, index=volumes.index, columns = volumes.columns)\n"
     ]
    },
    {
     "name": "stdout",
     "output_type": "stream",
     "text": [
      "Is Train asset:  False\n",
      "Naive_SUSHI_absolute_vwap_loss: Mean Training time: 0.0000 (±0.0000)\n",
      "Naive_SUSHI_absolute_vwap_loss: Mean absolute VWAP loss (1e-2): 0.3505 (±0.0000)\n",
      "Naive_SUSHI_absolute_vwap_loss: Mean quadratic VWAP loss (1e-4): 0.6504 (±0.0000)\n",
      "Naive_SUSHI_absolute_vwap_loss: Mean R2 on volume curve: 0.0000 (±0.0000)\n"
     ]
    },
    {
     "name": "stderr",
     "output_type": "stream",
     "text": [
      "/tmp/ipykernel_93748/3040326385.py:55: RuntimeWarning: invalid value encountered in divide\n",
      "  vwaps = pd.DataFrame(notionals.values / volumes.values, index=volumes.index, columns = volumes.columns)\n"
     ]
    },
    {
     "name": "stdout",
     "output_type": "stream",
     "text": [
      "Is Train asset:  False\n",
      "Globally Fitted DynamicVWAP Transformer_SUSHI_absolute_vwap_loss: Mean Training time: 0.0000 (±0.0000)\n",
      "Globally Fitted DynamicVWAP Transformer_SUSHI_absolute_vwap_loss: Mean absolute VWAP loss (1e-2): 0.3046 (±0.0007)\n",
      "Globally Fitted DynamicVWAP Transformer_SUSHI_absolute_vwap_loss: Mean quadratic VWAP loss (1e-4): 0.5972 (±0.0154)\n",
      "Globally Fitted DynamicVWAP Transformer_SUSHI_absolute_vwap_loss: Mean R2 on volume curve: -0.5875 (±0.0101)\n"
     ]
    },
    {
     "name": "stderr",
     "output_type": "stream",
     "text": [
      "/tmp/ipykernel_93748/3040326385.py:55: RuntimeWarning: invalid value encountered in divide\n",
      "  vwaps = pd.DataFrame(notionals.values / volumes.values, index=volumes.index, columns = volumes.columns)\n"
     ]
    },
    {
     "name": "stdout",
     "output_type": "stream",
     "text": [
      "Is Train asset:  True\n",
      "Naive_RUNE_absolute_vwap_loss: Mean Training time: 0.0000 (±0.0000)\n",
      "Naive_RUNE_absolute_vwap_loss: Mean absolute VWAP loss (1e-2): 0.3136 (±0.0000)\n",
      "Naive_RUNE_absolute_vwap_loss: Mean quadratic VWAP loss (1e-4): 0.3391 (±0.0000)\n",
      "Naive_RUNE_absolute_vwap_loss: Mean R2 on volume curve: 0.0000 (±0.0000)\n"
     ]
    },
    {
     "name": "stderr",
     "output_type": "stream",
     "text": [
      "/tmp/ipykernel_93748/3040326385.py:55: RuntimeWarning: invalid value encountered in divide\n",
      "  vwaps = pd.DataFrame(notionals.values / volumes.values, index=volumes.index, columns = volumes.columns)\n"
     ]
    },
    {
     "name": "stdout",
     "output_type": "stream",
     "text": [
      "Is Train asset:  True\n",
      "Globally Fitted DynamicVWAP Transformer_RUNE_absolute_vwap_loss: Mean Training time: 0.0000 (±0.0000)\n",
      "Globally Fitted DynamicVWAP Transformer_RUNE_absolute_vwap_loss: Mean absolute VWAP loss (1e-2): 0.2407 (±0.0002)\n",
      "Globally Fitted DynamicVWAP Transformer_RUNE_absolute_vwap_loss: Mean quadratic VWAP loss (1e-4): 0.2340 (±0.0049)\n",
      "Globally Fitted DynamicVWAP Transformer_RUNE_absolute_vwap_loss: Mean R2 on volume curve: -0.6267 (±0.0192)\n"
     ]
    },
    {
     "name": "stderr",
     "output_type": "stream",
     "text": [
      "/tmp/ipykernel_93748/3040326385.py:55: RuntimeWarning: invalid value encountered in divide\n",
      "  vwaps = pd.DataFrame(notionals.values / volumes.values, index=volumes.index, columns = volumes.columns)\n"
     ]
    },
    {
     "name": "stdout",
     "output_type": "stream",
     "text": [
      "Is Train asset:  False\n",
      "Naive_SOL_absolute_vwap_loss: Mean Training time: 0.0000 (±0.0000)\n",
      "Naive_SOL_absolute_vwap_loss: Mean absolute VWAP loss (1e-2): 0.2703 (±0.0000)\n",
      "Naive_SOL_absolute_vwap_loss: Mean quadratic VWAP loss (1e-4): 0.2483 (±0.0000)\n",
      "Naive_SOL_absolute_vwap_loss: Mean R2 on volume curve: 0.0000 (±0.0000)\n"
     ]
    },
    {
     "name": "stderr",
     "output_type": "stream",
     "text": [
      "/tmp/ipykernel_93748/3040326385.py:55: RuntimeWarning: invalid value encountered in divide\n",
      "  vwaps = pd.DataFrame(notionals.values / volumes.values, index=volumes.index, columns = volumes.columns)\n"
     ]
    },
    {
     "name": "stdout",
     "output_type": "stream",
     "text": [
      "Is Train asset:  False\n",
      "Globally Fitted DynamicVWAP Transformer_SOL_absolute_vwap_loss: Mean Training time: 0.0000 (±0.0000)\n",
      "Globally Fitted DynamicVWAP Transformer_SOL_absolute_vwap_loss: Mean absolute VWAP loss (1e-2): 0.1858 (±0.0013)\n",
      "Globally Fitted DynamicVWAP Transformer_SOL_absolute_vwap_loss: Mean quadratic VWAP loss (1e-4): 0.1276 (±0.0092)\n",
      "Globally Fitted DynamicVWAP Transformer_SOL_absolute_vwap_loss: Mean R2 on volume curve: -0.7455 (±0.0033)\n"
     ]
    },
    {
     "name": "stderr",
     "output_type": "stream",
     "text": [
      "/tmp/ipykernel_93748/3040326385.py:55: RuntimeWarning: invalid value encountered in divide\n",
      "  vwaps = pd.DataFrame(notionals.values / volumes.values, index=volumes.index, columns = volumes.columns)\n"
     ]
    },
    {
     "name": "stdout",
     "output_type": "stream",
     "text": [
      "Is Train asset:  True\n",
      "Naive_EGLD_absolute_vwap_loss: Mean Training time: 0.0000 (±0.0000)\n",
      "Naive_EGLD_absolute_vwap_loss: Mean absolute VWAP loss (1e-2): 0.3222 (±0.0000)\n",
      "Naive_EGLD_absolute_vwap_loss: Mean quadratic VWAP loss (1e-4): 0.6650 (±0.0000)\n",
      "Naive_EGLD_absolute_vwap_loss: Mean R2 on volume curve: 0.0000 (±0.0000)\n"
     ]
    },
    {
     "name": "stderr",
     "output_type": "stream",
     "text": [
      "/tmp/ipykernel_93748/3040326385.py:55: RuntimeWarning: invalid value encountered in divide\n",
      "  vwaps = pd.DataFrame(notionals.values / volumes.values, index=volumes.index, columns = volumes.columns)\n"
     ]
    },
    {
     "name": "stdout",
     "output_type": "stream",
     "text": [
      "Is Train asset:  True\n",
      "Globally Fitted DynamicVWAP Transformer_EGLD_absolute_vwap_loss: Mean Training time: 0.0000 (±0.0000)\n",
      "Globally Fitted DynamicVWAP Transformer_EGLD_absolute_vwap_loss: Mean absolute VWAP loss (1e-2): 0.2623 (±0.0023)\n",
      "Globally Fitted DynamicVWAP Transformer_EGLD_absolute_vwap_loss: Mean quadratic VWAP loss (1e-4): 0.4679 (±0.0038)\n",
      "Globally Fitted DynamicVWAP Transformer_EGLD_absolute_vwap_loss: Mean R2 on volume curve: -0.4498 (±0.0024)\n"
     ]
    },
    {
     "name": "stderr",
     "output_type": "stream",
     "text": [
      "/tmp/ipykernel_93748/3040326385.py:55: RuntimeWarning: invalid value encountered in divide\n",
      "  vwaps = pd.DataFrame(notionals.values / volumes.values, index=volumes.index, columns = volumes.columns)\n"
     ]
    },
    {
     "name": "stdout",
     "output_type": "stream",
     "text": [
      "Is Train asset:  False\n",
      "Naive_ICX_absolute_vwap_loss: Mean Training time: 0.0000 (±0.0000)\n",
      "Naive_ICX_absolute_vwap_loss: Mean absolute VWAP loss (1e-2): 0.3187 (±0.0000)\n",
      "Naive_ICX_absolute_vwap_loss: Mean quadratic VWAP loss (1e-4): 0.4872 (±0.0000)\n",
      "Naive_ICX_absolute_vwap_loss: Mean R2 on volume curve: 0.0000 (±0.0000)\n"
     ]
    },
    {
     "name": "stderr",
     "output_type": "stream",
     "text": [
      "/tmp/ipykernel_93748/3040326385.py:55: RuntimeWarning: invalid value encountered in divide\n",
      "  vwaps = pd.DataFrame(notionals.values / volumes.values, index=volumes.index, columns = volumes.columns)\n"
     ]
    },
    {
     "name": "stdout",
     "output_type": "stream",
     "text": [
      "Is Train asset:  False\n",
      "Globally Fitted DynamicVWAP Transformer_ICX_absolute_vwap_loss: Mean Training time: 0.0000 (±0.0000)\n",
      "Globally Fitted DynamicVWAP Transformer_ICX_absolute_vwap_loss: Mean absolute VWAP loss (1e-2): 0.2654 (±0.0065)\n",
      "Globally Fitted DynamicVWAP Transformer_ICX_absolute_vwap_loss: Mean quadratic VWAP loss (1e-4): 0.3643 (±0.0256)\n",
      "Globally Fitted DynamicVWAP Transformer_ICX_absolute_vwap_loss: Mean R2 on volume curve: -0.3864 (±0.0101)\n"
     ]
    },
    {
     "name": "stderr",
     "output_type": "stream",
     "text": [
      "/tmp/ipykernel_93748/3040326385.py:55: RuntimeWarning: invalid value encountered in divide\n",
      "  vwaps = pd.DataFrame(notionals.values / volumes.values, index=volumes.index, columns = volumes.columns)\n"
     ]
    },
    {
     "name": "stdout",
     "output_type": "stream",
     "text": [
      "Is Train asset:  True\n",
      "Naive_STORJ_absolute_vwap_loss: Mean Training time: 0.0000 (±0.0000)\n",
      "Naive_STORJ_absolute_vwap_loss: Mean absolute VWAP loss (1e-2): 0.3947 (±0.0000)\n",
      "Naive_STORJ_absolute_vwap_loss: Mean quadratic VWAP loss (1e-4): 0.7825 (±0.0000)\n",
      "Naive_STORJ_absolute_vwap_loss: Mean R2 on volume curve: 0.0000 (±0.0000)\n"
     ]
    },
    {
     "name": "stderr",
     "output_type": "stream",
     "text": [
      "/tmp/ipykernel_93748/3040326385.py:55: RuntimeWarning: invalid value encountered in divide\n",
      "  vwaps = pd.DataFrame(notionals.values / volumes.values, index=volumes.index, columns = volumes.columns)\n"
     ]
    },
    {
     "name": "stdout",
     "output_type": "stream",
     "text": [
      "Is Train asset:  True\n",
      "Globally Fitted DynamicVWAP Transformer_STORJ_absolute_vwap_loss: Mean Training time: 0.0000 (±0.0000)\n",
      "Globally Fitted DynamicVWAP Transformer_STORJ_absolute_vwap_loss: Mean absolute VWAP loss (1e-2): 0.3173 (±0.0013)\n",
      "Globally Fitted DynamicVWAP Transformer_STORJ_absolute_vwap_loss: Mean quadratic VWAP loss (1e-4): 0.5491 (±0.0206)\n",
      "Globally Fitted DynamicVWAP Transformer_STORJ_absolute_vwap_loss: Mean R2 on volume curve: -0.4579 (±0.0151)\n"
     ]
    },
    {
     "name": "stderr",
     "output_type": "stream",
     "text": [
      "/tmp/ipykernel_93748/3040326385.py:55: RuntimeWarning: invalid value encountered in divide\n",
      "  vwaps = pd.DataFrame(notionals.values / volumes.values, index=volumes.index, columns = volumes.columns)\n"
     ]
    },
    {
     "name": "stdout",
     "output_type": "stream",
     "text": [
      "Is Train asset:  False\n",
      "Naive_BLZ_absolute_vwap_loss: Mean Training time: 0.0000 (±0.0000)\n",
      "Naive_BLZ_absolute_vwap_loss: Mean absolute VWAP loss (1e-2): 0.4273 (±0.0000)\n",
      "Naive_BLZ_absolute_vwap_loss: Mean quadratic VWAP loss (1e-4): 0.9526 (±0.0000)\n",
      "Naive_BLZ_absolute_vwap_loss: Mean R2 on volume curve: 0.0000 (±0.0000)\n"
     ]
    },
    {
     "name": "stderr",
     "output_type": "stream",
     "text": [
      "/tmp/ipykernel_93748/3040326385.py:55: RuntimeWarning: invalid value encountered in divide\n",
      "  vwaps = pd.DataFrame(notionals.values / volumes.values, index=volumes.index, columns = volumes.columns)\n"
     ]
    },
    {
     "name": "stdout",
     "output_type": "stream",
     "text": [
      "Is Train asset:  False\n",
      "Globally Fitted DynamicVWAP Transformer_BLZ_absolute_vwap_loss: Mean Training time: 0.0000 (±0.0000)\n",
      "Globally Fitted DynamicVWAP Transformer_BLZ_absolute_vwap_loss: Mean absolute VWAP loss (1e-2): 0.3596 (±0.0027)\n",
      "Globally Fitted DynamicVWAP Transformer_BLZ_absolute_vwap_loss: Mean quadratic VWAP loss (1e-4): 0.6416 (±0.0132)\n",
      "Globally Fitted DynamicVWAP Transformer_BLZ_absolute_vwap_loss: Mean R2 on volume curve: -0.3489 (±0.0113)\n"
     ]
    },
    {
     "name": "stderr",
     "output_type": "stream",
     "text": [
      "/tmp/ipykernel_93748/3040326385.py:55: RuntimeWarning: invalid value encountered in divide\n",
      "  vwaps = pd.DataFrame(notionals.values / volumes.values, index=volumes.index, columns = volumes.columns)\n"
     ]
    },
    {
     "name": "stdout",
     "output_type": "stream",
     "text": [
      "Is Train asset:  True\n",
      "Naive_UNI_absolute_vwap_loss: Mean Training time: 0.0000 (±0.0000)\n",
      "Naive_UNI_absolute_vwap_loss: Mean absolute VWAP loss (1e-2): 0.3312 (±0.0000)\n",
      "Naive_UNI_absolute_vwap_loss: Mean quadratic VWAP loss (1e-4): 0.9409 (±0.0000)\n",
      "Naive_UNI_absolute_vwap_loss: Mean R2 on volume curve: 0.0000 (±0.0000)\n"
     ]
    },
    {
     "name": "stderr",
     "output_type": "stream",
     "text": [
      "/tmp/ipykernel_93748/3040326385.py:55: RuntimeWarning: invalid value encountered in divide\n",
      "  vwaps = pd.DataFrame(notionals.values / volumes.values, index=volumes.index, columns = volumes.columns)\n"
     ]
    },
    {
     "name": "stdout",
     "output_type": "stream",
     "text": [
      "Is Train asset:  True\n",
      "Globally Fitted DynamicVWAP Transformer_UNI_absolute_vwap_loss: Mean Training time: 0.0000 (±0.0000)\n",
      "Globally Fitted DynamicVWAP Transformer_UNI_absolute_vwap_loss: Mean absolute VWAP loss (1e-2): 0.2705 (±0.0032)\n",
      "Globally Fitted DynamicVWAP Transformer_UNI_absolute_vwap_loss: Mean quadratic VWAP loss (1e-4): 0.8933 (±0.0273)\n",
      "Globally Fitted DynamicVWAP Transformer_UNI_absolute_vwap_loss: Mean R2 on volume curve: -0.5543 (±0.0119)\n"
     ]
    },
    {
     "name": "stderr",
     "output_type": "stream",
     "text": [
      "/tmp/ipykernel_93748/3040326385.py:55: RuntimeWarning: invalid value encountered in divide\n",
      "  vwaps = pd.DataFrame(notionals.values / volumes.values, index=volumes.index, columns = volumes.columns)\n"
     ]
    },
    {
     "name": "stdout",
     "output_type": "stream",
     "text": [
      "Is Train asset:  False\n",
      "Naive_AVAX_absolute_vwap_loss: Mean Training time: 0.0000 (±0.0000)\n",
      "Naive_AVAX_absolute_vwap_loss: Mean absolute VWAP loss (1e-2): 0.2836 (±0.0000)\n",
      "Naive_AVAX_absolute_vwap_loss: Mean quadratic VWAP loss (1e-4): 0.3261 (±0.0000)\n",
      "Naive_AVAX_absolute_vwap_loss: Mean R2 on volume curve: 0.0000 (±0.0000)\n"
     ]
    },
    {
     "name": "stderr",
     "output_type": "stream",
     "text": [
      "/tmp/ipykernel_93748/3040326385.py:55: RuntimeWarning: invalid value encountered in divide\n",
      "  vwaps = pd.DataFrame(notionals.values / volumes.values, index=volumes.index, columns = volumes.columns)\n"
     ]
    },
    {
     "name": "stdout",
     "output_type": "stream",
     "text": [
      "Is Train asset:  False\n",
      "Globally Fitted DynamicVWAP Transformer_AVAX_absolute_vwap_loss: Mean Training time: 0.0000 (±0.0000)\n",
      "Globally Fitted DynamicVWAP Transformer_AVAX_absolute_vwap_loss: Mean absolute VWAP loss (1e-2): 0.2061 (±0.0005)\n",
      "Globally Fitted DynamicVWAP Transformer_AVAX_absolute_vwap_loss: Mean quadratic VWAP loss (1e-4): 0.2003 (±0.0055)\n",
      "Globally Fitted DynamicVWAP Transformer_AVAX_absolute_vwap_loss: Mean R2 on volume curve: -0.7068 (±0.0280)\n"
     ]
    },
    {
     "name": "stderr",
     "output_type": "stream",
     "text": [
      "/tmp/ipykernel_93748/3040326385.py:55: RuntimeWarning: invalid value encountered in divide\n",
      "  vwaps = pd.DataFrame(notionals.values / volumes.values, index=volumes.index, columns = volumes.columns)\n"
     ]
    },
    {
     "name": "stdout",
     "output_type": "stream",
     "text": [
      "Is Train asset:  True\n",
      "Naive_FTM_absolute_vwap_loss: Mean Training time: 0.0000 (±0.0000)\n",
      "Naive_FTM_absolute_vwap_loss: Mean absolute VWAP loss (1e-2): 0.3083 (±0.0000)\n",
      "Naive_FTM_absolute_vwap_loss: Mean quadratic VWAP loss (1e-4): 0.3681 (±0.0000)\n",
      "Naive_FTM_absolute_vwap_loss: Mean R2 on volume curve: 0.0000 (±0.0000)\n"
     ]
    },
    {
     "name": "stderr",
     "output_type": "stream",
     "text": [
      "/tmp/ipykernel_93748/3040326385.py:55: RuntimeWarning: invalid value encountered in divide\n",
      "  vwaps = pd.DataFrame(notionals.values / volumes.values, index=volumes.index, columns = volumes.columns)\n"
     ]
    },
    {
     "name": "stdout",
     "output_type": "stream",
     "text": [
      "Is Train asset:  True\n",
      "Globally Fitted DynamicVWAP Transformer_FTM_absolute_vwap_loss: Mean Training time: 0.0000 (±0.0000)\n",
      "Globally Fitted DynamicVWAP Transformer_FTM_absolute_vwap_loss: Mean absolute VWAP loss (1e-2): 0.2399 (±0.0039)\n",
      "Globally Fitted DynamicVWAP Transformer_FTM_absolute_vwap_loss: Mean quadratic VWAP loss (1e-4): 0.2797 (±0.0200)\n",
      "Globally Fitted DynamicVWAP Transformer_FTM_absolute_vwap_loss: Mean R2 on volume curve: -0.7264 (±0.0043)\n"
     ]
    },
    {
     "name": "stderr",
     "output_type": "stream",
     "text": [
      "/tmp/ipykernel_93748/3040326385.py:55: RuntimeWarning: invalid value encountered in divide\n",
      "  vwaps = pd.DataFrame(notionals.values / volumes.values, index=volumes.index, columns = volumes.columns)\n"
     ]
    },
    {
     "name": "stdout",
     "output_type": "stream",
     "text": [
      "Is Train asset:  False\n",
      "Naive_FLM_absolute_vwap_loss: Mean Training time: 0.0000 (±0.0000)\n",
      "Naive_FLM_absolute_vwap_loss: Mean absolute VWAP loss (1e-2): 0.3199 (±0.0000)\n",
      "Naive_FLM_absolute_vwap_loss: Mean quadratic VWAP loss (1e-4): 0.4525 (±0.0000)\n",
      "Naive_FLM_absolute_vwap_loss: Mean R2 on volume curve: 0.0000 (±0.0000)\n"
     ]
    },
    {
     "name": "stderr",
     "output_type": "stream",
     "text": [
      "/tmp/ipykernel_93748/3040326385.py:55: RuntimeWarning: invalid value encountered in divide\n",
      "  vwaps = pd.DataFrame(notionals.values / volumes.values, index=volumes.index, columns = volumes.columns)\n"
     ]
    },
    {
     "name": "stdout",
     "output_type": "stream",
     "text": [
      "Is Train asset:  False\n",
      "Globally Fitted DynamicVWAP Transformer_FLM_absolute_vwap_loss: Mean Training time: 0.0000 (±0.0000)\n",
      "Globally Fitted DynamicVWAP Transformer_FLM_absolute_vwap_loss: Mean absolute VWAP loss (1e-2): 0.2717 (±0.0027)\n",
      "Globally Fitted DynamicVWAP Transformer_FLM_absolute_vwap_loss: Mean quadratic VWAP loss (1e-4): 0.3573 (±0.0123)\n",
      "Globally Fitted DynamicVWAP Transformer_FLM_absolute_vwap_loss: Mean R2 on volume curve: -0.5436 (±0.0021)\n"
     ]
    },
    {
     "name": "stderr",
     "output_type": "stream",
     "text": [
      "/tmp/ipykernel_93748/3040326385.py:55: RuntimeWarning: invalid value encountered in divide\n",
      "  vwaps = pd.DataFrame(notionals.values / volumes.values, index=volumes.index, columns = volumes.columns)\n"
     ]
    },
    {
     "name": "stdout",
     "output_type": "stream",
     "text": [
      "Is Train asset:  True\n",
      "Naive_ENJ_absolute_vwap_loss: Mean Training time: 0.0000 (±0.0000)\n",
      "Naive_ENJ_absolute_vwap_loss: Mean absolute VWAP loss (1e-2): 0.3069 (±0.0000)\n",
      "Naive_ENJ_absolute_vwap_loss: Mean quadratic VWAP loss (1e-4): 0.4553 (±0.0000)\n",
      "Naive_ENJ_absolute_vwap_loss: Mean R2 on volume curve: 0.0000 (±0.0000)\n"
     ]
    },
    {
     "name": "stderr",
     "output_type": "stream",
     "text": [
      "/tmp/ipykernel_93748/3040326385.py:55: RuntimeWarning: invalid value encountered in divide\n",
      "  vwaps = pd.DataFrame(notionals.values / volumes.values, index=volumes.index, columns = volumes.columns)\n"
     ]
    },
    {
     "name": "stdout",
     "output_type": "stream",
     "text": [
      "Is Train asset:  True\n",
      "Globally Fitted DynamicVWAP Transformer_ENJ_absolute_vwap_loss: Mean Training time: 0.0000 (±0.0000)\n",
      "Globally Fitted DynamicVWAP Transformer_ENJ_absolute_vwap_loss: Mean absolute VWAP loss (1e-2): 0.2502 (±0.0022)\n",
      "Globally Fitted DynamicVWAP Transformer_ENJ_absolute_vwap_loss: Mean quadratic VWAP loss (1e-4): 0.3940 (±0.0172)\n",
      "Globally Fitted DynamicVWAP Transformer_ENJ_absolute_vwap_loss: Mean R2 on volume curve: -0.5486 (±0.0021)\n"
     ]
    },
    {
     "name": "stderr",
     "output_type": "stream",
     "text": [
      "/tmp/ipykernel_93748/3040326385.py:55: RuntimeWarning: invalid value encountered in divide\n",
      "  vwaps = pd.DataFrame(notionals.values / volumes.values, index=volumes.index, columns = volumes.columns)\n"
     ]
    },
    {
     "name": "stdout",
     "output_type": "stream",
     "text": [
      "Is Train asset:  False\n",
      "Naive_REN_absolute_vwap_loss: Mean Training time: 0.0000 (±0.0000)\n",
      "Naive_REN_absolute_vwap_loss: Mean absolute VWAP loss (1e-2): 0.3873 (±0.0000)\n",
      "Naive_REN_absolute_vwap_loss: Mean quadratic VWAP loss (1e-4): 1.0116 (±0.0000)\n",
      "Naive_REN_absolute_vwap_loss: Mean R2 on volume curve: 0.0000 (±0.0000)\n"
     ]
    },
    {
     "name": "stderr",
     "output_type": "stream",
     "text": [
      "/tmp/ipykernel_93748/3040326385.py:55: RuntimeWarning: invalid value encountered in divide\n",
      "  vwaps = pd.DataFrame(notionals.values / volumes.values, index=volumes.index, columns = volumes.columns)\n"
     ]
    },
    {
     "name": "stdout",
     "output_type": "stream",
     "text": [
      "Is Train asset:  False\n",
      "Globally Fitted DynamicVWAP Transformer_REN_absolute_vwap_loss: Mean Training time: 0.0000 (±0.0000)\n",
      "Globally Fitted DynamicVWAP Transformer_REN_absolute_vwap_loss: Mean absolute VWAP loss (1e-2): 0.3355 (±0.0003)\n",
      "Globally Fitted DynamicVWAP Transformer_REN_absolute_vwap_loss: Mean quadratic VWAP loss (1e-4): 0.9452 (±0.0139)\n",
      "Globally Fitted DynamicVWAP Transformer_REN_absolute_vwap_loss: Mean R2 on volume curve: -0.4844 (±0.0008)\n"
     ]
    },
    {
     "name": "stderr",
     "output_type": "stream",
     "text": [
      "/tmp/ipykernel_93748/3040326385.py:55: RuntimeWarning: invalid value encountered in divide\n",
      "  vwaps = pd.DataFrame(notionals.values / volumes.values, index=volumes.index, columns = volumes.columns)\n"
     ]
    },
    {
     "name": "stdout",
     "output_type": "stream",
     "text": [
      "Is Train asset:  True\n",
      "Naive_KSM_absolute_vwap_loss: Mean Training time: 0.0000 (±0.0000)\n",
      "Naive_KSM_absolute_vwap_loss: Mean absolute VWAP loss (1e-2): 0.3534 (±0.0000)\n",
      "Naive_KSM_absolute_vwap_loss: Mean quadratic VWAP loss (1e-4): 0.6563 (±0.0000)\n",
      "Naive_KSM_absolute_vwap_loss: Mean R2 on volume curve: 0.0000 (±0.0000)\n"
     ]
    },
    {
     "name": "stderr",
     "output_type": "stream",
     "text": [
      "/tmp/ipykernel_93748/3040326385.py:55: RuntimeWarning: invalid value encountered in divide\n",
      "  vwaps = pd.DataFrame(notionals.values / volumes.values, index=volumes.index, columns = volumes.columns)\n"
     ]
    },
    {
     "name": "stdout",
     "output_type": "stream",
     "text": [
      "Is Train asset:  True\n",
      "Globally Fitted DynamicVWAP Transformer_KSM_absolute_vwap_loss: Mean Training time: 0.0000 (±0.0000)\n",
      "Globally Fitted DynamicVWAP Transformer_KSM_absolute_vwap_loss: Mean absolute VWAP loss (1e-2): 0.2729 (±0.0009)\n",
      "Globally Fitted DynamicVWAP Transformer_KSM_absolute_vwap_loss: Mean quadratic VWAP loss (1e-4): 0.4156 (±0.0072)\n",
      "Globally Fitted DynamicVWAP Transformer_KSM_absolute_vwap_loss: Mean R2 on volume curve: -0.5019 (±0.0233)\n"
     ]
    },
    {
     "name": "stderr",
     "output_type": "stream",
     "text": [
      "/tmp/ipykernel_93748/3040326385.py:55: RuntimeWarning: invalid value encountered in divide\n",
      "  vwaps = pd.DataFrame(notionals.values / volumes.values, index=volumes.index, columns = volumes.columns)\n"
     ]
    },
    {
     "name": "stdout",
     "output_type": "stream",
     "text": [
      "Is Train asset:  False\n",
      "Naive_NEAR_absolute_vwap_loss: Mean Training time: 0.0000 (±0.0000)\n",
      "Naive_NEAR_absolute_vwap_loss: Mean absolute VWAP loss (1e-2): 0.3195 (±0.0000)\n",
      "Naive_NEAR_absolute_vwap_loss: Mean quadratic VWAP loss (1e-4): 0.3721 (±0.0000)\n",
      "Naive_NEAR_absolute_vwap_loss: Mean R2 on volume curve: 0.0000 (±0.0000)\n"
     ]
    },
    {
     "name": "stderr",
     "output_type": "stream",
     "text": [
      "/tmp/ipykernel_93748/3040326385.py:55: RuntimeWarning: invalid value encountered in divide\n",
      "  vwaps = pd.DataFrame(notionals.values / volumes.values, index=volumes.index, columns = volumes.columns)\n"
     ]
    },
    {
     "name": "stdout",
     "output_type": "stream",
     "text": [
      "Is Train asset:  False\n",
      "Globally Fitted DynamicVWAP Transformer_NEAR_absolute_vwap_loss: Mean Training time: 0.0000 (±0.0000)\n",
      "Globally Fitted DynamicVWAP Transformer_NEAR_absolute_vwap_loss: Mean absolute VWAP loss (1e-2): 0.2426 (±0.0021)\n",
      "Globally Fitted DynamicVWAP Transformer_NEAR_absolute_vwap_loss: Mean quadratic VWAP loss (1e-4): 0.2126 (±0.0046)\n",
      "Globally Fitted DynamicVWAP Transformer_NEAR_absolute_vwap_loss: Mean R2 on volume curve: -0.6966 (±0.0288)\n"
     ]
    },
    {
     "name": "stderr",
     "output_type": "stream",
     "text": [
      "/tmp/ipykernel_93748/3040326385.py:55: RuntimeWarning: invalid value encountered in divide\n",
      "  vwaps = pd.DataFrame(notionals.values / volumes.values, index=volumes.index, columns = volumes.columns)\n"
     ]
    },
    {
     "name": "stdout",
     "output_type": "stream",
     "text": [
      "Is Train asset:  True\n",
      "Naive_FIL_absolute_vwap_loss: Mean Training time: 0.0000 (±0.0000)\n",
      "Naive_FIL_absolute_vwap_loss: Mean absolute VWAP loss (1e-2): 0.2851 (±0.0000)\n",
      "Naive_FIL_absolute_vwap_loss: Mean quadratic VWAP loss (1e-4): 0.3249 (±0.0000)\n",
      "Naive_FIL_absolute_vwap_loss: Mean R2 on volume curve: 0.0000 (±0.0000)\n"
     ]
    },
    {
     "name": "stderr",
     "output_type": "stream",
     "text": [
      "/tmp/ipykernel_93748/3040326385.py:55: RuntimeWarning: invalid value encountered in divide\n",
      "  vwaps = pd.DataFrame(notionals.values / volumes.values, index=volumes.index, columns = volumes.columns)\n"
     ]
    },
    {
     "name": "stdout",
     "output_type": "stream",
     "text": [
      "Is Train asset:  True\n",
      "Globally Fitted DynamicVWAP Transformer_FIL_absolute_vwap_loss: Mean Training time: 0.0000 (±0.0000)\n",
      "Globally Fitted DynamicVWAP Transformer_FIL_absolute_vwap_loss: Mean absolute VWAP loss (1e-2): 0.2202 (±0.0000)\n",
      "Globally Fitted DynamicVWAP Transformer_FIL_absolute_vwap_loss: Mean quadratic VWAP loss (1e-4): 0.2313 (±0.0039)\n",
      "Globally Fitted DynamicVWAP Transformer_FIL_absolute_vwap_loss: Mean R2 on volume curve: -0.6434 (±0.0286)\n"
     ]
    },
    {
     "name": "stderr",
     "output_type": "stream",
     "text": [
      "/tmp/ipykernel_93748/3040326385.py:55: RuntimeWarning: invalid value encountered in divide\n",
      "  vwaps = pd.DataFrame(notionals.values / volumes.values, index=volumes.index, columns = volumes.columns)\n"
     ]
    },
    {
     "name": "stdout",
     "output_type": "stream",
     "text": [
      "Is Train asset:  False\n",
      "Naive_AAVE_absolute_vwap_loss: Mean Training time: 0.0000 (±0.0000)\n",
      "Naive_AAVE_absolute_vwap_loss: Mean absolute VWAP loss (1e-2): 0.3180 (±0.0000)\n",
      "Naive_AAVE_absolute_vwap_loss: Mean quadratic VWAP loss (1e-4): 0.3992 (±0.0000)\n",
      "Naive_AAVE_absolute_vwap_loss: Mean R2 on volume curve: 0.0000 (±0.0000)\n"
     ]
    },
    {
     "name": "stderr",
     "output_type": "stream",
     "text": [
      "/tmp/ipykernel_93748/3040326385.py:55: RuntimeWarning: invalid value encountered in divide\n",
      "  vwaps = pd.DataFrame(notionals.values / volumes.values, index=volumes.index, columns = volumes.columns)\n"
     ]
    },
    {
     "name": "stdout",
     "output_type": "stream",
     "text": [
      "Is Train asset:  False\n",
      "Globally Fitted DynamicVWAP Transformer_AAVE_absolute_vwap_loss: Mean Training time: 0.0000 (±0.0000)\n",
      "Globally Fitted DynamicVWAP Transformer_AAVE_absolute_vwap_loss: Mean absolute VWAP loss (1e-2): 0.2377 (±0.0005)\n",
      "Globally Fitted DynamicVWAP Transformer_AAVE_absolute_vwap_loss: Mean quadratic VWAP loss (1e-4): 0.2420 (±0.0077)\n",
      "Globally Fitted DynamicVWAP Transformer_AAVE_absolute_vwap_loss: Mean R2 on volume curve: -0.4333 (±0.0131)\n"
     ]
    },
    {
     "name": "stderr",
     "output_type": "stream",
     "text": [
      "/tmp/ipykernel_93748/3040326385.py:55: RuntimeWarning: invalid value encountered in divide\n",
      "  vwaps = pd.DataFrame(notionals.values / volumes.values, index=volumes.index, columns = volumes.columns)\n"
     ]
    },
    {
     "name": "stdout",
     "output_type": "stream",
     "text": [
      "Is Train asset:  True\n",
      "Naive_LRC_absolute_vwap_loss: Mean Training time: 0.0000 (±0.0000)\n",
      "Naive_LRC_absolute_vwap_loss: Mean absolute VWAP loss (1e-2): 0.3372 (±0.0000)\n",
      "Naive_LRC_absolute_vwap_loss: Mean quadratic VWAP loss (1e-4): 0.6072 (±0.0000)\n",
      "Naive_LRC_absolute_vwap_loss: Mean R2 on volume curve: 0.0000 (±0.0000)\n"
     ]
    },
    {
     "name": "stderr",
     "output_type": "stream",
     "text": [
      "/tmp/ipykernel_93748/3040326385.py:55: RuntimeWarning: invalid value encountered in divide\n",
      "  vwaps = pd.DataFrame(notionals.values / volumes.values, index=volumes.index, columns = volumes.columns)\n"
     ]
    },
    {
     "name": "stdout",
     "output_type": "stream",
     "text": [
      "Is Train asset:  True\n",
      "Globally Fitted DynamicVWAP Transformer_LRC_absolute_vwap_loss: Mean Training time: 0.0000 (±0.0000)\n",
      "Globally Fitted DynamicVWAP Transformer_LRC_absolute_vwap_loss: Mean absolute VWAP loss (1e-2): 0.2693 (±0.0018)\n",
      "Globally Fitted DynamicVWAP Transformer_LRC_absolute_vwap_loss: Mean quadratic VWAP loss (1e-4): 0.3926 (±0.0074)\n",
      "Globally Fitted DynamicVWAP Transformer_LRC_absolute_vwap_loss: Mean R2 on volume curve: -0.5028 (±0.0321)\n"
     ]
    },
    {
     "name": "stderr",
     "output_type": "stream",
     "text": [
      "/tmp/ipykernel_93748/3040326385.py:55: RuntimeWarning: invalid value encountered in divide\n",
      "  vwaps = pd.DataFrame(notionals.values / volumes.values, index=volumes.index, columns = volumes.columns)\n"
     ]
    },
    {
     "name": "stdout",
     "output_type": "stream",
     "text": [
      "Is Train asset:  False\n",
      "Naive_RSR_absolute_vwap_loss: Mean Training time: 0.0000 (±0.0000)\n",
      "Naive_RSR_absolute_vwap_loss: Mean absolute VWAP loss (1e-2): 0.4261 (±0.0000)\n",
      "Naive_RSR_absolute_vwap_loss: Mean quadratic VWAP loss (1e-4): 0.8576 (±0.0000)\n",
      "Naive_RSR_absolute_vwap_loss: Mean R2 on volume curve: 0.0000 (±0.0000)\n"
     ]
    },
    {
     "name": "stderr",
     "output_type": "stream",
     "text": [
      "/tmp/ipykernel_93748/3040326385.py:55: RuntimeWarning: invalid value encountered in divide\n",
      "  vwaps = pd.DataFrame(notionals.values / volumes.values, index=volumes.index, columns = volumes.columns)\n"
     ]
    },
    {
     "name": "stdout",
     "output_type": "stream",
     "text": [
      "Is Train asset:  False\n",
      "Globally Fitted DynamicVWAP Transformer_RSR_absolute_vwap_loss: Mean Training time: 0.0000 (±0.0000)\n",
      "Globally Fitted DynamicVWAP Transformer_RSR_absolute_vwap_loss: Mean absolute VWAP loss (1e-2): 0.3457 (±0.0009)\n",
      "Globally Fitted DynamicVWAP Transformer_RSR_absolute_vwap_loss: Mean quadratic VWAP loss (1e-4): 0.5916 (±0.0023)\n",
      "Globally Fitted DynamicVWAP Transformer_RSR_absolute_vwap_loss: Mean R2 on volume curve: -0.6063 (±0.0003)\n"
     ]
    },
    {
     "name": "stderr",
     "output_type": "stream",
     "text": [
      "/tmp/ipykernel_93748/3040326385.py:55: RuntimeWarning: invalid value encountered in divide\n",
      "  vwaps = pd.DataFrame(notionals.values / volumes.values, index=volumes.index, columns = volumes.columns)\n"
     ]
    },
    {
     "name": "stdout",
     "output_type": "stream",
     "text": [
      "Is Train asset:  True\n",
      "Naive_MATIC_absolute_vwap_loss: Mean Training time: 0.0000 (±0.0000)\n",
      "Naive_MATIC_absolute_vwap_loss: Mean absolute VWAP loss (1e-2): 0.2391 (±0.0000)\n",
      "Naive_MATIC_absolute_vwap_loss: Mean quadratic VWAP loss (1e-4): 0.2376 (±0.0000)\n",
      "Naive_MATIC_absolute_vwap_loss: Mean R2 on volume curve: 0.0000 (±0.0000)\n"
     ]
    },
    {
     "name": "stderr",
     "output_type": "stream",
     "text": [
      "/tmp/ipykernel_93748/3040326385.py:55: RuntimeWarning: invalid value encountered in divide\n",
      "  vwaps = pd.DataFrame(notionals.values / volumes.values, index=volumes.index, columns = volumes.columns)\n"
     ]
    },
    {
     "name": "stdout",
     "output_type": "stream",
     "text": [
      "Is Train asset:  True\n",
      "Globally Fitted DynamicVWAP Transformer_MATIC_absolute_vwap_loss: Mean Training time: 0.0000 (±0.0000)\n",
      "Globally Fitted DynamicVWAP Transformer_MATIC_absolute_vwap_loss: Mean absolute VWAP loss (1e-2): 0.1855 (±0.0009)\n",
      "Globally Fitted DynamicVWAP Transformer_MATIC_absolute_vwap_loss: Mean quadratic VWAP loss (1e-4): 0.1589 (±0.0044)\n",
      "Globally Fitted DynamicVWAP Transformer_MATIC_absolute_vwap_loss: Mean R2 on volume curve: -0.5963 (±0.0521)\n"
     ]
    },
    {
     "name": "stderr",
     "output_type": "stream",
     "text": [
      "/tmp/ipykernel_93748/3040326385.py:55: RuntimeWarning: invalid value encountered in divide\n",
      "  vwaps = pd.DataFrame(notionals.values / volumes.values, index=volumes.index, columns = volumes.columns)\n"
     ]
    },
    {
     "name": "stdout",
     "output_type": "stream",
     "text": [
      "Is Train asset:  False\n",
      "Naive_OCEAN_absolute_vwap_loss: Mean Training time: 0.0000 (±0.0000)\n",
      "Naive_OCEAN_absolute_vwap_loss: Mean absolute VWAP loss (1e-2): 0.3682 (±0.0000)\n",
      "Naive_OCEAN_absolute_vwap_loss: Mean quadratic VWAP loss (1e-4): 0.7861 (±0.0000)\n",
      "Naive_OCEAN_absolute_vwap_loss: Mean R2 on volume curve: 0.0000 (±0.0000)\n"
     ]
    },
    {
     "name": "stderr",
     "output_type": "stream",
     "text": [
      "/tmp/ipykernel_93748/3040326385.py:55: RuntimeWarning: invalid value encountered in divide\n",
      "  vwaps = pd.DataFrame(notionals.values / volumes.values, index=volumes.index, columns = volumes.columns)\n"
     ]
    },
    {
     "name": "stdout",
     "output_type": "stream",
     "text": [
      "Is Train asset:  False\n",
      "Globally Fitted DynamicVWAP Transformer_OCEAN_absolute_vwap_loss: Mean Training time: 0.0000 (±0.0000)\n",
      "Globally Fitted DynamicVWAP Transformer_OCEAN_absolute_vwap_loss: Mean absolute VWAP loss (1e-2): 0.2978 (±0.0035)\n",
      "Globally Fitted DynamicVWAP Transformer_OCEAN_absolute_vwap_loss: Mean quadratic VWAP loss (1e-4): 0.7625 (±0.1016)\n",
      "Globally Fitted DynamicVWAP Transformer_OCEAN_absolute_vwap_loss: Mean R2 on volume curve: -0.5840 (±0.0254)\n"
     ]
    },
    {
     "name": "stderr",
     "output_type": "stream",
     "text": [
      "/tmp/ipykernel_93748/3040326385.py:55: RuntimeWarning: invalid value encountered in divide\n",
      "  vwaps = pd.DataFrame(notionals.values / volumes.values, index=volumes.index, columns = volumes.columns)\n"
     ]
    },
    {
     "name": "stdout",
     "output_type": "stream",
     "text": [
      "Is Train asset:  True\n",
      "Naive_BEL_absolute_vwap_loss: Mean Training time: 0.0000 (±0.0000)\n",
      "Naive_BEL_absolute_vwap_loss: Mean absolute VWAP loss (1e-2): 0.3852 (±0.0000)\n",
      "Naive_BEL_absolute_vwap_loss: Mean quadratic VWAP loss (1e-4): 0.7530 (±0.0000)\n",
      "Naive_BEL_absolute_vwap_loss: Mean R2 on volume curve: 0.0000 (±0.0000)\n"
     ]
    },
    {
     "name": "stderr",
     "output_type": "stream",
     "text": [
      "/tmp/ipykernel_93748/3040326385.py:55: RuntimeWarning: invalid value encountered in divide\n",
      "  vwaps = pd.DataFrame(notionals.values / volumes.values, index=volumes.index, columns = volumes.columns)\n"
     ]
    },
    {
     "name": "stdout",
     "output_type": "stream",
     "text": [
      "Is Train asset:  True\n",
      "Globally Fitted DynamicVWAP Transformer_BEL_absolute_vwap_loss: Mean Training time: 0.0000 (±0.0000)\n",
      "Globally Fitted DynamicVWAP Transformer_BEL_absolute_vwap_loss: Mean absolute VWAP loss (1e-2): 0.3279 (±0.0064)\n",
      "Globally Fitted DynamicVWAP Transformer_BEL_absolute_vwap_loss: Mean quadratic VWAP loss (1e-4): 0.6112 (±0.0208)\n",
      "Globally Fitted DynamicVWAP Transformer_BEL_absolute_vwap_loss: Mean R2 on volume curve: -0.4741 (±0.0060)\n"
     ]
    },
    {
     "name": "stderr",
     "output_type": "stream",
     "text": [
      "/tmp/ipykernel_93748/3040326385.py:55: RuntimeWarning: invalid value encountered in divide\n",
      "  vwaps = pd.DataFrame(notionals.values / volumes.values, index=volumes.index, columns = volumes.columns)\n"
     ]
    },
    {
     "name": "stdout",
     "output_type": "stream",
     "text": [
      "Is Train asset:  False\n",
      "Naive_AXS_absolute_vwap_loss: Mean Training time: 0.0000 (±0.0000)\n",
      "Naive_AXS_absolute_vwap_loss: Mean absolute VWAP loss (1e-2): 0.3090 (±0.0000)\n",
      "Naive_AXS_absolute_vwap_loss: Mean quadratic VWAP loss (1e-4): 0.4147 (±0.0000)\n",
      "Naive_AXS_absolute_vwap_loss: Mean R2 on volume curve: 0.0000 (±0.0000)\n"
     ]
    },
    {
     "name": "stderr",
     "output_type": "stream",
     "text": [
      "/tmp/ipykernel_93748/3040326385.py:55: RuntimeWarning: invalid value encountered in divide\n",
      "  vwaps = pd.DataFrame(notionals.values / volumes.values, index=volumes.index, columns = volumes.columns)\n"
     ]
    },
    {
     "name": "stdout",
     "output_type": "stream",
     "text": [
      "Is Train asset:  False\n",
      "Globally Fitted DynamicVWAP Transformer_AXS_absolute_vwap_loss: Mean Training time: 0.0000 (±0.0000)\n",
      "Globally Fitted DynamicVWAP Transformer_AXS_absolute_vwap_loss: Mean absolute VWAP loss (1e-2): 0.2302 (±0.0022)\n",
      "Globally Fitted DynamicVWAP Transformer_AXS_absolute_vwap_loss: Mean quadratic VWAP loss (1e-4): 0.2224 (±0.0140)\n",
      "Globally Fitted DynamicVWAP Transformer_AXS_absolute_vwap_loss: Mean R2 on volume curve: -0.4946 (±0.0047)\n"
     ]
    },
    {
     "name": "stderr",
     "output_type": "stream",
     "text": [
      "/tmp/ipykernel_93748/3040326385.py:55: RuntimeWarning: invalid value encountered in divide\n",
      "  vwaps = pd.DataFrame(notionals.values / volumes.values, index=volumes.index, columns = volumes.columns)\n"
     ]
    },
    {
     "name": "stdout",
     "output_type": "stream",
     "text": [
      "Is Train asset:  True\n",
      "Naive_ALPHA_absolute_vwap_loss: Mean Training time: 0.0000 (±0.0000)\n",
      "Naive_ALPHA_absolute_vwap_loss: Mean absolute VWAP loss (1e-2): 0.4019 (±0.0000)\n",
      "Naive_ALPHA_absolute_vwap_loss: Mean quadratic VWAP loss (1e-4): 1.2768 (±0.0000)\n",
      "Naive_ALPHA_absolute_vwap_loss: Mean R2 on volume curve: 0.0000 (±0.0000)\n"
     ]
    },
    {
     "name": "stderr",
     "output_type": "stream",
     "text": [
      "/tmp/ipykernel_93748/3040326385.py:55: RuntimeWarning: invalid value encountered in divide\n",
      "  vwaps = pd.DataFrame(notionals.values / volumes.values, index=volumes.index, columns = volumes.columns)\n"
     ]
    },
    {
     "name": "stdout",
     "output_type": "stream",
     "text": [
      "Is Train asset:  True\n",
      "Globally Fitted DynamicVWAP Transformer_ALPHA_absolute_vwap_loss: Mean Training time: 0.0000 (±0.0000)\n",
      "Globally Fitted DynamicVWAP Transformer_ALPHA_absolute_vwap_loss: Mean absolute VWAP loss (1e-2): 0.3275 (±0.0005)\n",
      "Globally Fitted DynamicVWAP Transformer_ALPHA_absolute_vwap_loss: Mean quadratic VWAP loss (1e-4): 0.9823 (±0.0465)\n",
      "Globally Fitted DynamicVWAP Transformer_ALPHA_absolute_vwap_loss: Mean R2 on volume curve: -0.4394 (±0.0136)\n"
     ]
    },
    {
     "name": "stderr",
     "output_type": "stream",
     "text": [
      "/tmp/ipykernel_93748/3040326385.py:55: RuntimeWarning: invalid value encountered in divide\n",
      "  vwaps = pd.DataFrame(notionals.values / volumes.values, index=volumes.index, columns = volumes.columns)\n"
     ]
    },
    {
     "name": "stdout",
     "output_type": "stream",
     "text": [
      "Is Train asset:  False\n",
      "Naive_ZEN_absolute_vwap_loss: Mean Training time: 0.0000 (±0.0000)\n",
      "Naive_ZEN_absolute_vwap_loss: Mean absolute VWAP loss (1e-2): 0.3408 (±0.0000)\n",
      "Naive_ZEN_absolute_vwap_loss: Mean quadratic VWAP loss (1e-4): 0.6850 (±0.0000)\n",
      "Naive_ZEN_absolute_vwap_loss: Mean R2 on volume curve: 0.0000 (±0.0000)\n"
     ]
    },
    {
     "name": "stderr",
     "output_type": "stream",
     "text": [
      "/tmp/ipykernel_93748/3040326385.py:55: RuntimeWarning: invalid value encountered in divide\n",
      "  vwaps = pd.DataFrame(notionals.values / volumes.values, index=volumes.index, columns = volumes.columns)\n"
     ]
    },
    {
     "name": "stdout",
     "output_type": "stream",
     "text": [
      "Is Train asset:  False\n",
      "Globally Fitted DynamicVWAP Transformer_ZEN_absolute_vwap_loss: Mean Training time: 0.0000 (±0.0000)\n",
      "Globally Fitted DynamicVWAP Transformer_ZEN_absolute_vwap_loss: Mean absolute VWAP loss (1e-2): 0.2857 (±0.0075)\n",
      "Globally Fitted DynamicVWAP Transformer_ZEN_absolute_vwap_loss: Mean quadratic VWAP loss (1e-4): 0.6222 (±0.0949)\n",
      "Globally Fitted DynamicVWAP Transformer_ZEN_absolute_vwap_loss: Mean R2 on volume curve: -0.5540 (±0.0183)\n"
     ]
    },
    {
     "name": "stderr",
     "output_type": "stream",
     "text": [
      "/tmp/ipykernel_93748/3040326385.py:55: RuntimeWarning: invalid value encountered in divide\n",
      "  vwaps = pd.DataFrame(notionals.values / volumes.values, index=volumes.index, columns = volumes.columns)\n"
     ]
    },
    {
     "name": "stdout",
     "output_type": "stream",
     "text": [
      "Is Train asset:  True\n",
      "Naive_SKL_absolute_vwap_loss: Mean Training time: 0.0000 (±0.0000)\n",
      "Naive_SKL_absolute_vwap_loss: Mean absolute VWAP loss (1e-2): 0.4284 (±0.0000)\n",
      "Naive_SKL_absolute_vwap_loss: Mean quadratic VWAP loss (1e-4): 0.8003 (±0.0000)\n",
      "Naive_SKL_absolute_vwap_loss: Mean R2 on volume curve: 0.0000 (±0.0000)\n"
     ]
    },
    {
     "name": "stderr",
     "output_type": "stream",
     "text": [
      "/tmp/ipykernel_93748/3040326385.py:55: RuntimeWarning: invalid value encountered in divide\n",
      "  vwaps = pd.DataFrame(notionals.values / volumes.values, index=volumes.index, columns = volumes.columns)\n"
     ]
    },
    {
     "name": "stdout",
     "output_type": "stream",
     "text": [
      "Is Train asset:  True\n",
      "Globally Fitted DynamicVWAP Transformer_SKL_absolute_vwap_loss: Mean Training time: 0.0000 (±0.0000)\n",
      "Globally Fitted DynamicVWAP Transformer_SKL_absolute_vwap_loss: Mean absolute VWAP loss (1e-2): 0.3464 (±0.0022)\n",
      "Globally Fitted DynamicVWAP Transformer_SKL_absolute_vwap_loss: Mean quadratic VWAP loss (1e-4): 0.5557 (±0.0195)\n",
      "Globally Fitted DynamicVWAP Transformer_SKL_absolute_vwap_loss: Mean R2 on volume curve: -0.6956 (±0.0132)\n"
     ]
    },
    {
     "name": "stderr",
     "output_type": "stream",
     "text": [
      "/tmp/ipykernel_93748/3040326385.py:55: RuntimeWarning: invalid value encountered in divide\n",
      "  vwaps = pd.DataFrame(notionals.values / volumes.values, index=volumes.index, columns = volumes.columns)\n"
     ]
    },
    {
     "name": "stdout",
     "output_type": "stream",
     "text": [
      "Is Train asset:  False\n",
      "Naive_GRT_absolute_vwap_loss: Mean Training time: 0.0000 (±0.0000)\n",
      "Naive_GRT_absolute_vwap_loss: Mean absolute VWAP loss (1e-2): 0.3277 (±0.0000)\n",
      "Naive_GRT_absolute_vwap_loss: Mean quadratic VWAP loss (1e-4): 0.4615 (±0.0000)\n",
      "Naive_GRT_absolute_vwap_loss: Mean R2 on volume curve: 0.0000 (±0.0000)\n"
     ]
    },
    {
     "name": "stderr",
     "output_type": "stream",
     "text": [
      "/tmp/ipykernel_93748/3040326385.py:55: RuntimeWarning: invalid value encountered in divide\n",
      "  vwaps = pd.DataFrame(notionals.values / volumes.values, index=volumes.index, columns = volumes.columns)\n"
     ]
    },
    {
     "name": "stdout",
     "output_type": "stream",
     "text": [
      "Is Train asset:  False\n",
      "Globally Fitted DynamicVWAP Transformer_GRT_absolute_vwap_loss: Mean Training time: 0.0000 (±0.0000)\n",
      "Globally Fitted DynamicVWAP Transformer_GRT_absolute_vwap_loss: Mean absolute VWAP loss (1e-2): 0.2613 (±0.0039)\n",
      "Globally Fitted DynamicVWAP Transformer_GRT_absolute_vwap_loss: Mean quadratic VWAP loss (1e-4): 0.3387 (±0.0210)\n",
      "Globally Fitted DynamicVWAP Transformer_GRT_absolute_vwap_loss: Mean R2 on volume curve: -0.6703 (±0.0003)\n"
     ]
    },
    {
     "name": "stderr",
     "output_type": "stream",
     "text": [
      "/tmp/ipykernel_93748/3040326385.py:55: RuntimeWarning: invalid value encountered in divide\n",
      "  vwaps = pd.DataFrame(notionals.values / volumes.values, index=volumes.index, columns = volumes.columns)\n"
     ]
    },
    {
     "name": "stdout",
     "output_type": "stream",
     "text": [
      "Is Train asset:  True\n",
      "Naive_1INCH_absolute_vwap_loss: Mean Training time: 0.0000 (±0.0000)\n",
      "Naive_1INCH_absolute_vwap_loss: Mean absolute VWAP loss (1e-2): 0.3451 (±0.0000)\n",
      "Naive_1INCH_absolute_vwap_loss: Mean quadratic VWAP loss (1e-4): 0.6137 (±0.0000)\n",
      "Naive_1INCH_absolute_vwap_loss: Mean R2 on volume curve: 0.0000 (±0.0000)\n"
     ]
    },
    {
     "name": "stderr",
     "output_type": "stream",
     "text": [
      "/tmp/ipykernel_93748/3040326385.py:55: RuntimeWarning: invalid value encountered in divide\n",
      "  vwaps = pd.DataFrame(notionals.values / volumes.values, index=volumes.index, columns = volumes.columns)\n"
     ]
    },
    {
     "name": "stdout",
     "output_type": "stream",
     "text": [
      "Is Train asset:  True\n",
      "Globally Fitted DynamicVWAP Transformer_1INCH_absolute_vwap_loss: Mean Training time: 0.0000 (±0.0000)\n",
      "Globally Fitted DynamicVWAP Transformer_1INCH_absolute_vwap_loss: Mean absolute VWAP loss (1e-2): 0.2829 (±0.0008)\n",
      "Globally Fitted DynamicVWAP Transformer_1INCH_absolute_vwap_loss: Mean quadratic VWAP loss (1e-4): 0.4653 (±0.0089)\n",
      "Globally Fitted DynamicVWAP Transformer_1INCH_absolute_vwap_loss: Mean R2 on volume curve: -0.4634 (±0.0079)\n"
     ]
    },
    {
     "name": "stderr",
     "output_type": "stream",
     "text": [
      "/tmp/ipykernel_93748/3040326385.py:55: RuntimeWarning: invalid value encountered in divide\n",
      "  vwaps = pd.DataFrame(notionals.values / volumes.values, index=volumes.index, columns = volumes.columns)\n"
     ]
    },
    {
     "name": "stdout",
     "output_type": "stream",
     "text": [
      "Is Train asset:  False\n",
      "Naive_CHZ_absolute_vwap_loss: Mean Training time: 0.0000 (±0.0000)\n",
      "Naive_CHZ_absolute_vwap_loss: Mean absolute VWAP loss (1e-2): 0.3023 (±0.0000)\n",
      "Naive_CHZ_absolute_vwap_loss: Mean quadratic VWAP loss (1e-4): 0.4598 (±0.0000)\n",
      "Naive_CHZ_absolute_vwap_loss: Mean R2 on volume curve: 0.0000 (±0.0000)\n"
     ]
    },
    {
     "name": "stderr",
     "output_type": "stream",
     "text": [
      "/tmp/ipykernel_93748/3040326385.py:55: RuntimeWarning: invalid value encountered in divide\n",
      "  vwaps = pd.DataFrame(notionals.values / volumes.values, index=volumes.index, columns = volumes.columns)\n"
     ]
    },
    {
     "name": "stdout",
     "output_type": "stream",
     "text": [
      "Is Train asset:  False\n",
      "Globally Fitted DynamicVWAP Transformer_CHZ_absolute_vwap_loss: Mean Training time: 0.0000 (±0.0000)\n",
      "Globally Fitted DynamicVWAP Transformer_CHZ_absolute_vwap_loss: Mean absolute VWAP loss (1e-2): 0.2389 (±0.0022)\n",
      "Globally Fitted DynamicVWAP Transformer_CHZ_absolute_vwap_loss: Mean quadratic VWAP loss (1e-4): 0.3545 (±0.0020)\n",
      "Globally Fitted DynamicVWAP Transformer_CHZ_absolute_vwap_loss: Mean R2 on volume curve: -0.5836 (±0.0191)\n"
     ]
    },
    {
     "name": "stderr",
     "output_type": "stream",
     "text": [
      "/tmp/ipykernel_93748/3040326385.py:55: RuntimeWarning: invalid value encountered in divide\n",
      "  vwaps = pd.DataFrame(notionals.values / volumes.values, index=volumes.index, columns = volumes.columns)\n"
     ]
    },
    {
     "name": "stdout",
     "output_type": "stream",
     "text": [
      "Is Train asset:  True\n",
      "Naive_SAND_absolute_vwap_loss: Mean Training time: 0.0000 (±0.0000)\n",
      "Naive_SAND_absolute_vwap_loss: Mean absolute VWAP loss (1e-2): 0.2703 (±0.0000)\n",
      "Naive_SAND_absolute_vwap_loss: Mean quadratic VWAP loss (1e-4): 0.3144 (±0.0000)\n",
      "Naive_SAND_absolute_vwap_loss: Mean R2 on volume curve: 0.0000 (±0.0000)\n"
     ]
    },
    {
     "name": "stderr",
     "output_type": "stream",
     "text": [
      "/tmp/ipykernel_93748/3040326385.py:55: RuntimeWarning: invalid value encountered in divide\n",
      "  vwaps = pd.DataFrame(notionals.values / volumes.values, index=volumes.index, columns = volumes.columns)\n"
     ]
    },
    {
     "name": "stdout",
     "output_type": "stream",
     "text": [
      "Is Train asset:  True\n",
      "Globally Fitted DynamicVWAP Transformer_SAND_absolute_vwap_loss: Mean Training time: 0.0000 (±0.0000)\n",
      "Globally Fitted DynamicVWAP Transformer_SAND_absolute_vwap_loss: Mean absolute VWAP loss (1e-2): 0.2136 (±0.0026)\n",
      "Globally Fitted DynamicVWAP Transformer_SAND_absolute_vwap_loss: Mean quadratic VWAP loss (1e-4): 0.2231 (±0.0152)\n",
      "Globally Fitted DynamicVWAP Transformer_SAND_absolute_vwap_loss: Mean R2 on volume curve: -0.5413 (±0.0295)\n"
     ]
    },
    {
     "name": "stderr",
     "output_type": "stream",
     "text": [
      "/tmp/ipykernel_93748/3040326385.py:55: RuntimeWarning: invalid value encountered in divide\n",
      "  vwaps = pd.DataFrame(notionals.values / volumes.values, index=volumes.index, columns = volumes.columns)\n"
     ]
    },
    {
     "name": "stdout",
     "output_type": "stream",
     "text": [
      "Is Train asset:  False\n",
      "Naive_ANKR_absolute_vwap_loss: Mean Training time: 0.0000 (±0.0000)\n",
      "Naive_ANKR_absolute_vwap_loss: Mean absolute VWAP loss (1e-2): 0.3701 (±0.0000)\n",
      "Naive_ANKR_absolute_vwap_loss: Mean quadratic VWAP loss (1e-4): 0.6916 (±0.0000)\n",
      "Naive_ANKR_absolute_vwap_loss: Mean R2 on volume curve: 0.0000 (±0.0000)\n"
     ]
    },
    {
     "name": "stderr",
     "output_type": "stream",
     "text": [
      "/tmp/ipykernel_93748/3040326385.py:55: RuntimeWarning: invalid value encountered in divide\n",
      "  vwaps = pd.DataFrame(notionals.values / volumes.values, index=volumes.index, columns = volumes.columns)\n"
     ]
    },
    {
     "name": "stdout",
     "output_type": "stream",
     "text": [
      "Is Train asset:  False\n",
      "Globally Fitted DynamicVWAP Transformer_ANKR_absolute_vwap_loss: Mean Training time: 0.0000 (±0.0000)\n",
      "Globally Fitted DynamicVWAP Transformer_ANKR_absolute_vwap_loss: Mean absolute VWAP loss (1e-2): 0.2985 (±0.0050)\n",
      "Globally Fitted DynamicVWAP Transformer_ANKR_absolute_vwap_loss: Mean quadratic VWAP loss (1e-4): 0.5978 (±0.0099)\n",
      "Globally Fitted DynamicVWAP Transformer_ANKR_absolute_vwap_loss: Mean R2 on volume curve: -0.4988 (±0.0089)\n"
     ]
    },
    {
     "name": "stderr",
     "output_type": "stream",
     "text": [
      "/tmp/ipykernel_93748/3040326385.py:55: RuntimeWarning: invalid value encountered in divide\n",
      "  vwaps = pd.DataFrame(notionals.values / volumes.values, index=volumes.index, columns = volumes.columns)\n"
     ]
    },
    {
     "name": "stdout",
     "output_type": "stream",
     "text": [
      "Is Train asset:  True\n",
      "Naive_LIT_absolute_vwap_loss: Mean Training time: 0.0000 (±0.0000)\n",
      "Naive_LIT_absolute_vwap_loss: Mean absolute VWAP loss (1e-2): 0.3855 (±0.0000)\n",
      "Naive_LIT_absolute_vwap_loss: Mean quadratic VWAP loss (1e-4): 0.6943 (±0.0000)\n",
      "Naive_LIT_absolute_vwap_loss: Mean R2 on volume curve: 0.0000 (±0.0000)\n"
     ]
    },
    {
     "name": "stderr",
     "output_type": "stream",
     "text": [
      "/tmp/ipykernel_93748/3040326385.py:55: RuntimeWarning: invalid value encountered in divide\n",
      "  vwaps = pd.DataFrame(notionals.values / volumes.values, index=volumes.index, columns = volumes.columns)\n"
     ]
    },
    {
     "name": "stdout",
     "output_type": "stream",
     "text": [
      "Is Train asset:  True\n",
      "Globally Fitted DynamicVWAP Transformer_LIT_absolute_vwap_loss: Mean Training time: 0.0000 (±0.0000)\n",
      "Globally Fitted DynamicVWAP Transformer_LIT_absolute_vwap_loss: Mean absolute VWAP loss (1e-2): 0.3233 (±0.0033)\n",
      "Globally Fitted DynamicVWAP Transformer_LIT_absolute_vwap_loss: Mean quadratic VWAP loss (1e-4): 0.5778 (±0.0227)\n",
      "Globally Fitted DynamicVWAP Transformer_LIT_absolute_vwap_loss: Mean R2 on volume curve: -0.5015 (±0.0169)\n"
     ]
    },
    {
     "name": "stderr",
     "output_type": "stream",
     "text": [
      "/tmp/ipykernel_93748/3040326385.py:55: RuntimeWarning: invalid value encountered in divide\n",
      "  vwaps = pd.DataFrame(notionals.values / volumes.values, index=volumes.index, columns = volumes.columns)\n"
     ]
    },
    {
     "name": "stdout",
     "output_type": "stream",
     "text": [
      "Is Train asset:  False\n",
      "Naive_CTK_absolute_vwap_loss: Mean Training time: 0.0000 (±0.0000)\n",
      "Naive_CTK_absolute_vwap_loss: Mean absolute VWAP loss (1e-2): 0.2783 (±0.0000)\n",
      "Naive_CTK_absolute_vwap_loss: Mean quadratic VWAP loss (1e-4): 0.3761 (±0.0000)\n",
      "Naive_CTK_absolute_vwap_loss: Mean R2 on volume curve: 0.0000 (±0.0000)\n"
     ]
    },
    {
     "name": "stderr",
     "output_type": "stream",
     "text": [
      "/tmp/ipykernel_93748/3040326385.py:55: RuntimeWarning: invalid value encountered in divide\n",
      "  vwaps = pd.DataFrame(notionals.values / volumes.values, index=volumes.index, columns = volumes.columns)\n"
     ]
    },
    {
     "name": "stdout",
     "output_type": "stream",
     "text": [
      "Is Train asset:  False\n",
      "Globally Fitted DynamicVWAP Transformer_CTK_absolute_vwap_loss: Mean Training time: 0.0000 (±0.0000)\n",
      "Globally Fitted DynamicVWAP Transformer_CTK_absolute_vwap_loss: Mean absolute VWAP loss (1e-2): 0.2328 (±0.0033)\n",
      "Globally Fitted DynamicVWAP Transformer_CTK_absolute_vwap_loss: Mean quadratic VWAP loss (1e-4): 0.2476 (±0.0132)\n",
      "Globally Fitted DynamicVWAP Transformer_CTK_absolute_vwap_loss: Mean R2 on volume curve: -0.4034 (±0.0061)\n"
     ]
    },
    {
     "name": "stderr",
     "output_type": "stream",
     "text": [
      "/tmp/ipykernel_93748/3040326385.py:55: RuntimeWarning: invalid value encountered in divide\n",
      "  vwaps = pd.DataFrame(notionals.values / volumes.values, index=volumes.index, columns = volumes.columns)\n"
     ]
    },
    {
     "name": "stdout",
     "output_type": "stream",
     "text": [
      "Is Train asset:  True\n",
      "Naive_UNFI_absolute_vwap_loss: Mean Training time: 0.0000 (±0.0000)\n",
      "Naive_UNFI_absolute_vwap_loss: Mean absolute VWAP loss (1e-2): 0.4168 (±0.0000)\n",
      "Naive_UNFI_absolute_vwap_loss: Mean quadratic VWAP loss (1e-4): 0.9673 (±0.0000)\n",
      "Naive_UNFI_absolute_vwap_loss: Mean R2 on volume curve: 0.0000 (±0.0000)\n"
     ]
    },
    {
     "name": "stderr",
     "output_type": "stream",
     "text": [
      "/tmp/ipykernel_93748/3040326385.py:55: RuntimeWarning: invalid value encountered in divide\n",
      "  vwaps = pd.DataFrame(notionals.values / volumes.values, index=volumes.index, columns = volumes.columns)\n"
     ]
    },
    {
     "name": "stdout",
     "output_type": "stream",
     "text": [
      "Is Train asset:  True\n",
      "Globally Fitted DynamicVWAP Transformer_UNFI_absolute_vwap_loss: Mean Training time: 0.0000 (±0.0000)\n",
      "Globally Fitted DynamicVWAP Transformer_UNFI_absolute_vwap_loss: Mean absolute VWAP loss (1e-2): 0.3575 (±0.0074)\n",
      "Globally Fitted DynamicVWAP Transformer_UNFI_absolute_vwap_loss: Mean quadratic VWAP loss (1e-4): 0.7431 (±0.0302)\n",
      "Globally Fitted DynamicVWAP Transformer_UNFI_absolute_vwap_loss: Mean R2 on volume curve: -0.5299 (±0.0079)\n"
     ]
    },
    {
     "name": "stderr",
     "output_type": "stream",
     "text": [
      "/tmp/ipykernel_93748/3040326385.py:55: RuntimeWarning: invalid value encountered in divide\n",
      "  vwaps = pd.DataFrame(notionals.values / volumes.values, index=volumes.index, columns = volumes.columns)\n"
     ]
    },
    {
     "name": "stdout",
     "output_type": "stream",
     "text": [
      "Is Train asset:  False\n",
      "Naive_REEF_absolute_vwap_loss: Mean Training time: 0.0000 (±0.0000)\n",
      "Naive_REEF_absolute_vwap_loss: Mean absolute VWAP loss (1e-2): 0.3821 (±0.0000)\n",
      "Naive_REEF_absolute_vwap_loss: Mean quadratic VWAP loss (1e-4): 0.7124 (±0.0000)\n",
      "Naive_REEF_absolute_vwap_loss: Mean R2 on volume curve: 0.0000 (±0.0000)\n"
     ]
    },
    {
     "name": "stderr",
     "output_type": "stream",
     "text": [
      "/tmp/ipykernel_93748/3040326385.py:55: RuntimeWarning: invalid value encountered in divide\n",
      "  vwaps = pd.DataFrame(notionals.values / volumes.values, index=volumes.index, columns = volumes.columns)\n"
     ]
    },
    {
     "name": "stdout",
     "output_type": "stream",
     "text": [
      "Is Train asset:  False\n",
      "Globally Fitted DynamicVWAP Transformer_REEF_absolute_vwap_loss: Mean Training time: 0.0000 (±0.0000)\n",
      "Globally Fitted DynamicVWAP Transformer_REEF_absolute_vwap_loss: Mean absolute VWAP loss (1e-2): 0.3247 (±0.0012)\n",
      "Globally Fitted DynamicVWAP Transformer_REEF_absolute_vwap_loss: Mean quadratic VWAP loss (1e-4): 0.6876 (±0.0057)\n",
      "Globally Fitted DynamicVWAP Transformer_REEF_absolute_vwap_loss: Mean R2 on volume curve: -0.5286 (±0.0139)\n"
     ]
    },
    {
     "data": {
      "text/html": [
       "<div>\n",
       "<style scoped>\n",
       "    .dataframe tbody tr th:only-of-type {\n",
       "        vertical-align: middle;\n",
       "    }\n",
       "\n",
       "    .dataframe tbody tr th {\n",
       "        vertical-align: top;\n",
       "    }\n",
       "\n",
       "    .dataframe thead th {\n",
       "        text-align: right;\n",
       "    }\n",
       "</style>\n",
       "<table border=\"1\" class=\"dataframe\">\n",
       "  <thead>\n",
       "    <tr style=\"text-align: right;\">\n",
       "      <th></th>\n",
       "      <th>model type</th>\n",
       "      <th>asset</th>\n",
       "      <th>Training Asset</th>\n",
       "      <th>optimization_function</th>\n",
       "      <th>mean_absolute_vwap_loss</th>\n",
       "      <th>std_absolute_vwap_loss</th>\n",
       "      <th>mean_quadratic_vwap_loss</th>\n",
       "      <th>std_quadratic_vwap_loss</th>\n",
       "      <th>mean_r2_volume_curve</th>\n",
       "      <th>std_r2_volume_curve</th>\n",
       "      <th>mean_training_time</th>\n",
       "      <th>std_training_time</th>\n",
       "    </tr>\n",
       "  </thead>\n",
       "  <tbody>\n",
       "    <tr>\n",
       "      <th>0</th>\n",
       "      <td>Naive</td>\n",
       "      <td>BTC</td>\n",
       "      <td>True</td>\n",
       "      <td>N/A</td>\n",
       "      <td>0.160043</td>\n",
       "      <td>0.000000</td>\n",
       "      <td>0.088911</td>\n",
       "      <td>0.000000</td>\n",
       "      <td>0.000000</td>\n",
       "      <td>0.000000</td>\n",
       "      <td>0.0</td>\n",
       "      <td>0.0</td>\n",
       "    </tr>\n",
       "    <tr>\n",
       "      <th>1</th>\n",
       "      <td>Globally Fitted DynamicVWAP Transformer</td>\n",
       "      <td>BTC</td>\n",
       "      <td>True</td>\n",
       "      <td>absolute_vwap_loss</td>\n",
       "      <td>0.103502</td>\n",
       "      <td>0.000642</td>\n",
       "      <td>0.041549</td>\n",
       "      <td>0.000493</td>\n",
       "      <td>-0.343816</td>\n",
       "      <td>0.063788</td>\n",
       "      <td>0.0</td>\n",
       "      <td>0.0</td>\n",
       "    </tr>\n",
       "    <tr>\n",
       "      <th>2</th>\n",
       "      <td>Naive</td>\n",
       "      <td>ETH</td>\n",
       "      <td>False</td>\n",
       "      <td>N/A</td>\n",
       "      <td>0.179140</td>\n",
       "      <td>0.000000</td>\n",
       "      <td>0.117632</td>\n",
       "      <td>0.000000</td>\n",
       "      <td>0.000000</td>\n",
       "      <td>0.000000</td>\n",
       "      <td>0.0</td>\n",
       "      <td>0.0</td>\n",
       "    </tr>\n",
       "    <tr>\n",
       "      <th>3</th>\n",
       "      <td>Globally Fitted DynamicVWAP Transformer</td>\n",
       "      <td>ETH</td>\n",
       "      <td>False</td>\n",
       "      <td>absolute_vwap_loss</td>\n",
       "      <td>0.114969</td>\n",
       "      <td>0.002529</td>\n",
       "      <td>0.054774</td>\n",
       "      <td>0.006967</td>\n",
       "      <td>-0.381977</td>\n",
       "      <td>0.047374</td>\n",
       "      <td>0.0</td>\n",
       "      <td>0.0</td>\n",
       "    </tr>\n",
       "    <tr>\n",
       "      <th>4</th>\n",
       "      <td>Naive</td>\n",
       "      <td>BCH</td>\n",
       "      <td>True</td>\n",
       "      <td>N/A</td>\n",
       "      <td>0.295928</td>\n",
       "      <td>0.000000</td>\n",
       "      <td>0.382944</td>\n",
       "      <td>0.000000</td>\n",
       "      <td>0.000000</td>\n",
       "      <td>0.000000</td>\n",
       "      <td>0.0</td>\n",
       "      <td>0.0</td>\n",
       "    </tr>\n",
       "    <tr>\n",
       "      <th>...</th>\n",
       "      <td>...</td>\n",
       "      <td>...</td>\n",
       "      <td>...</td>\n",
       "      <td>...</td>\n",
       "      <td>...</td>\n",
       "      <td>...</td>\n",
       "      <td>...</td>\n",
       "      <td>...</td>\n",
       "      <td>...</td>\n",
       "      <td>...</td>\n",
       "      <td>...</td>\n",
       "      <td>...</td>\n",
       "    </tr>\n",
       "    <tr>\n",
       "      <th>155</th>\n",
       "      <td>Globally Fitted DynamicVWAP Transformer</td>\n",
       "      <td>CTK</td>\n",
       "      <td>False</td>\n",
       "      <td>absolute_vwap_loss</td>\n",
       "      <td>0.232764</td>\n",
       "      <td>0.003321</td>\n",
       "      <td>0.247628</td>\n",
       "      <td>0.013193</td>\n",
       "      <td>-0.403369</td>\n",
       "      <td>0.006088</td>\n",
       "      <td>0.0</td>\n",
       "      <td>0.0</td>\n",
       "    </tr>\n",
       "    <tr>\n",
       "      <th>156</th>\n",
       "      <td>Naive</td>\n",
       "      <td>UNFI</td>\n",
       "      <td>True</td>\n",
       "      <td>N/A</td>\n",
       "      <td>0.416821</td>\n",
       "      <td>0.000000</td>\n",
       "      <td>0.967334</td>\n",
       "      <td>0.000000</td>\n",
       "      <td>0.000000</td>\n",
       "      <td>0.000000</td>\n",
       "      <td>0.0</td>\n",
       "      <td>0.0</td>\n",
       "    </tr>\n",
       "    <tr>\n",
       "      <th>157</th>\n",
       "      <td>Globally Fitted DynamicVWAP Transformer</td>\n",
       "      <td>UNFI</td>\n",
       "      <td>True</td>\n",
       "      <td>absolute_vwap_loss</td>\n",
       "      <td>0.357463</td>\n",
       "      <td>0.007359</td>\n",
       "      <td>0.743137</td>\n",
       "      <td>0.030235</td>\n",
       "      <td>-0.529852</td>\n",
       "      <td>0.007943</td>\n",
       "      <td>0.0</td>\n",
       "      <td>0.0</td>\n",
       "    </tr>\n",
       "    <tr>\n",
       "      <th>158</th>\n",
       "      <td>Naive</td>\n",
       "      <td>REEF</td>\n",
       "      <td>False</td>\n",
       "      <td>N/A</td>\n",
       "      <td>0.382102</td>\n",
       "      <td>0.000000</td>\n",
       "      <td>0.712378</td>\n",
       "      <td>0.000000</td>\n",
       "      <td>0.000000</td>\n",
       "      <td>0.000000</td>\n",
       "      <td>0.0</td>\n",
       "      <td>0.0</td>\n",
       "    </tr>\n",
       "    <tr>\n",
       "      <th>159</th>\n",
       "      <td>Globally Fitted DynamicVWAP Transformer</td>\n",
       "      <td>REEF</td>\n",
       "      <td>False</td>\n",
       "      <td>absolute_vwap_loss</td>\n",
       "      <td>0.324663</td>\n",
       "      <td>0.001153</td>\n",
       "      <td>0.687593</td>\n",
       "      <td>0.005745</td>\n",
       "      <td>-0.528630</td>\n",
       "      <td>0.013873</td>\n",
       "      <td>0.0</td>\n",
       "      <td>0.0</td>\n",
       "    </tr>\n",
       "  </tbody>\n",
       "</table>\n",
       "<p>160 rows × 12 columns</p>\n",
       "</div>"
      ],
      "text/plain": [
       "                                  model type asset  Training Asset  \\\n",
       "0                                      Naive   BTC            True   \n",
       "1    Globally Fitted DynamicVWAP Transformer   BTC            True   \n",
       "2                                      Naive   ETH           False   \n",
       "3    Globally Fitted DynamicVWAP Transformer   ETH           False   \n",
       "4                                      Naive   BCH            True   \n",
       "..                                       ...   ...             ...   \n",
       "155  Globally Fitted DynamicVWAP Transformer   CTK           False   \n",
       "156                                    Naive  UNFI            True   \n",
       "157  Globally Fitted DynamicVWAP Transformer  UNFI            True   \n",
       "158                                    Naive  REEF           False   \n",
       "159  Globally Fitted DynamicVWAP Transformer  REEF           False   \n",
       "\n",
       "    optimization_function  mean_absolute_vwap_loss  std_absolute_vwap_loss  \\\n",
       "0                     N/A                 0.160043                0.000000   \n",
       "1      absolute_vwap_loss                 0.103502                0.000642   \n",
       "2                     N/A                 0.179140                0.000000   \n",
       "3      absolute_vwap_loss                 0.114969                0.002529   \n",
       "4                     N/A                 0.295928                0.000000   \n",
       "..                    ...                      ...                     ...   \n",
       "155    absolute_vwap_loss                 0.232764                0.003321   \n",
       "156                   N/A                 0.416821                0.000000   \n",
       "157    absolute_vwap_loss                 0.357463                0.007359   \n",
       "158                   N/A                 0.382102                0.000000   \n",
       "159    absolute_vwap_loss                 0.324663                0.001153   \n",
       "\n",
       "     mean_quadratic_vwap_loss  std_quadratic_vwap_loss  mean_r2_volume_curve  \\\n",
       "0                    0.088911                 0.000000              0.000000   \n",
       "1                    0.041549                 0.000493             -0.343816   \n",
       "2                    0.117632                 0.000000              0.000000   \n",
       "3                    0.054774                 0.006967             -0.381977   \n",
       "4                    0.382944                 0.000000              0.000000   \n",
       "..                        ...                      ...                   ...   \n",
       "155                  0.247628                 0.013193             -0.403369   \n",
       "156                  0.967334                 0.000000              0.000000   \n",
       "157                  0.743137                 0.030235             -0.529852   \n",
       "158                  0.712378                 0.000000              0.000000   \n",
       "159                  0.687593                 0.005745             -0.528630   \n",
       "\n",
       "     std_r2_volume_curve  mean_training_time  std_training_time  \n",
       "0               0.000000                 0.0                0.0  \n",
       "1               0.063788                 0.0                0.0  \n",
       "2               0.000000                 0.0                0.0  \n",
       "3               0.047374                 0.0                0.0  \n",
       "4               0.000000                 0.0                0.0  \n",
       "..                   ...                 ...                ...  \n",
       "155             0.006088                 0.0                0.0  \n",
       "156             0.000000                 0.0                0.0  \n",
       "157             0.007943                 0.0                0.0  \n",
       "158             0.000000                 0.0                0.0  \n",
       "159             0.013873                 0.0                0.0  \n",
       "\n",
       "[160 rows x 12 columns]"
      ]
     },
     "metadata": {},
     "output_type": "display_data"
    }
   ],
   "source": [
    "def create_full_comparison(assets, train_assets, lookback, n_ahead, sig_lookback, verbose=True):\n",
    "\n",
    "    BATCH_SIZE = 128 * N_DEVICES\n",
    "    results = {}\n",
    "    loaded_model = {}\n",
    "    optimization_function = absolute_vwap_loss\n",
    "    for target_asset in assets:\n",
    "        for model_type in [\"Naive\", 'Globally Fitted DynamicVWAP Transformer']:\n",
    "\n",
    "            if model_type not in loaded_model:\n",
    "                loaded_model[model_type] = {}\n",
    "            \n",
    "            X_train, X_test, y_train, y_test = full_generate(target_asset, lookback=sig_lookback, n_ahead=n_ahead, include_ahead_inputs = True)\n",
    "            X_train = X_train[:,-lookback-n_ahead+1:]\n",
    "            X_test = X_test[:,-lookback-n_ahead+1:]\n",
    "\n",
    "            val_size = int(len(X_train) * validation_split)\n",
    "            X_val = X_train[-val_size:]\n",
    "            y_val = y_train[-val_size:]\n",
    "            X_train = X_train[:-val_size]\n",
    "            y_train = y_train[:-val_size]\n",
    "            \n",
    "            val_samples = X_val.shape[0]\n",
    "            val_batches = val_samples // BATCH_SIZE\n",
    "            val_samples_adjusted = val_batches * BATCH_SIZE\n",
    "            X_val = X_val[:val_samples_adjusted]\n",
    "            y_val = y_val[:val_samples_adjusted]\n",
    "            \n",
    "            train_samples = X_train.shape[0]\n",
    "            train_batches = train_samples // BATCH_SIZE\n",
    "            train_samples_adjusted = train_batches * BATCH_SIZE\n",
    "            X_train = X_train[:train_samples_adjusted]\n",
    "            y_train = y_train[:train_samples_adjusted]\n",
    "\n",
    "            results_absolute = []\n",
    "            results_quadratic = []\n",
    "            results_volume_curve_r2 = []\n",
    "            training_times = []\n",
    "            all_preds = np.zeros((y_test.shape[0] * N_RUNS, *y_test.shape[1:]))\n",
    "            for run in range(N_RUNS):\n",
    "                training_time = 0\n",
    "                data_parallel = keras.distribution.DataParallel()\n",
    "                keras.distribution.set_distribution(data_parallel)\n",
    "                if model_type=='Globally Fitted DynamicVWAP Transformer':\n",
    "                    keras.distribution.set_distribution(None)\n",
    "                    if run not in loaded_model[model_type]:\n",
    "                        loaded_model[model_type][run] = keras.models.load_model(f'base_dynamic_transformer_model_200_{run}.keras', compile=False)\n",
    "\n",
    "                    model = loaded_model[model_type][run]\n",
    "                    \n",
    "                    naive_preds = np.copy(y_test)\n",
    "                    naive_preds[:,:,0] = 1/n_ahead\n",
    "                    preds = model.predict(X_test, verbose=False)\n",
    "                    \n",
    "                    absolute_model_score = absolute_vwap_loss(y_test, preds)\n",
    "                    quadratic_model_score = quadratic_vwap_loss(y_test, preds)\n",
    "                    r2_volume_curve = r2_score(y_true=(y_test[:,:,0] / np.sum(y_test[:,:,0], axis=1, keepdims=True)).flatten(), \n",
    "                                               y_pred=preds[:,:,0].flatten())\n",
    "                elif model_type=='Naive':\n",
    "                    if optimization_function!=absolute_vwap_loss or run!=0:\n",
    "                        break\n",
    "                    model = None\n",
    "                    training_time = 0\n",
    "                    preds = np.copy(y_test)\n",
    "                    preds[:,:,0] = 1./n_ahead\n",
    "                    absolute_model_score = absolute_vwap_loss(y_test, preds)\n",
    "                    quadratic_model_score = quadratic_vwap_loss(y_test, preds)\n",
    "                    r2_volume_curve = r2_score(y_true=(y_test[:,:,0] / np.sum(y_test[:,:,0], axis=1, keepdims=True)).flatten(), y_pred=preds[:,:,0].flatten())\n",
    "                \n",
    "                else:\n",
    "                    raise ValueError\n",
    "                \n",
    "                all_preds[run * y_test.shape[0]:(run + 1) * y_test.shape[0]] = preds\n",
    "                results_absolute.append(absolute_model_score)\n",
    "                results_quadratic.append(quadratic_model_score)\n",
    "                results_volume_curve_r2.append(r2_volume_curve)\n",
    "                training_times.append(training_time)\n",
    "                \n",
    "                del model\n",
    "    \n",
    "            if model_type not in [\"Asset Fitted DynamicVWAP\", \"Asset Fitted DynamicSigVWAP\",\"Globally Fitted DynamicVWAP Transformer\", \"Globally Fitted DynamicSigVWAP\"] and optimization_function!=absolute_vwap_loss:\n",
    "                continue\n",
    "            if model_type == 'Naive':\n",
    "                all_preds = all_preds[:y_test.shape[0]]\n",
    "                \n",
    "\n",
    "            opt_function_name = optimization_function.__name__\n",
    "\n",
    "            name = f'{model_type} {\"using \" + opt_function_name if model_type in [\"Asset Fitted DynamicVWAP\", \"Asset Fitted DynamicSigVWAP\",\"Globally Fitted DynamicVWAP Transformer\", \"Globally Fitted DynamicSigVWAP\"] else \"\"}: {target_asset}'\n",
    "            #create_aggregated_pred_graph(name, n_ahead, all_preds , absolute_model_score, quadratic_model_score, r2_volume_curve)\n",
    "            \n",
    "            results_absolute = np.array(results_absolute) *1e2\n",
    "            results_quadratic = np.array(results_quadratic) *1e4\n",
    "            results_volume_curve_r2 = np.array(results_volume_curve_r2)\n",
    "            \n",
    "            results[f'{model_type}_{target_asset}_{opt_function_name}'] = {\n",
    "                \"model type\": model_type,\n",
    "                \"asset\": target_asset,\n",
    "                \"Training Asset\": target_asset in train_assets, \n",
    "                \"optimization_function\": opt_function_name if model_type in [\"Asset Fitted DynamicVWAP\", \"Asset Fitted DynamicSigVWAP\",\"Globally Fitted DynamicVWAP Transformer\", \"Globally Fitted DynamicSigVWAP\"] else \"N/A\",\n",
    "                \"mean_absolute_vwap_loss\": np.mean(results_absolute),\n",
    "                \"std_absolute_vwap_loss\": np.std(results_absolute) if model_type in [\"Asset Fitted DynamicVWAP\", \"Asset Fitted DynamicSigVWAP\",\"Globally Fitted DynamicVWAP Transformer\", \"Globally Fitted DynamicSigVWAP\"] else 0,\n",
    "                \"mean_quadratic_vwap_loss\": np.mean(results_quadratic),\n",
    "                \"std_quadratic_vwap_loss\": np.std(results_quadratic) if model_type in [\"Asset Fitted DynamicVWAP\", \"Asset Fitted DynamicSigVWAP\",\"Globally Fitted DynamicVWAP Transformer\", \"Globally Fitted DynamicSigVWAP\"] else 0,\n",
    "                \"mean_r2_volume_curve\": np.mean(results_volume_curve_r2),\n",
    "                \"std_r2_volume_curve\": np.std(results_volume_curve_r2) if model_type in [\"Asset Fitted DynamicVWAP\", \"Asset Fitted DynamicSigVWAP\",\"Globally Fitted DynamicVWAP Transformer\", \"Globally Fitted DynamicSigVWAP\"] else 0,\n",
    "                \"mean_training_time\": np.mean(training_times),\n",
    "                \"std_training_time\": np.std(training_times) if model_type in [\"Asset Fitted DynamicVWAP\", \"Asset Fitted DynamicSigVWAP\",\"Globally Fitted DynamicVWAP Transformer\", \"Globally Fitted DynamicSigVWAP\"] else 0,\n",
    "            }\n",
    "            if verbose:\n",
    "                print(\"Is Train asset: \", target_asset in train_assets)\n",
    "                print(f\"{model_type}_{target_asset}_{opt_function_name}: Mean Training time: {np.mean(training_times):.4f} (±{np.std(training_times):.4f})\")\n",
    "                print(f\"{model_type}_{target_asset}_{opt_function_name}: Mean absolute VWAP loss (1e-2): {np.mean(results_absolute):.4f} (±{np.std(results_absolute):.4f})\")\n",
    "                print(f\"{model_type}_{target_asset}_{opt_function_name}: Mean quadratic VWAP loss (1e-4): {np.mean(results_quadratic):.4f} (±{np.std(results_quadratic):.4f})\")\n",
    "                print(f\"{model_type}_{target_asset}_{opt_function_name}: Mean R2 on volume curve: {np.mean(results_volume_curve_r2):.4f} (±{np.std(results_volume_curve_r2):.4f})\")\n",
    "\n",
    "    # Convert results to a DataFrame\n",
    "    results_df = pd.DataFrame(results.values())\n",
    "    \n",
    "    return results_df\n",
    "\n",
    "\n",
    "results_df = create_full_comparison(assets = all_assets, train_assets = train_assets, lookback = lookback, n_ahead = n_ahead, sig_lookback = sig_lookback, verbose=True)\n",
    "display(results_df)\n",
    "results_df.to_csv(f'full_results_200_transformer_{lookback}_{n_ahead}.csv')"
   ]
  }
 ],
 "metadata": {
  "kernelspec": {
   "display_name": "Python 3 (ipykernel)",
   "language": "python",
   "name": "python3"
  },
  "language_info": {
   "codemirror_mode": {
    "name": "ipython",
    "version": 3
   },
   "file_extension": ".py",
   "mimetype": "text/x-python",
   "name": "python",
   "nbconvert_exporter": "python",
   "pygments_lexer": "ipython3",
   "version": "3.10.12"
  },
  "widgets": {
   "application/vnd.jupyter.widget-state+json": {
    "state": {},
    "version_major": 2,
    "version_minor": 0
   }
  }
 },
 "nbformat": 4,
 "nbformat_minor": 5
}
